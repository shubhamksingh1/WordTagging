{
  "nbformat": 4,
  "nbformat_minor": 0,
  "metadata": {
    "colab": {
      "name": "Similarity_Demo_Data_Overlap_Webex.ipynb",
      "provenance": [],
      "collapsed_sections": [],
      "toc_visible": true,
      "include_colab_link": true
    },
    "kernelspec": {
      "name": "python3",
      "display_name": "Python 3"
    },
    "accelerator": "GPU"
  },
  "cells": [
    {
      "cell_type": "markdown",
      "metadata": {
        "id": "view-in-github",
        "colab_type": "text"
      },
      "source": [
        "<a href=\"https://colab.research.google.com/github/shubhamksingh1/WordTagging/blob/main/SimilarityMatrix/Similarity_Demo_Data_Overlap_Webex.ipynb\" target=\"_parent\"><img src=\"https://colab.research.google.com/assets/colab-badge.svg\" alt=\"Open In Colab\"/></a>"
      ]
    },
    {
      "cell_type": "code",
      "metadata": {
        "id": "LqV65JsZgCEB"
      },
      "source": [
        ""
      ],
      "execution_count": null,
      "outputs": []
    },
    {
      "cell_type": "markdown",
      "metadata": {
        "id": "iCANhGDrgULE"
      },
      "source": [
        "### Mount Drive"
      ]
    },
    {
      "cell_type": "code",
      "metadata": {
        "id": "y_XxXh3JgSwA",
        "outputId": "7222fee9-3aee-4a5e-a5eb-16c2a84a9552",
        "colab": {
          "base_uri": "https://localhost:8080/",
          "height": 122
        }
      },
      "source": [
        "from google.colab import drive\n",
        "drive.mount('/content/drive')"
      ],
      "execution_count": null,
      "outputs": [
        {
          "output_type": "stream",
          "text": [
            "Go to this URL in a browser: https://accounts.google.com/o/oauth2/auth?client_id=947318989803-6bn6qk8qdgf4n4g3pfee6491hc0brc4i.apps.googleusercontent.com&redirect_uri=urn%3aietf%3awg%3aoauth%3a2.0%3aoob&response_type=code&scope=email%20https%3a%2f%2fwww.googleapis.com%2fauth%2fdocs.test%20https%3a%2f%2fwww.googleapis.com%2fauth%2fdrive%20https%3a%2f%2fwww.googleapis.com%2fauth%2fdrive.photos.readonly%20https%3a%2f%2fwww.googleapis.com%2fauth%2fpeopleapi.readonly\n",
            "\n",
            "Enter your authorization code:\n",
            "··········\n",
            "Mounted at /content/drive\n"
          ],
          "name": "stdout"
        }
      ]
    },
    {
      "cell_type": "markdown",
      "metadata": {
        "id": "iiDQRQV_gjw7"
      },
      "source": [
        "### Import Statements"
      ]
    },
    {
      "cell_type": "code",
      "metadata": {
        "id": "CbPDTmTKgXMt"
      },
      "source": [
        "import numpy as np\n",
        "import pandas as pd\n",
        "import re\n",
        "import nltk\n",
        "import matplotlib as plt\n",
        "import sklearn"
      ],
      "execution_count": null,
      "outputs": []
    },
    {
      "cell_type": "code",
      "metadata": {
        "id": "ff0UldE3jnNu",
        "outputId": "5f1fb39a-2049-46b1-8326-fcea268c01cf",
        "colab": {
          "base_uri": "https://localhost:8080/",
          "height": 68
        }
      },
      "source": [
        "nltk.download('stopwords')\n"
      ],
      "execution_count": null,
      "outputs": [
        {
          "output_type": "stream",
          "text": [
            "[nltk_data] Downloading package stopwords to /root/nltk_data...\n",
            "[nltk_data]   Unzipping corpora/stopwords.zip.\n"
          ],
          "name": "stdout"
        },
        {
          "output_type": "execute_result",
          "data": {
            "text/plain": [
              "True"
            ]
          },
          "metadata": {
            "tags": []
          },
          "execution_count": 3
        }
      ]
    },
    {
      "cell_type": "markdown",
      "metadata": {
        "id": "a0jAN1fSgxXA"
      },
      "source": [
        "### Reading the cleaned file of Incident description"
      ]
    },
    {
      "cell_type": "code",
      "metadata": {
        "id": "liOvEVeLgv-7"
      },
      "source": [
        "df_desc = pd.read_csv(\"/content/drive/My Drive/NetworkIncident/df_desc_clean.csv\")"
      ],
      "execution_count": null,
      "outputs": []
    },
    {
      "cell_type": "code",
      "metadata": {
        "id": "Yqgpx5Adg_jn",
        "outputId": "45acab12-2c8d-4ce4-e7db-c97e46ed63b8",
        "colab": {
          "base_uri": "https://localhost:8080/",
          "height": 173
        }
      },
      "source": [
        "df_desc.describe()"
      ],
      "execution_count": null,
      "outputs": [
        {
          "output_type": "execute_result",
          "data": {
            "text/html": [
              "<div>\n",
              "<style scoped>\n",
              "    .dataframe tbody tr th:only-of-type {\n",
              "        vertical-align: middle;\n",
              "    }\n",
              "\n",
              "    .dataframe tbody tr th {\n",
              "        vertical-align: top;\n",
              "    }\n",
              "\n",
              "    .dataframe thead th {\n",
              "        text-align: right;\n",
              "    }\n",
              "</style>\n",
              "<table border=\"1\" class=\"dataframe\">\n",
              "  <thead>\n",
              "    <tr style=\"text-align: right;\">\n",
              "      <th></th>\n",
              "      <th>Description</th>\n",
              "      <th>Subcategory</th>\n",
              "    </tr>\n",
              "  </thead>\n",
              "  <tbody>\n",
              "    <tr>\n",
              "      <th>count</th>\n",
              "      <td>7086</td>\n",
              "      <td>7086</td>\n",
              "    </tr>\n",
              "    <tr>\n",
              "      <th>unique</th>\n",
              "      <td>7086</td>\n",
              "      <td>9</td>\n",
              "    </tr>\n",
              "    <tr>\n",
              "      <th>top</th>\n",
              "      <td>seem internet issues today slow seems ongoing ...</td>\n",
              "      <td>lan</td>\n",
              "    </tr>\n",
              "    <tr>\n",
              "      <th>freq</th>\n",
              "      <td>1</td>\n",
              "      <td>3012</td>\n",
              "    </tr>\n",
              "  </tbody>\n",
              "</table>\n",
              "</div>"
            ],
            "text/plain": [
              "                                              Description Subcategory\n",
              "count                                                7086        7086\n",
              "unique                                               7086           9\n",
              "top     seem internet issues today slow seems ongoing ...         lan\n",
              "freq                                                    1        3012"
            ]
          },
          "metadata": {
            "tags": []
          },
          "execution_count": 5
        }
      ]
    },
    {
      "cell_type": "code",
      "metadata": {
        "id": "_fxjlhLMhDgv",
        "outputId": "48062500-d1d6-409d-8f27-870db0e99729",
        "colab": {
          "base_uri": "https://localhost:8080/",
          "height": 34
        }
      },
      "source": [
        "df_desc.shape"
      ],
      "execution_count": null,
      "outputs": [
        {
          "output_type": "execute_result",
          "data": {
            "text/plain": [
              "(7086, 2)"
            ]
          },
          "metadata": {
            "tags": []
          },
          "execution_count": 6
        }
      ]
    },
    {
      "cell_type": "code",
      "metadata": {
        "id": "W722WI1ehFQK",
        "outputId": "f2456332-5cc1-4742-9dbd-05fa97cc9668",
        "colab": {
          "base_uri": "https://localhost:8080/",
          "height": 204
        }
      },
      "source": [
        "df_desc.head()"
      ],
      "execution_count": null,
      "outputs": [
        {
          "output_type": "execute_result",
          "data": {
            "text/html": [
              "<div>\n",
              "<style scoped>\n",
              "    .dataframe tbody tr th:only-of-type {\n",
              "        vertical-align: middle;\n",
              "    }\n",
              "\n",
              "    .dataframe tbody tr th {\n",
              "        vertical-align: top;\n",
              "    }\n",
              "\n",
              "    .dataframe thead th {\n",
              "        text-align: right;\n",
              "    }\n",
              "</style>\n",
              "<table border=\"1\" class=\"dataframe\">\n",
              "  <thead>\n",
              "    <tr style=\"text-align: right;\">\n",
              "      <th></th>\n",
              "      <th>Description</th>\n",
              "      <th>Subcategory</th>\n",
              "    </tr>\n",
              "  </thead>\n",
              "  <tbody>\n",
              "    <tr>\n",
              "      <th>0</th>\n",
              "      <td>impossible connect ssid lh eu mobile user conn...</td>\n",
              "      <td>wifi</td>\n",
              "    </tr>\n",
              "    <tr>\n",
              "      <th>1</th>\n",
              "      <td>establishment local printer network laboratory...</td>\n",
              "      <td>lan</td>\n",
              "    </tr>\n",
              "    <tr>\n",
              "      <th>2</th>\n",
              "      <td>tools cannot opened due lock data protection s...</td>\n",
              "      <td>lan</td>\n",
              "    </tr>\n",
              "    <tr>\n",
              "      <th>3</th>\n",
              "      <td>user called unable access internet say message...</td>\n",
              "      <td>lan</td>\n",
              "    </tr>\n",
              "    <tr>\n",
              "      <th>4</th>\n",
              "      <td>frbl lp access lafarge applications frbl lp ac...</td>\n",
              "      <td>lan</td>\n",
              "    </tr>\n",
              "  </tbody>\n",
              "</table>\n",
              "</div>"
            ],
            "text/plain": [
              "                                         Description Subcategory\n",
              "0  impossible connect ssid lh eu mobile user conn...        wifi\n",
              "1  establishment local printer network laboratory...         lan\n",
              "2  tools cannot opened due lock data protection s...         lan\n",
              "3  user called unable access internet say message...         lan\n",
              "4  frbl lp access lafarge applications frbl lp ac...         lan"
            ]
          },
          "metadata": {
            "tags": []
          },
          "execution_count": 7
        }
      ]
    },
    {
      "cell_type": "code",
      "metadata": {
        "id": "jRoyqMHzhKNx",
        "outputId": "e34b1b01-43bd-4482-8299-cace0e36abb5",
        "colab": {
          "base_uri": "https://localhost:8080/",
          "height": 204
        }
      },
      "source": [
        "df_desc.tail()"
      ],
      "execution_count": null,
      "outputs": [
        {
          "output_type": "execute_result",
          "data": {
            "text/html": [
              "<div>\n",
              "<style scoped>\n",
              "    .dataframe tbody tr th:only-of-type {\n",
              "        vertical-align: middle;\n",
              "    }\n",
              "\n",
              "    .dataframe tbody tr th {\n",
              "        vertical-align: top;\n",
              "    }\n",
              "\n",
              "    .dataframe thead th {\n",
              "        text-align: right;\n",
              "    }\n",
              "</style>\n",
              "<table border=\"1\" class=\"dataframe\">\n",
              "  <thead>\n",
              "    <tr style=\"text-align: right;\">\n",
              "      <th></th>\n",
              "      <th>Description</th>\n",
              "      <th>Subcategory</th>\n",
              "    </tr>\n",
              "  </thead>\n",
              "  <tbody>\n",
              "    <tr>\n",
              "      <th>7081</th>\n",
              "      <td>pb connection wifi cable internet network pb c...</td>\n",
              "      <td>wifi</td>\n",
              "    </tr>\n",
              "    <tr>\n",
              "      <th>7082</th>\n",
              "      <td>guests cannot connect wi fi guest house cannot...</td>\n",
              "      <td>wifi</td>\n",
              "    </tr>\n",
              "    <tr>\n",
              "      <th>7083</th>\n",
              "      <td>la fare les oliviers site granulate connection...</td>\n",
              "      <td>wifi</td>\n",
              "    </tr>\n",
              "    <tr>\n",
              "      <th>7084</th>\n",
              "      <td>user trying test vpn see wifi connections asse...</td>\n",
              "      <td>wifi</td>\n",
              "    </tr>\n",
              "    <tr>\n",
              "      <th>7085</th>\n",
              "      <td>connect network holcim public internet access ...</td>\n",
              "      <td>wifi</td>\n",
              "    </tr>\n",
              "  </tbody>\n",
              "</table>\n",
              "</div>"
            ],
            "text/plain": [
              "                                            Description Subcategory\n",
              "7081  pb connection wifi cable internet network pb c...        wifi\n",
              "7082  guests cannot connect wi fi guest house cannot...        wifi\n",
              "7083  la fare les oliviers site granulate connection...        wifi\n",
              "7084  user trying test vpn see wifi connections asse...        wifi\n",
              "7085  connect network holcim public internet access ...        wifi"
            ]
          },
          "metadata": {
            "tags": []
          },
          "execution_count": 8
        }
      ]
    },
    {
      "cell_type": "code",
      "metadata": {
        "id": "QpTcvgs8iqjv",
        "outputId": "753ad093-ff40-4afb-9e4e-04febc4d544f",
        "colab": {
          "base_uri": "https://localhost:8080/",
          "height": 238
        }
      },
      "source": [
        "print('\\nFrequency distribution of unique values => \\n\\n'+ str(df_desc['Subcategory'].value_counts(dropna=False).sort_values(ascending = False)))"
      ],
      "execution_count": null,
      "outputs": [
        {
          "output_type": "stream",
          "text": [
            "\n",
            "Frequency distribution of unique values => \n",
            "\n",
            "lan                         3012\n",
            "proxy pac                   1306\n",
            "internet                     925\n",
            "wifi                         848\n",
            "other                        633\n",
            "remote access                203\n",
            "wan                          157\n",
            "browser                        1\n",
            "laptops desktops tablets       1\n",
            "Name: Subcategory, dtype: int64\n"
          ],
          "name": "stdout"
        }
      ]
    },
    {
      "cell_type": "code",
      "metadata": {
        "id": "NjfAJlb1hjdC"
      },
      "source": [
        "d1 = df_desc.groupby(df_desc['Subcategory'])['Description'].apply(', '.join).reset_index()"
      ],
      "execution_count": null,
      "outputs": []
    },
    {
      "cell_type": "code",
      "metadata": {
        "id": "R3b36GTQibJQ",
        "outputId": "2a39ec07-c1ef-4200-da63-a8e6ae72e592",
        "colab": {
          "base_uri": "https://localhost:8080/",
          "height": 328
        }
      },
      "source": [
        "d1"
      ],
      "execution_count": null,
      "outputs": [
        {
          "output_type": "execute_result",
          "data": {
            "text/html": [
              "<div>\n",
              "<style scoped>\n",
              "    .dataframe tbody tr th:only-of-type {\n",
              "        vertical-align: middle;\n",
              "    }\n",
              "\n",
              "    .dataframe tbody tr th {\n",
              "        vertical-align: top;\n",
              "    }\n",
              "\n",
              "    .dataframe thead th {\n",
              "        text-align: right;\n",
              "    }\n",
              "</style>\n",
              "<table border=\"1\" class=\"dataframe\">\n",
              "  <thead>\n",
              "    <tr style=\"text-align: right;\">\n",
              "      <th></th>\n",
              "      <th>Subcategory</th>\n",
              "      <th>Description</th>\n",
              "    </tr>\n",
              "  </thead>\n",
              "  <tbody>\n",
              "    <tr>\n",
              "      <th>0</th>\n",
              "      <td>browser</td>\n",
              "      <td>access mail slow access mail slow</td>\n",
              "    </tr>\n",
              "    <tr>\n",
              "      <th>1</th>\n",
              "      <td>internet</td>\n",
              "      <td>contact wifi northend weeks whole site cable w...</td>\n",
              "    </tr>\n",
              "    <tr>\n",
              "      <th>2</th>\n",
              "      <td>lan</td>\n",
              "      <td>establishment local printer network laboratory...</td>\n",
              "    </tr>\n",
              "    <tr>\n",
              "      <th>3</th>\n",
              "      <td>laptops desktops tablets</td>\n",
              "      <td>mr schneider always receives error message wan...</td>\n",
              "    </tr>\n",
              "    <tr>\n",
              "      <th>4</th>\n",
              "      <td>other</td>\n",
              "      <td>cleanup disk cleanup disk, issue vpn issue vpn...</td>\n",
              "    </tr>\n",
              "    <tr>\n",
              "      <th>5</th>\n",
              "      <td>proxy pac</td>\n",
              "      <td>internet access internet access, hello everyon...</td>\n",
              "    </tr>\n",
              "    <tr>\n",
              "      <th>6</th>\n",
              "      <td>remote access</td>\n",
              "      <td>external user conmm access via vpn external us...</td>\n",
              "    </tr>\n",
              "    <tr>\n",
              "      <th>7</th>\n",
              "      <td>wan</td>\n",
              "      <td>level inspection unloading, hello coming back...</td>\n",
              "    </tr>\n",
              "    <tr>\n",
              "      <th>8</th>\n",
              "      <td>wifi</td>\n",
              "      <td>impossible connect ssid lh eu mobile user conn...</td>\n",
              "    </tr>\n",
              "  </tbody>\n",
              "</table>\n",
              "</div>"
            ],
            "text/plain": [
              "                Subcategory                                        Description\n",
              "0                   browser                  access mail slow access mail slow\n",
              "1                  internet  contact wifi northend weeks whole site cable w...\n",
              "2                       lan  establishment local printer network laboratory...\n",
              "3  laptops desktops tablets  mr schneider always receives error message wan...\n",
              "4                     other  cleanup disk cleanup disk, issue vpn issue vpn...\n",
              "5                 proxy pac  internet access internet access, hello everyon...\n",
              "6             remote access  external user conmm access via vpn external us...\n",
              "7                       wan   level inspection unloading, hello coming back...\n",
              "8                      wifi  impossible connect ssid lh eu mobile user conn..."
            ]
          },
          "metadata": {
            "tags": []
          },
          "execution_count": 11
        }
      ]
    },
    {
      "cell_type": "code",
      "metadata": {
        "id": "DiB-HXhrkO6L"
      },
      "source": [
        "from nltk.stem.snowball import SnowballStemmer\n",
        "from nltk.corpus import stopwords\n",
        "ss = SnowballStemmer(\"english\", ignore_stopwords=True)\n",
        "stop = set(stopwords.words(\"english\"))"
      ],
      "execution_count": null,
      "outputs": []
    },
    {
      "cell_type": "code",
      "metadata": {
        "id": "5G7gNexXijge"
      },
      "source": [
        "def cleaning_text(inp):\n",
        "    corpus = []\n",
        "    reply = re.sub('[^a-zA-Z0-9]', ' ', str(inp))\n",
        "    reply = reply.lower()\n",
        "    reply = reply.split()\n",
        "    reply = [ss.stem(word) for word in reply if not word in set(stop)]\n",
        "    reply = list(set(reply))\n",
        "    return reply"
      ],
      "execution_count": null,
      "outputs": []
    },
    {
      "cell_type": "code",
      "metadata": {
        "id": "sW37b8GRkJyK"
      },
      "source": [
        "d1['Description'] = d1['Description'].apply(lambda x: cleaning_text(x))"
      ],
      "execution_count": null,
      "outputs": []
    },
    {
      "cell_type": "code",
      "metadata": {
        "id": "JhIsQdZwki6k",
        "outputId": "af75cecb-a7d2-4202-c38b-6487f0dc9cbe",
        "colab": {
          "base_uri": "https://localhost:8080/",
          "height": 328
        }
      },
      "source": [
        "d1"
      ],
      "execution_count": null,
      "outputs": [
        {
          "output_type": "execute_result",
          "data": {
            "text/html": [
              "<div>\n",
              "<style scoped>\n",
              "    .dataframe tbody tr th:only-of-type {\n",
              "        vertical-align: middle;\n",
              "    }\n",
              "\n",
              "    .dataframe tbody tr th {\n",
              "        vertical-align: top;\n",
              "    }\n",
              "\n",
              "    .dataframe thead th {\n",
              "        text-align: right;\n",
              "    }\n",
              "</style>\n",
              "<table border=\"1\" class=\"dataframe\">\n",
              "  <thead>\n",
              "    <tr style=\"text-align: right;\">\n",
              "      <th></th>\n",
              "      <th>Subcategory</th>\n",
              "      <th>Description</th>\n",
              "    </tr>\n",
              "  </thead>\n",
              "  <tbody>\n",
              "    <tr>\n",
              "      <th>0</th>\n",
              "      <td>browser</td>\n",
              "      <td>[mail, access, slow]</td>\n",
              "    </tr>\n",
              "    <tr>\n",
              "      <th>1</th>\n",
              "      <td>internet</td>\n",
              "      <td>[purley, everyon, almost, unplug, count, throu...</td>\n",
              "    </tr>\n",
              "    <tr>\n",
              "      <th>2</th>\n",
              "      <td>lan</td>\n",
              "      <td>[francoi, bbrc, wellan, aarschot, xp, shala, l...</td>\n",
              "    </tr>\n",
              "    <tr>\n",
              "      <th>3</th>\n",
              "      <td>laptops desktops tablets</td>\n",
              "      <td>[pleas, otherwis, made, error, messag, noteboo...</td>\n",
              "    </tr>\n",
              "    <tr>\n",
              "      <th>4</th>\n",
              "      <td>other</td>\n",
              "      <td>[david, isdn, unplug, everyon, bousaada, count...</td>\n",
              "    </tr>\n",
              "    <tr>\n",
              "      <th>5</th>\n",
              "      <td>proxy pac</td>\n",
              "      <td>[everyon, scope, almost, triton, difficulti, u...</td>\n",
              "    </tr>\n",
              "    <tr>\n",
              "      <th>6</th>\n",
              "      <td>remote access</td>\n",
              "      <td>[rheinzabern, qvp, sand, keep, entgeltabrechnu...</td>\n",
              "    </tr>\n",
              "    <tr>\n",
              "      <th>7</th>\n",
              "      <td>wan</td>\n",
              "      <td>[sunil, unplug, adress, win, creation, keep, a...</td>\n",
              "    </tr>\n",
              "    <tr>\n",
              "      <th>8</th>\n",
              "      <td>wifi</td>\n",
              "      <td>[purley, everyon, almost, freder, hoilday, dos...</td>\n",
              "    </tr>\n",
              "  </tbody>\n",
              "</table>\n",
              "</div>"
            ],
            "text/plain": [
              "                Subcategory                                        Description\n",
              "0                   browser                               [mail, access, slow]\n",
              "1                  internet  [purley, everyon, almost, unplug, count, throu...\n",
              "2                       lan  [francoi, bbrc, wellan, aarschot, xp, shala, l...\n",
              "3  laptops desktops tablets  [pleas, otherwis, made, error, messag, noteboo...\n",
              "4                     other  [david, isdn, unplug, everyon, bousaada, count...\n",
              "5                 proxy pac  [everyon, scope, almost, triton, difficulti, u...\n",
              "6             remote access  [rheinzabern, qvp, sand, keep, entgeltabrechnu...\n",
              "7                       wan  [sunil, unplug, adress, win, creation, keep, a...\n",
              "8                      wifi  [purley, everyon, almost, freder, hoilday, dos..."
            ]
          },
          "metadata": {
            "tags": []
          },
          "execution_count": 15
        }
      ]
    },
    {
      "cell_type": "code",
      "metadata": {
        "id": "01_de3cykrd6",
        "outputId": "55a0b63e-1544-4e2b-88ce-9bdc542bfb79",
        "colab": {
          "base_uri": "https://localhost:8080/",
          "height": 51
        }
      },
      "source": [
        "d1['Subcategory'].values"
      ],
      "execution_count": null,
      "outputs": [
        {
          "output_type": "execute_result",
          "data": {
            "text/plain": [
              "array(['browser', 'internet', 'lan', 'laptops desktops tablets', 'other',\n",
              "       'proxy pac', 'remote access', 'wan', 'wifi'], dtype=object)"
            ]
          },
          "metadata": {
            "tags": []
          },
          "execution_count": 16
        }
      ]
    },
    {
      "cell_type": "code",
      "metadata": {
        "id": "OGZzh5Rsk4iQ"
      },
      "source": [
        "df = pd.DataFrame(index=d1['Subcategory'].values, columns=d1['Subcategory'].values)\n",
        "df = df.fillna(0)"
      ],
      "execution_count": null,
      "outputs": []
    },
    {
      "cell_type": "code",
      "metadata": {
        "id": "sVGN89UulB7S",
        "outputId": "77eaff07-2604-48eb-f0aa-167f1f588f72",
        "colab": {
          "base_uri": "https://localhost:8080/",
          "height": 328
        }
      },
      "source": [
        "df"
      ],
      "execution_count": null,
      "outputs": [
        {
          "output_type": "execute_result",
          "data": {
            "text/html": [
              "<div>\n",
              "<style scoped>\n",
              "    .dataframe tbody tr th:only-of-type {\n",
              "        vertical-align: middle;\n",
              "    }\n",
              "\n",
              "    .dataframe tbody tr th {\n",
              "        vertical-align: top;\n",
              "    }\n",
              "\n",
              "    .dataframe thead th {\n",
              "        text-align: right;\n",
              "    }\n",
              "</style>\n",
              "<table border=\"1\" class=\"dataframe\">\n",
              "  <thead>\n",
              "    <tr style=\"text-align: right;\">\n",
              "      <th></th>\n",
              "      <th>browser</th>\n",
              "      <th>internet</th>\n",
              "      <th>lan</th>\n",
              "      <th>laptops desktops tablets</th>\n",
              "      <th>other</th>\n",
              "      <th>proxy pac</th>\n",
              "      <th>remote access</th>\n",
              "      <th>wan</th>\n",
              "      <th>wifi</th>\n",
              "    </tr>\n",
              "  </thead>\n",
              "  <tbody>\n",
              "    <tr>\n",
              "      <th>browser</th>\n",
              "      <td>0</td>\n",
              "      <td>0</td>\n",
              "      <td>0</td>\n",
              "      <td>0</td>\n",
              "      <td>0</td>\n",
              "      <td>0</td>\n",
              "      <td>0</td>\n",
              "      <td>0</td>\n",
              "      <td>0</td>\n",
              "    </tr>\n",
              "    <tr>\n",
              "      <th>internet</th>\n",
              "      <td>0</td>\n",
              "      <td>0</td>\n",
              "      <td>0</td>\n",
              "      <td>0</td>\n",
              "      <td>0</td>\n",
              "      <td>0</td>\n",
              "      <td>0</td>\n",
              "      <td>0</td>\n",
              "      <td>0</td>\n",
              "    </tr>\n",
              "    <tr>\n",
              "      <th>lan</th>\n",
              "      <td>0</td>\n",
              "      <td>0</td>\n",
              "      <td>0</td>\n",
              "      <td>0</td>\n",
              "      <td>0</td>\n",
              "      <td>0</td>\n",
              "      <td>0</td>\n",
              "      <td>0</td>\n",
              "      <td>0</td>\n",
              "    </tr>\n",
              "    <tr>\n",
              "      <th>laptops desktops tablets</th>\n",
              "      <td>0</td>\n",
              "      <td>0</td>\n",
              "      <td>0</td>\n",
              "      <td>0</td>\n",
              "      <td>0</td>\n",
              "      <td>0</td>\n",
              "      <td>0</td>\n",
              "      <td>0</td>\n",
              "      <td>0</td>\n",
              "    </tr>\n",
              "    <tr>\n",
              "      <th>other</th>\n",
              "      <td>0</td>\n",
              "      <td>0</td>\n",
              "      <td>0</td>\n",
              "      <td>0</td>\n",
              "      <td>0</td>\n",
              "      <td>0</td>\n",
              "      <td>0</td>\n",
              "      <td>0</td>\n",
              "      <td>0</td>\n",
              "    </tr>\n",
              "    <tr>\n",
              "      <th>proxy pac</th>\n",
              "      <td>0</td>\n",
              "      <td>0</td>\n",
              "      <td>0</td>\n",
              "      <td>0</td>\n",
              "      <td>0</td>\n",
              "      <td>0</td>\n",
              "      <td>0</td>\n",
              "      <td>0</td>\n",
              "      <td>0</td>\n",
              "    </tr>\n",
              "    <tr>\n",
              "      <th>remote access</th>\n",
              "      <td>0</td>\n",
              "      <td>0</td>\n",
              "      <td>0</td>\n",
              "      <td>0</td>\n",
              "      <td>0</td>\n",
              "      <td>0</td>\n",
              "      <td>0</td>\n",
              "      <td>0</td>\n",
              "      <td>0</td>\n",
              "    </tr>\n",
              "    <tr>\n",
              "      <th>wan</th>\n",
              "      <td>0</td>\n",
              "      <td>0</td>\n",
              "      <td>0</td>\n",
              "      <td>0</td>\n",
              "      <td>0</td>\n",
              "      <td>0</td>\n",
              "      <td>0</td>\n",
              "      <td>0</td>\n",
              "      <td>0</td>\n",
              "    </tr>\n",
              "    <tr>\n",
              "      <th>wifi</th>\n",
              "      <td>0</td>\n",
              "      <td>0</td>\n",
              "      <td>0</td>\n",
              "      <td>0</td>\n",
              "      <td>0</td>\n",
              "      <td>0</td>\n",
              "      <td>0</td>\n",
              "      <td>0</td>\n",
              "      <td>0</td>\n",
              "    </tr>\n",
              "  </tbody>\n",
              "</table>\n",
              "</div>"
            ],
            "text/plain": [
              "                          browser  internet  lan  ...  remote access  wan  wifi\n",
              "browser                         0         0    0  ...              0    0     0\n",
              "internet                        0         0    0  ...              0    0     0\n",
              "lan                             0         0    0  ...              0    0     0\n",
              "laptops desktops tablets        0         0    0  ...              0    0     0\n",
              "other                           0         0    0  ...              0    0     0\n",
              "proxy pac                       0         0    0  ...              0    0     0\n",
              "remote access                   0         0    0  ...              0    0     0\n",
              "wan                             0         0    0  ...              0    0     0\n",
              "wifi                            0         0    0  ...              0    0     0\n",
              "\n",
              "[9 rows x 9 columns]"
            ]
          },
          "metadata": {
            "tags": []
          },
          "execution_count": 18
        }
      ]
    },
    {
      "cell_type": "code",
      "metadata": {
        "id": "fnGRlFublC0T"
      },
      "source": [
        "for i in range(len(d1['Subcategory'])):\n",
        "    for j in range(len(d1['Subcategory'])):\n",
        "        len_i = len(d1['Description'][i])\n",
        "        set_A = set(d1['Description'][i])\n",
        "        set_B = set(d1['Description'][j])\n",
        "        common = len(set_A&set_B)\n",
        "        similarity = common/len_i\n",
        "        similarity = similarity * 100\n",
        "        if df[d1['Subcategory'][j]][d1['Subcategory'][i]] == 0:\n",
        "            df[d1['Subcategory'][j]][d1['Subcategory'][i]] = similarity"
      ],
      "execution_count": null,
      "outputs": []
    },
    {
      "cell_type": "code",
      "metadata": {
        "id": "rqGro44cllUo",
        "outputId": "a296d492-f880-4cf9-b454-b2b2b4760b1d",
        "colab": {
          "base_uri": "https://localhost:8080/",
          "height": 328
        }
      },
      "source": [
        "df"
      ],
      "execution_count": null,
      "outputs": [
        {
          "output_type": "execute_result",
          "data": {
            "text/html": [
              "<div>\n",
              "<style scoped>\n",
              "    .dataframe tbody tr th:only-of-type {\n",
              "        vertical-align: middle;\n",
              "    }\n",
              "\n",
              "    .dataframe tbody tr th {\n",
              "        vertical-align: top;\n",
              "    }\n",
              "\n",
              "    .dataframe thead th {\n",
              "        text-align: right;\n",
              "    }\n",
              "</style>\n",
              "<table border=\"1\" class=\"dataframe\">\n",
              "  <thead>\n",
              "    <tr style=\"text-align: right;\">\n",
              "      <th></th>\n",
              "      <th>browser</th>\n",
              "      <th>internet</th>\n",
              "      <th>lan</th>\n",
              "      <th>laptops desktops tablets</th>\n",
              "      <th>other</th>\n",
              "      <th>proxy pac</th>\n",
              "      <th>remote access</th>\n",
              "      <th>wan</th>\n",
              "      <th>wifi</th>\n",
              "    </tr>\n",
              "  </thead>\n",
              "  <tbody>\n",
              "    <tr>\n",
              "      <th>browser</th>\n",
              "      <td>100</td>\n",
              "      <td>100</td>\n",
              "      <td>100</td>\n",
              "      <td>33</td>\n",
              "      <td>100</td>\n",
              "      <td>100</td>\n",
              "      <td>66</td>\n",
              "      <td>100</td>\n",
              "      <td>100</td>\n",
              "    </tr>\n",
              "    <tr>\n",
              "      <th>internet</th>\n",
              "      <td>0</td>\n",
              "      <td>100</td>\n",
              "      <td>67</td>\n",
              "      <td>1</td>\n",
              "      <td>25</td>\n",
              "      <td>24</td>\n",
              "      <td>17</td>\n",
              "      <td>26</td>\n",
              "      <td>42</td>\n",
              "    </tr>\n",
              "    <tr>\n",
              "      <th>lan</th>\n",
              "      <td>0</td>\n",
              "      <td>31</td>\n",
              "      <td>100</td>\n",
              "      <td>0</td>\n",
              "      <td>14</td>\n",
              "      <td>13</td>\n",
              "      <td>9</td>\n",
              "      <td>15</td>\n",
              "      <td>26</td>\n",
              "    </tr>\n",
              "    <tr>\n",
              "      <th>laptops desktops tablets</th>\n",
              "      <td>3</td>\n",
              "      <td>90</td>\n",
              "      <td>96</td>\n",
              "      <td>100</td>\n",
              "      <td>75</td>\n",
              "      <td>72</td>\n",
              "      <td>72</td>\n",
              "      <td>78</td>\n",
              "      <td>90</td>\n",
              "    </tr>\n",
              "    <tr>\n",
              "      <th>other</th>\n",
              "      <td>0</td>\n",
              "      <td>54</td>\n",
              "      <td>67</td>\n",
              "      <td>1</td>\n",
              "      <td>100</td>\n",
              "      <td>42</td>\n",
              "      <td>25</td>\n",
              "      <td>38</td>\n",
              "      <td>49</td>\n",
              "    </tr>\n",
              "    <tr>\n",
              "      <th>proxy pac</th>\n",
              "      <td>0</td>\n",
              "      <td>51</td>\n",
              "      <td>59</td>\n",
              "      <td>1</td>\n",
              "      <td>41</td>\n",
              "      <td>100</td>\n",
              "      <td>24</td>\n",
              "      <td>34</td>\n",
              "      <td>44</td>\n",
              "    </tr>\n",
              "    <tr>\n",
              "      <th>remote access</th>\n",
              "      <td>0</td>\n",
              "      <td>57</td>\n",
              "      <td>70</td>\n",
              "      <td>2</td>\n",
              "      <td>41</td>\n",
              "      <td>40</td>\n",
              "      <td>100</td>\n",
              "      <td>39</td>\n",
              "      <td>54</td>\n",
              "    </tr>\n",
              "    <tr>\n",
              "      <th>wan</th>\n",
              "      <td>0</td>\n",
              "      <td>58</td>\n",
              "      <td>73</td>\n",
              "      <td>2</td>\n",
              "      <td>40</td>\n",
              "      <td>36</td>\n",
              "      <td>25</td>\n",
              "      <td>100</td>\n",
              "      <td>50</td>\n",
              "    </tr>\n",
              "    <tr>\n",
              "      <th>wifi</th>\n",
              "      <td>0</td>\n",
              "      <td>54</td>\n",
              "      <td>73</td>\n",
              "      <td>1</td>\n",
              "      <td>29</td>\n",
              "      <td>27</td>\n",
              "      <td>20</td>\n",
              "      <td>29</td>\n",
              "      <td>100</td>\n",
              "    </tr>\n",
              "  </tbody>\n",
              "</table>\n",
              "</div>"
            ],
            "text/plain": [
              "                          browser  internet  lan  ...  remote access  wan  wifi\n",
              "browser                       100       100  100  ...             66  100   100\n",
              "internet                        0       100   67  ...             17   26    42\n",
              "lan                             0        31  100  ...              9   15    26\n",
              "laptops desktops tablets        3        90   96  ...             72   78    90\n",
              "other                           0        54   67  ...             25   38    49\n",
              "proxy pac                       0        51   59  ...             24   34    44\n",
              "remote access                   0        57   70  ...            100   39    54\n",
              "wan                             0        58   73  ...             25  100    50\n",
              "wifi                            0        54   73  ...             20   29   100\n",
              "\n",
              "[9 rows x 9 columns]"
            ]
          },
          "metadata": {
            "tags": []
          },
          "execution_count": 20
        }
      ]
    },
    {
      "cell_type": "code",
      "metadata": {
        "id": "PCEoHsVQq4ZO"
      },
      "source": [
        "df.to_csv('/content/drive/My Drive/Webex_Demo/NetworkIncident/desc_clean_similarity.csv',index = False)"
      ],
      "execution_count": null,
      "outputs": []
    },
    {
      "cell_type": "markdown",
      "metadata": {
        "id": "rrNO6aywqrSa"
      },
      "source": [
        "### Below Cells just explain how to calculate the one particular value of the loop"
      ]
    },
    {
      "cell_type": "code",
      "metadata": {
        "id": "M6cRtpOumwGQ"
      },
      "source": [
        "cat1list = list(d1[d1['Subcategory']==\"browser\"]['Description'])[0]"
      ],
      "execution_count": null,
      "outputs": []
    },
    {
      "cell_type": "code",
      "metadata": {
        "id": "cQHDDPjNNU67",
        "outputId": "24916b5a-44ed-4a05-86d3-56800ff649f7",
        "colab": {
          "base_uri": "https://localhost:8080/",
          "height": 34
        }
      },
      "source": [
        "cat1list"
      ],
      "execution_count": null,
      "outputs": [
        {
          "output_type": "execute_result",
          "data": {
            "text/plain": [
              "['mail', 'access', 'slow']"
            ]
          },
          "metadata": {
            "tags": []
          },
          "execution_count": 23
        }
      ]
    },
    {
      "cell_type": "code",
      "metadata": {
        "id": "DUJW5LAHn_cz"
      },
      "source": [
        "cat2list = list(d1[d1['Subcategory']==\"internet\"]['Description'])[0]"
      ],
      "execution_count": null,
      "outputs": []
    },
    {
      "cell_type": "code",
      "metadata": {
        "id": "5YuJvQB0ocEc"
      },
      "source": [
        "cat1set = set(cat1list)"
      ],
      "execution_count": null,
      "outputs": []
    },
    {
      "cell_type": "code",
      "metadata": {
        "id": "NhO3UjeHokrt"
      },
      "source": [
        "cat2set = set(cat2list)"
      ],
      "execution_count": null,
      "outputs": []
    },
    {
      "cell_type": "code",
      "metadata": {
        "id": "FoBOBW_ToMPs",
        "outputId": "27025ce0-0f00-4f5a-b5c4-010ed11e207e",
        "colab": {
          "base_uri": "https://localhost:8080/",
          "height": 34
        }
      },
      "source": [
        "len(cat1set),len(cat2set)"
      ],
      "execution_count": null,
      "outputs": [
        {
          "output_type": "execute_result",
          "data": {
            "text/plain": [
              "(3, 2788)"
            ]
          },
          "metadata": {
            "tags": []
          },
          "execution_count": 28
        }
      ]
    },
    {
      "cell_type": "code",
      "metadata": {
        "id": "n9N2yUKWpPEZ",
        "outputId": "19a61185-4408-4070-f7b7-9dc2040b3ecb",
        "colab": {
          "base_uri": "https://localhost:8080/",
          "height": 34
        }
      },
      "source": [
        "len(cat1set & cat2set)"
      ],
      "execution_count": null,
      "outputs": [
        {
          "output_type": "execute_result",
          "data": {
            "text/plain": [
              "3"
            ]
          },
          "metadata": {
            "tags": []
          },
          "execution_count": 29
        }
      ]
    },
    {
      "cell_type": "code",
      "metadata": {
        "id": "Yh2Loqfmnwf6"
      },
      "source": [
        "common_ele = cat1set & cat2set"
      ],
      "execution_count": null,
      "outputs": []
    },
    {
      "cell_type": "code",
      "metadata": {
        "id": "SSOFbvccn4Gg",
        "outputId": "b65ee8b4-7013-46f5-8ce0-68d9dfa695d4",
        "colab": {
          "base_uri": "https://localhost:8080/",
          "height": 34
        }
      },
      "source": [
        "common_ele"
      ],
      "execution_count": null,
      "outputs": [
        {
          "output_type": "execute_result",
          "data": {
            "text/plain": [
              "{'access', 'mail', 'slow'}"
            ]
          },
          "metadata": {
            "tags": []
          },
          "execution_count": 31
        }
      ]
    },
    {
      "cell_type": "code",
      "metadata": {
        "id": "o0QoOcddpdHi",
        "outputId": "d5eed127-03ac-4bfb-a190-e78deb16b669",
        "colab": {
          "base_uri": "https://localhost:8080/",
          "height": 34
        }
      },
      "source": [
        "3 /3 * 100"
      ],
      "execution_count": null,
      "outputs": [
        {
          "output_type": "execute_result",
          "data": {
            "text/plain": [
              "100.0"
            ]
          },
          "metadata": {
            "tags": []
          },
          "execution_count": 32
        }
      ]
    },
    {
      "cell_type": "markdown",
      "metadata": {
        "id": "9774bKMILNIS"
      },
      "source": [
        "### Cosine Similarities between category"
      ]
    },
    {
      "cell_type": "code",
      "metadata": {
        "id": "sMydSqfJFlzb"
      },
      "source": [
        "from sklearn.feature_extraction.text import TfidfVectorizer"
      ],
      "execution_count": null,
      "outputs": []
    },
    {
      "cell_type": "code",
      "metadata": {
        "id": "4NnVtTPBIclg"
      },
      "source": [
        "from sklearn.metrics.pairwise import cosine_similarity"
      ],
      "execution_count": null,
      "outputs": []
    },
    {
      "cell_type": "code",
      "metadata": {
        "id": "p6Cky5WUHmvU"
      },
      "source": [
        "def compute_similarity(str1,str2):\n",
        "    train = [str1,str2]\n",
        "    #Define a Count Vectorizer Object\n",
        "    vector = TfidfVectorizer()\n",
        "\n",
        "    #Construct the required TF-IDF matrix by fitting and transforming the data\n",
        "    tfidf_matrix = vector.fit_transform(train)\n",
        "\n",
        "    cosine_sim = cosine_similarity(tfidf_matrix, tfidf_matrix)\n",
        "    return cosine_sim"
      ],
      "execution_count": null,
      "outputs": []
    },
    {
      "cell_type": "code",
      "metadata": {
        "id": "e_dXu7aeHPy8"
      },
      "source": [
        "df_cos_sim = pd.DataFrame(index=d1['Subcategory'].values, columns=d1['Subcategory'].values)\n",
        "df_cos_sim = df_cos_sim.fillna(0)"
      ],
      "execution_count": null,
      "outputs": []
    },
    {
      "cell_type": "code",
      "metadata": {
        "id": "IOpPEwQiJvGr",
        "outputId": "7b5aba1f-b021-4dcb-9f11-01cb44c37743",
        "colab": {
          "base_uri": "https://localhost:8080/",
          "height": 328
        }
      },
      "source": [
        "df_cos_sim"
      ],
      "execution_count": null,
      "outputs": [
        {
          "output_type": "execute_result",
          "data": {
            "text/html": [
              "<div>\n",
              "<style scoped>\n",
              "    .dataframe tbody tr th:only-of-type {\n",
              "        vertical-align: middle;\n",
              "    }\n",
              "\n",
              "    .dataframe tbody tr th {\n",
              "        vertical-align: top;\n",
              "    }\n",
              "\n",
              "    .dataframe thead th {\n",
              "        text-align: right;\n",
              "    }\n",
              "</style>\n",
              "<table border=\"1\" class=\"dataframe\">\n",
              "  <thead>\n",
              "    <tr style=\"text-align: right;\">\n",
              "      <th></th>\n",
              "      <th>browser</th>\n",
              "      <th>internet</th>\n",
              "      <th>lan</th>\n",
              "      <th>laptops desktops tablets</th>\n",
              "      <th>other</th>\n",
              "      <th>proxy pac</th>\n",
              "      <th>remote access</th>\n",
              "      <th>wan</th>\n",
              "      <th>wifi</th>\n",
              "    </tr>\n",
              "  </thead>\n",
              "  <tbody>\n",
              "    <tr>\n",
              "      <th>browser</th>\n",
              "      <td>0</td>\n",
              "      <td>0</td>\n",
              "      <td>0</td>\n",
              "      <td>0</td>\n",
              "      <td>0</td>\n",
              "      <td>0</td>\n",
              "      <td>0</td>\n",
              "      <td>0</td>\n",
              "      <td>0</td>\n",
              "    </tr>\n",
              "    <tr>\n",
              "      <th>internet</th>\n",
              "      <td>0</td>\n",
              "      <td>0</td>\n",
              "      <td>0</td>\n",
              "      <td>0</td>\n",
              "      <td>0</td>\n",
              "      <td>0</td>\n",
              "      <td>0</td>\n",
              "      <td>0</td>\n",
              "      <td>0</td>\n",
              "    </tr>\n",
              "    <tr>\n",
              "      <th>lan</th>\n",
              "      <td>0</td>\n",
              "      <td>0</td>\n",
              "      <td>0</td>\n",
              "      <td>0</td>\n",
              "      <td>0</td>\n",
              "      <td>0</td>\n",
              "      <td>0</td>\n",
              "      <td>0</td>\n",
              "      <td>0</td>\n",
              "    </tr>\n",
              "    <tr>\n",
              "      <th>laptops desktops tablets</th>\n",
              "      <td>0</td>\n",
              "      <td>0</td>\n",
              "      <td>0</td>\n",
              "      <td>0</td>\n",
              "      <td>0</td>\n",
              "      <td>0</td>\n",
              "      <td>0</td>\n",
              "      <td>0</td>\n",
              "      <td>0</td>\n",
              "    </tr>\n",
              "    <tr>\n",
              "      <th>other</th>\n",
              "      <td>0</td>\n",
              "      <td>0</td>\n",
              "      <td>0</td>\n",
              "      <td>0</td>\n",
              "      <td>0</td>\n",
              "      <td>0</td>\n",
              "      <td>0</td>\n",
              "      <td>0</td>\n",
              "      <td>0</td>\n",
              "    </tr>\n",
              "    <tr>\n",
              "      <th>proxy pac</th>\n",
              "      <td>0</td>\n",
              "      <td>0</td>\n",
              "      <td>0</td>\n",
              "      <td>0</td>\n",
              "      <td>0</td>\n",
              "      <td>0</td>\n",
              "      <td>0</td>\n",
              "      <td>0</td>\n",
              "      <td>0</td>\n",
              "    </tr>\n",
              "    <tr>\n",
              "      <th>remote access</th>\n",
              "      <td>0</td>\n",
              "      <td>0</td>\n",
              "      <td>0</td>\n",
              "      <td>0</td>\n",
              "      <td>0</td>\n",
              "      <td>0</td>\n",
              "      <td>0</td>\n",
              "      <td>0</td>\n",
              "      <td>0</td>\n",
              "    </tr>\n",
              "    <tr>\n",
              "      <th>wan</th>\n",
              "      <td>0</td>\n",
              "      <td>0</td>\n",
              "      <td>0</td>\n",
              "      <td>0</td>\n",
              "      <td>0</td>\n",
              "      <td>0</td>\n",
              "      <td>0</td>\n",
              "      <td>0</td>\n",
              "      <td>0</td>\n",
              "    </tr>\n",
              "    <tr>\n",
              "      <th>wifi</th>\n",
              "      <td>0</td>\n",
              "      <td>0</td>\n",
              "      <td>0</td>\n",
              "      <td>0</td>\n",
              "      <td>0</td>\n",
              "      <td>0</td>\n",
              "      <td>0</td>\n",
              "      <td>0</td>\n",
              "      <td>0</td>\n",
              "    </tr>\n",
              "  </tbody>\n",
              "</table>\n",
              "</div>"
            ],
            "text/plain": [
              "                          browser  internet  lan  ...  remote access  wan  wifi\n",
              "browser                         0         0    0  ...              0    0     0\n",
              "internet                        0         0    0  ...              0    0     0\n",
              "lan                             0         0    0  ...              0    0     0\n",
              "laptops desktops tablets        0         0    0  ...              0    0     0\n",
              "other                           0         0    0  ...              0    0     0\n",
              "proxy pac                       0         0    0  ...              0    0     0\n",
              "remote access                   0         0    0  ...              0    0     0\n",
              "wan                             0         0    0  ...              0    0     0\n",
              "wifi                            0         0    0  ...              0    0     0\n",
              "\n",
              "[9 rows x 9 columns]"
            ]
          },
          "metadata": {
            "tags": []
          },
          "execution_count": 37
        }
      ]
    },
    {
      "cell_type": "code",
      "metadata": {
        "id": "MaWKpreUJw1Y"
      },
      "source": [
        "for i in range(len(d1['Subcategory'])):\n",
        "    for j in range(len(d1['Subcategory'])):\n",
        "        set_A = set(d1['Description'][i])\n",
        "        set_B = set(d1['Description'][j])\n",
        "        catA_string=' '.join(set_A) \n",
        "        catB_string=' '.join(set_B) \n",
        "        similarity = compute_similarity(catA_string,catB_string)[0][1]\n",
        "        similarity = similarity * 100\n",
        "        if df_cos_sim[d1['Subcategory'][j]][d1['Subcategory'][i]] == 0:\n",
        "            df_cos_sim[d1['Subcategory'][j]][d1['Subcategory'][i]] = similarity"
      ],
      "execution_count": null,
      "outputs": []
    },
    {
      "cell_type": "code",
      "metadata": {
        "id": "9VUBBVFNKuGA",
        "outputId": "dd66cf6d-ca96-48b5-d49b-e034e533e8c9",
        "colab": {
          "base_uri": "https://localhost:8080/",
          "height": 328
        }
      },
      "source": [
        "df_cos_sim"
      ],
      "execution_count": null,
      "outputs": [
        {
          "output_type": "execute_result",
          "data": {
            "text/html": [
              "<div>\n",
              "<style scoped>\n",
              "    .dataframe tbody tr th:only-of-type {\n",
              "        vertical-align: middle;\n",
              "    }\n",
              "\n",
              "    .dataframe tbody tr th {\n",
              "        vertical-align: top;\n",
              "    }\n",
              "\n",
              "    .dataframe thead th {\n",
              "        text-align: right;\n",
              "    }\n",
              "</style>\n",
              "<table border=\"1\" class=\"dataframe\">\n",
              "  <thead>\n",
              "    <tr style=\"text-align: right;\">\n",
              "      <th></th>\n",
              "      <th>browser</th>\n",
              "      <th>internet</th>\n",
              "      <th>lan</th>\n",
              "      <th>laptops desktops tablets</th>\n",
              "      <th>other</th>\n",
              "      <th>proxy pac</th>\n",
              "      <th>remote access</th>\n",
              "      <th>wan</th>\n",
              "      <th>wifi</th>\n",
              "    </tr>\n",
              "  </thead>\n",
              "  <tbody>\n",
              "    <tr>\n",
              "      <th>browser</th>\n",
              "      <td>100</td>\n",
              "      <td>2</td>\n",
              "      <td>1</td>\n",
              "      <td>5</td>\n",
              "      <td>3</td>\n",
              "      <td>3</td>\n",
              "      <td>2</td>\n",
              "      <td>3</td>\n",
              "      <td>2</td>\n",
              "    </tr>\n",
              "    <tr>\n",
              "      <th>internet</th>\n",
              "      <td>2</td>\n",
              "      <td>100</td>\n",
              "      <td>30</td>\n",
              "      <td>6</td>\n",
              "      <td>23</td>\n",
              "      <td>22</td>\n",
              "      <td>19</td>\n",
              "      <td>25</td>\n",
              "      <td>31</td>\n",
              "    </tr>\n",
              "    <tr>\n",
              "      <th>lan</th>\n",
              "      <td>1</td>\n",
              "      <td>30</td>\n",
              "      <td>100</td>\n",
              "      <td>4</td>\n",
              "      <td>19</td>\n",
              "      <td>17</td>\n",
              "      <td>16</td>\n",
              "      <td>21</td>\n",
              "      <td>30</td>\n",
              "    </tr>\n",
              "    <tr>\n",
              "      <th>laptops desktops tablets</th>\n",
              "      <td>5</td>\n",
              "      <td>6</td>\n",
              "      <td>4</td>\n",
              "      <td>100</td>\n",
              "      <td>7</td>\n",
              "      <td>7</td>\n",
              "      <td>9</td>\n",
              "      <td>8</td>\n",
              "      <td>7</td>\n",
              "    </tr>\n",
              "    <tr>\n",
              "      <th>other</th>\n",
              "      <td>3</td>\n",
              "      <td>23</td>\n",
              "      <td>19</td>\n",
              "      <td>7</td>\n",
              "      <td>99</td>\n",
              "      <td>26</td>\n",
              "      <td>19</td>\n",
              "      <td>24</td>\n",
              "      <td>24</td>\n",
              "    </tr>\n",
              "    <tr>\n",
              "      <th>proxy pac</th>\n",
              "      <td>3</td>\n",
              "      <td>22</td>\n",
              "      <td>17</td>\n",
              "      <td>7</td>\n",
              "      <td>26</td>\n",
              "      <td>99</td>\n",
              "      <td>18</td>\n",
              "      <td>21</td>\n",
              "      <td>21</td>\n",
              "    </tr>\n",
              "    <tr>\n",
              "      <th>remote access</th>\n",
              "      <td>2</td>\n",
              "      <td>19</td>\n",
              "      <td>16</td>\n",
              "      <td>9</td>\n",
              "      <td>19</td>\n",
              "      <td>18</td>\n",
              "      <td>99</td>\n",
              "      <td>18</td>\n",
              "      <td>20</td>\n",
              "    </tr>\n",
              "    <tr>\n",
              "      <th>wan</th>\n",
              "      <td>3</td>\n",
              "      <td>25</td>\n",
              "      <td>21</td>\n",
              "      <td>8</td>\n",
              "      <td>24</td>\n",
              "      <td>21</td>\n",
              "      <td>18</td>\n",
              "      <td>100</td>\n",
              "      <td>24</td>\n",
              "    </tr>\n",
              "    <tr>\n",
              "      <th>wifi</th>\n",
              "      <td>2</td>\n",
              "      <td>31</td>\n",
              "      <td>30</td>\n",
              "      <td>7</td>\n",
              "      <td>24</td>\n",
              "      <td>21</td>\n",
              "      <td>20</td>\n",
              "      <td>24</td>\n",
              "      <td>99</td>\n",
              "    </tr>\n",
              "  </tbody>\n",
              "</table>\n",
              "</div>"
            ],
            "text/plain": [
              "                          browser  internet  lan  ...  remote access  wan  wifi\n",
              "browser                       100         2    1  ...              2    3     2\n",
              "internet                        2       100   30  ...             19   25    31\n",
              "lan                             1        30  100  ...             16   21    30\n",
              "laptops desktops tablets        5         6    4  ...              9    8     7\n",
              "other                           3        23   19  ...             19   24    24\n",
              "proxy pac                       3        22   17  ...             18   21    21\n",
              "remote access                   2        19   16  ...             99   18    20\n",
              "wan                             3        25   21  ...             18  100    24\n",
              "wifi                            2        31   30  ...             20   24    99\n",
              "\n",
              "[9 rows x 9 columns]"
            ]
          },
          "metadata": {
            "tags": []
          },
          "execution_count": 39
        }
      ]
    },
    {
      "cell_type": "code",
      "metadata": {
        "id": "74VaHkqlKvc7"
      },
      "source": [
        "df_cos_sim.to_csv('/content/drive/My Drive/Webex_Demo/NetworkIncident/desc_clean_cosine_similarity.csv',index = False)"
      ],
      "execution_count": null,
      "outputs": []
    },
    {
      "cell_type": "markdown",
      "metadata": {
        "id": "CM7FCqqXLmq-"
      },
      "source": [
        "### Below Cells just explain how to calculate the one particular value of the loop"
      ]
    },
    {
      "cell_type": "code",
      "metadata": {
        "id": "qecnXTU-JEUA"
      },
      "source": [
        "cat1_string=' '.join(cat1set) \n",
        "cat2_string=' '.join(cat2set) "
      ],
      "execution_count": null,
      "outputs": []
    },
    {
      "cell_type": "code",
      "metadata": {
        "id": "alJlsqsTJVls",
        "outputId": "5713da8c-c1bd-446b-b076-73470b857b3f",
        "colab": {
          "base_uri": "https://localhost:8080/",
          "height": 71
        }
      },
      "source": [
        "cat1_string,cat2_string"
      ],
      "execution_count": null,
      "outputs": [
        {
          "output_type": "execute_result",
          "data": {
            "text/plain": [
              "('mail access slow',\n",
              " 'purley unplug everyon almost count throughout cci straight task ntmynyisimv azur avcet held cdw recap ratho anomali rglen intel dec custom icar detail templat rooney lh leighton lfmobil resolv huriel tvxdnbuuwtjjvnsisinzlcii break millisecond addr point ccallag franck xl silo villag optim ls imag host bruno fs moston inspect brows ntag develop factori way regist oper mechan run weather stead pb concern zs free disabl okriftel kirchheim hitchin tech maghul access northern feedback eit sever control cdl human vdz carri murtagh txkwmfpqstjmv ashaka nfcmall enter darlington silk enquir yes fact orang rmjzbujimm duntilland youtub counti deleg project probabl direct u credenti thingworx explor age beddinghoven ciscovpn half croy ciz notifi ata instead plan ceas karlovac cox www postbox postag soc domain cycl sap bt tlp com googledr eb recept welsh subject northend progress solin republ thank prior approx mikhalkov visit iiwibmlpijoibwljcm hq gladbach peterborough worker pop data usual categori yjg step ikoyi period aiuk news enabl hhs occur fit https home video maker btwholesal full mjcilcjlbmrwb lago today adaptor ivm stat cv review deliv gear biywnrijoivhj packet sfr terri manual nb offic credit ngp ai info failur duc various agg ameh perri script dial bochum ije part op athi tsxrorev oradea xxtxhoref outag sheet austria odd guardhous lfwireless coupa cc swisscom south pitharia terranc consist proto asuquo unkown derevyanka transit await ztvhzwm shot ethernet lieg top tobi netmask theft standard yet harlington india problemat wzmyxlwnlmdatmdawmdawmdawmdawiiwibmjmijoimtu situat contractor paxton yorkshir sebastian inact standalon hrv porxi jet say swap mdg dortmund fail moorecroft cw klaus ttat origin beat borromeo vassupport sindelfingen rais press three meier kpis could bayod agbontaen charlesworth descript javier ipnx chef triger sabrina vx diagram icap router stop put vehicl twxx identifi pjsc landesk berkshir zuslagstoff gora busi fieu byte term cfd wfw nie flt el iiwizw chioggia depot plant acceq j sure socket detect samr gedd parti edet look liais far trade es dvdfpeqtrpqza applic howel malic contrib iveau hulet evan escal rusvosdp nic may contract malplcmalv rodrigeuz dp turbd river fix auditor stream bedfordshir lenova westleigh januari frozen titorenko camera f lb becki hely hrs pictur respond bex regardless olaomo bello offici filter cam bergisch wsus hill circl technician spreadsheet unreal adress write aval pit previous link substat loui necessarili complaint ttl jacob behnk seat lopez crm hdgfscmvzdwx trunk woolston tcs malogoszcz adrien client sofian pantelimon progresu key interrupt pool maintain clinceni vision unstabl probleem hello laptop cze individu payment wall sein flash theal nobodi login duncan intranet aggrenet center number ub extend pdt workaround tis desir inject fw departur connxion tkt sandbach bottom neumalsch thi mobil east sittingbourn adapt except ajq month craig torr autom old ott background postur bus switzerland fleme ggen ime potenti phc quarri hamisu morn miscellan nai bn document fb shown regular flux caught effort fianarantsoa eastleigh osint gd vendor citi premis need centric supplier terebova hangout ou remot vbininzjizgi gordon vlan mast gle station gorla towntalk reqv cmd remov pe result reason homepag bracht bluetooth initi gnc ensur zambia akatraki bpe case wifi outgo haughmond du close mani cfo flow screenshot sporad arch pz includ websensetriton led wbx fax cmdb alfortvill livada apn cnvliiwiy machin john avaibl region beton malsch lanr harp chg view kind strength think lbb zsisimnpzci bank microsoft thursday germani heathrow circuit rememb sharepoint haltingen deploy inform fals disrupt alb vnzvaqtcxslu chip wei wzb shift milli eyj technisch co deskphon scott emea integr moujoin conexiun truck assess big sarasan infect pf kcg notif coventri anyon damag sunday shutdown burglari bordesley ie astley feyikemi tstw handshak address xe list hattersheim jose arcalochori robert april wireless present mention avec websit complain braodband chryston hart ezv spoken reveal signal relev nonfunct cant salford wait hungari munteanu hope logo octob lan choos drip safari barn blck yard adetunji wilson qyzjaveuxwvrrm shipment avjjaaysju default zw unless singh session usag halton layout ae vodafon toni zrh c feel gari form sanandrei hhcmluz narayanan imposs local doha code int affect p command sopho pasquier cannot martin secondari na interven perfect bocca verifi reli comment vodaphon jb k day june allen chris weighbridg buchholz wokr mean downstair joann neel lane redruth serious within must boucn comt primari valuecom ttingen one work wors wash impact dns maroc server gui mwiynmzlmzjjytfkzwzhnw ne ljzxmtbxkuc seen webcloud rtiouiri deub pudozh isl simpli gdisk balli abdullahi tendley vzzxiioij alon design stonebrook fwd darmsheim odyylwi gather css zgqtmzkznc neli rang resettl ongo sector ec isdn difficulti win keep timeout two plug vladimir ntk max reserv minor bow burton base perrin want gignacanian cardpay password voicemail mount mansi contact eh perm bravosolut strong privat synchron technicolor noc beep hi unrespons note overload viahttp intertnet sub pioltello lorna friday bill mouloud entir mishra gillian calabar translat gronau keast cofigur sc test sandrancourt setif bordley occurr farm manchest lte dept termin produc convert billacomb incorrect coin repeat park instrument gmt reboot et cert unabl hta disconnect pick yellow oudenbosch nji muriell bredburi connexion left ram delet rcc cumbria denham bruxell os first specifi non right cauldon pole topley hold gin brett kellam wa kotlarek helpdesk x sent phil master imhhc recoveri hardwar iakovo hornsey differ malawi ul klarabergstrass print night amritp cheshir hertfordshir intermitt lost ludhvybci fao belouni malwar gw input prevent whilst replac deni ref prefac weighbrid surg astaro cabinet west mixtur pme th q obourg contain report uncheck timescal plwaw ilcjzaxrlawqioijzv tracert beyond central adamu expir group red becuas freez compromis conect glasgow recov took huntingdon vtum pain intellig global sep phone ida rectifi confiremd weast ing english webpag signin gorelov chain hive fine powerform repli fulda ashphalt sifti symbol observ printer deutschlandlan dotternhausen us telephoni busayo broad rail nefunct adey someon sat stay samsung destin lnnoyxjlcg relat everyth kleind often stuttgart basi retriev depart b charcon avail berthom koev endpoint level murray payement import wmdawltbmzjeti bowser grain slower perform incom room stage marett place eogm hassan routag mainland ia chester pinto connect chitila compon final logist unsur evid approv tempauth discuss intern certain blacklist flase mainz overnight axiom idea rapid indic eskett changeov disappear cash buckinghamshir num schedul prompt secur mpossag electron train abk click wed hsee sd suivi unit decid sdwan chrome rick intervent email might nivell merkland addit cambridgeshir apr eu kos gomb live eus build respons ch assist scrossl dagorn pbnqilcjpc sr union conor asphalt go fontet sieg thinkcentr hulland agenc guest devic diagnost poor ago ivanti away ask preston offer lab jochen pomphlett meter abosed url vari usb newspap g axian dc inet graem epod gledhil hlbauer ajibola oelhk bfi al fill recogn hu mara loos etc avocet incv mill salli gateshead fulli vessel north zone traffic floor railhead agent smith aggind gbintz sql appear succes send particular easili lu twice someth screen administr given hall rout got er mistak webdef threat meghul via bnppariba vervoss dock trigger sanchez crawley monitor maximum gmc feeder rus district nr struggl found spankhur wootten uugen corinn interv servic africa establish wrote unfortun ilcjuyw inbound product name clamart came vat cement bassetto arc attach complet renew onsit site near leng essex harlow am separ jvm ppe darryl lfguest somewhat abil fra neot lot alaloop lba polop modif cpm nd icon broadband aigl exclam z duplic ceo ln lmw crc correct column fpp brigitt wardl gup flaki door town assign subnet revers closur coleman kaba kiss pic requir org emxbzm caller renfrew batch setup pike exco safeti workstat nysjz survey sim enterpris middl block nok meant there tracker fallavi drop webdfec dipl oyeniran olabanji frequenc miss bob mine aweb util snap hs rawuioiiyin jde dlk rogier fiberot gtr prod tablet martr accord cursor mrl provid jarvi sale parent rolf explicit belong sometim recommend turn ik stuart che black elena understand nzg voda band fring backford mario employe follow ytq know kendal time cableon ag immedi error easier intercom lafarg switch wish smartphon gen thing actual nationwid cpd corp slowli inoper unknown mainten res infin kunal pre navig log vacat garag duboi sunkum hazard fontcal pls quit anomal problem emmanuel nu travel malfunct excel daryl grill mayhew sy advers ship aa ndggioiixnjuilcjpc recent fer blantyr min cdt forcepoint mid tata bartenheim njrlywqwmzm longer whole maritim replic receiv fjagvrzxkioiiwac conectar cornel deport bremgarten copyright ebm edit iinvest alreadi save bristol subscrib mjzhmmq let earlier gignac phonelin team l sfi search framestream appendix newbold ifr goodwin mare major conflict skype show net henri nouvell excess yeo across dashboard sa mountain thinkpad nabeel offlin hour network ndi goe kov node nearbi apak suffix khtml doesnt retri agapaki ludc bring reproduc voltag desk averag jost ridham nois pronina iiwiaxnzijoimdawmdawmdmtmdawmc georg naden waltham hlastan dampremi stewart uxbridg road alway jide nicol cknh book sagamu industriestr physic zconnect werk mixer answer gm rosewel hostnam sk noth troubl undamag appoint tama behalf upstair gonfrevill bit croft other derbi side jon golodai kgg mail quentin subset unus broken exchang comfort numer weightbridg short fibreport utter ashington flight boulden cook cecilia ian fall incred bug registr seaforth supervisor purg express adsl suspic greyston caus roman vf callow iog antenatalresultsandchoic doncast montmuri push wagon darren fn coupl bbatch afternoon ralf springval slough esl abel bka yunusa goos instanc ross soon inabl inclus epj aug ssologin went cest sutor tue organ leas firewal mode solut gotten persist telekom amrit jul cm rostock sandook darwen uwmc mile batna carnforth lind chard frank bubbl accommod extrem bascul signific backlan sxlav despit cd bayet front assum turbinen softwar anymor technic natalia configur spam kent come help booster surf user bvjtnhyw csd holton caldon statement enhanc timer height pascal duffi loadlin barrow les pingabl scanner forward option servicenow donn els weekend rf episerv simpson adv hamburg page internet thoma pass suspect warren cloud jetti ho slot garenn thought sissi brahmi sheffield ok cabin luck issu ten timi appal isol lin benninghoven wire glensanda line pw real gmbh necessari wb sandeep ob fabrizio everywher afouaar labor synckron cwt isabell status proxypac resolut prt goloday outcom joel dev evia servicecli heuchelehim barton udp practic lubric r state automat admin exista iphon ogrizdu kpi idl though juli estev sclb practicon speedtest hawaii groveburi countri lifecycl confidenti src paramet karrenberg mozilla alert profil divert approxim zscaler gateway find dxjujtnhc ruiz minimum white bu colin hotspot financ hole jemma pza amtywmzk ipadeola jed greet earli routin janet saturday laboratori stenson maaji iow vlasta suggest uniqueid gibson config forc zb btw ewekoro czech serg mepal pr jump pc ita piotr coordin ray sun open nt mark zudhdvnowhdizmxlbvhin seneff morocco ko get cosmot refer bodmin applewebkit bonnyrigg lag neziri land happen lee past doc unk unacknowledg portal duntiland next start bistrita quot liverpool manufactur hitchcocd ad hundr download mombasa tt lbwjlcnnoaxb dst pac medium aspx citrix oil commerci cpu slow wwpnde mon virtual rabah pzrw blackburn azergu breakout razvan danni reconnect bsc bad commerciaux northfleet southern refresh fault auth lead ht reject beckum kati light experienc job brand restor question island qwwz cromwel ux discov hodim even pave velocloud chang best lauri ever por cours kie expect umoh lynx frome fp harcourt hassal tag kingsbridg pbnr tcp done vpalach exaioijkv overhead outsid boot disposit megafon olabod timefram ofzpi dave mittelkai week solarwind reader lf app loop back use instal hous su peschiera appar cell current stuck malici hand bernard afterward anyth dispon overijss slts mgt seem ham michael none patch measur szymala dropout rg abeau manley apart virus saalburg okoro plmal admi tim declan devon ooredoo untervaz stefan nz qilcjhbgcioijub later dear craiova tuesday ill augustin pq gligoresti consid due plus pm embook wikipedia mesz adm purfleet edecdocumentgui reput watford madrid inc greec isnt eyjhdwqioiiwmdawmdawmi uf long rock cnc possibl career loopback constant spencer dzek unawar lafay cic sam area cmxmzw unaccept tel scale grant shoot roam raw warn oki dsl wierl comm holp sg tunnel victor midshirebusinesssystemsnortheastltd gio grangemouth anita concret ipconfig normal qs lock postcod bh hillhead vodacom trooz batistor romania told materi zst qvm tp timothi invalid coleshil spring rohrmos cf headquart mr oneservic cube wilki upload wootton acess rtwi sde window verif belfast sid machineri set xxx notic member weigh respect tri holcim stockport cane cosgrov happi speed christma regard gt nfc strass air still riversid starv rosprint sl citidirect julia aggreg green pl heuc continu dbykov ssl certif give ashpalt portacabin derrar lauren lex nsannala visitor henk add coalmil pressur shut kit author icloud val purchas toll edc sevegn limit granulat saw backup siggenth content cookstown campulung mju rmx least bardon movement ward second felixstow greenshot round verdict futur exceed kanwarpreet frameset wont deliveri strang ext fi fri dhcp greater steadi gone kessel km perfom matter poland franc dz ellesmer explosiv industri effect lawqioiiwiy projest bat optic engin store wisual remain bridg oberzolldirekt bi ermitag deutsch snow sausheim facon attribut herrenberg david scope triton regiment rruku ping last order bulgaria support ywutzmfmnzhmnmrlyzi arrang extern much neither desktop qualiti txd also sourc reach year reset return modem pa never ottmarsheim critchlow anoth saarwellingen prepar ion altkirch thsi pipera appreci weight wickford jfretw check till consol uk niederstetten jagptara dorner great bfrok suppli littl toip electrician mulrennan e made ea rzw infrastructur doubl unlimit ibitoy joe cctv digit umdb analog systemcheck greenwich csoc jame photo lancashir terenc southgermani technolog modifi believ cso andi sender und display ticket enough entri hard bellouni los urgenc execut mac welfar investig brian good solv bassett blockag lco wetransf occasion aid comput oct slack letter cementowa defens constantin emerg make negoti rich confid xvb statist dyer gpg low en port stacey everyday mo london compani chat monday specif agileappscloud melbur unreach redditch lean adrian msn daniella extens smtp onto brief needwood pode levenseat ojo chilanga tool troubleshoot bouriton recur legal grid take core leed see man pod pcs usernam action howev unexpect tb sig constentin nethercott perman eric crash generat des stoneycomb activ fuzgnob handset pzgv qr averi coinhiv stabil lift oregun occas moscow locat otherwis board hostscan oraca absenc pbuh public cluj sync pickup hendrik rlbnrdb perturb asset mbps gpupdat elliott steve pdm web communic incid static feodo holiday repetit mailbox multipl alp ook experi paul vcenter hr laudor either googl lei billingb comfirm peopl de lose seizur sinc care stress reliabl rdp four rob captur natasha altern agon success websens luton durat logon whose burd known png couldnt lp locatoion spain sort hhcmvwb prioriti readymix edec gr yveta satu leff allow vpn h latenc cach accept invoic rotat unidentifi therefor power amp stabl lesvo awar wan wellingborough solid plymouth exact lkijoiqkptc move athiriv sorri kbm would mokhtar ritm st weblink mfg speak mob cut alkirch dn peter brandt shomali exampl wi theaccountangl lack luci la topic plenti platform jun ajiy wireshark ver http halifax varvara nehr warsaw isp yeoman file reol accessi calum convers person battersea vernier updat chippenham slowest wherea aplic apc distribut driver bag russia renam hsrp unlock iiwic workday firefox indus knock creat general inaccess ex insid chapman electr export honey nick le especi nanterr restart owt w tonight high turbin blame wit grip br repair budget greenwood mw ry biskra shaun colgatec attempt goodland ap hennebert everi anyconnect sfdc trace refurbish event messag equip stoke urgent sjjuq rockbear guy onlin collabor ctrix suit ewk recepi advis clear soigni track capac sign botley enugu storm around scan knowledg oggaz ro chelmsford bounc ground wp tarmac sincer willi dan inventori ingam lisa okay workshop fibr box manag mcdonald blanquefort edinburgh xx darbodl cabl slcb roy walsh telegraph id rest betonwaren account hang proxi king arni te bodl loss connap opebi siggent dws rj main cheadl type netfremwork extra barrier gruibingen pleas intenet browser protoc downtim prelogin revert carolin sargent notebook bandwidth dispo end txf inert calendar puce jes sens cordin reseau osayand kempsford ulbricht gmail aggnet michell estat school eugen like faulti aj share well bb werner explain coatbridg confirm menasria gsm gembloux tournai expens asap system jko flushdn hyvyjf ppp smar new worri gecko frsarna linda netgear junction analys ijoimcisinvzzvblcnnpc asp trip klikachev carland sundip recognis deu moment myjvadyisinr si azurewebsit proper pkt colnbrook analogu classroom caroug transfer folder huland winnig voip saint carmelo arriv matthew cezam version root overal figur dispatch march natur avoid frequent cancel advanc upgrad trust generalbrows cab coup talisman haslach head wrong function yesterday arkalochori daniel face index wmdawmdawmdawmdavyw bar sw prefabr request mix holm deactiv christian correspond ms load miscategoris fontenay post clopezm nutmeg reachabl rue corpor landlin realli authent gcdc buzzard micro wl jenni per record third readi telephon colleagu compens lafargeholcim sherratt cu faster anounc meet small without verifon total hertford lace bhsojwdsxsswlgyfosi midland channel cisco soldatova select fr said paralyz hhr triangl abl wolverhampton copi lilongw anuk egg readyminx wite process shettleston minut resourc mfamos agnel wither blackspid suspici drive critic n caravan kidderminst mcliesh commit card call date err jami batn ghlin uxwmpoa gavin ip whitelist mm sigproxi releas ring hlzhbyb program')"
            ]
          },
          "metadata": {
            "tags": []
          },
          "execution_count": 42
        }
      ]
    },
    {
      "cell_type": "code",
      "metadata": {
        "id": "1pypSLVyGCNA",
        "outputId": "637104b0-70ba-4dc5-bca9-4ad7997d6641",
        "colab": {
          "base_uri": "https://localhost:8080/",
          "height": 34
        }
      },
      "source": [
        "compute_similarity(cat1_string,cat2_string)[0][1]*100"
      ],
      "execution_count": null,
      "outputs": [
        {
          "output_type": "execute_result",
          "data": {
            "text/plain": [
              "2.341738550893845"
            ]
          },
          "metadata": {
            "tags": []
          },
          "execution_count": 43
        }
      ]
    },
    {
      "cell_type": "markdown",
      "metadata": {
        "id": "kAbhwAuTl-NX"
      },
      "source": [
        "### Spacy Similarities between category"
      ]
    },
    {
      "cell_type": "code",
      "metadata": {
        "id": "fzKKI_YFmTfv"
      },
      "source": [
        "import spacy\n",
        "nlp = spacy.load('en')"
      ],
      "execution_count": null,
      "outputs": []
    },
    {
      "cell_type": "code",
      "metadata": {
        "id": "MQd3HNOlmWBn"
      },
      "source": [
        "df_spacy_sim = pd.DataFrame(index=d1['Subcategory'].values, columns=d1['Subcategory'].values)\n",
        "df_spacy_sim = df_spacy_sim.fillna(0)"
      ],
      "execution_count": null,
      "outputs": []
    },
    {
      "cell_type": "code",
      "metadata": {
        "id": "LihuQSQVmhMN",
        "outputId": "fce8c157-1a51-42bf-aded-2d7d6887f5c5",
        "colab": {
          "base_uri": "https://localhost:8080/",
          "height": 328
        }
      },
      "source": [
        "df_spacy_sim\n"
      ],
      "execution_count": null,
      "outputs": [
        {
          "output_type": "execute_result",
          "data": {
            "text/html": [
              "<div>\n",
              "<style scoped>\n",
              "    .dataframe tbody tr th:only-of-type {\n",
              "        vertical-align: middle;\n",
              "    }\n",
              "\n",
              "    .dataframe tbody tr th {\n",
              "        vertical-align: top;\n",
              "    }\n",
              "\n",
              "    .dataframe thead th {\n",
              "        text-align: right;\n",
              "    }\n",
              "</style>\n",
              "<table border=\"1\" class=\"dataframe\">\n",
              "  <thead>\n",
              "    <tr style=\"text-align: right;\">\n",
              "      <th></th>\n",
              "      <th>browser</th>\n",
              "      <th>internet</th>\n",
              "      <th>lan</th>\n",
              "      <th>laptops desktops tablets</th>\n",
              "      <th>other</th>\n",
              "      <th>proxy pac</th>\n",
              "      <th>remote access</th>\n",
              "      <th>wan</th>\n",
              "      <th>wifi</th>\n",
              "    </tr>\n",
              "  </thead>\n",
              "  <tbody>\n",
              "    <tr>\n",
              "      <th>browser</th>\n",
              "      <td>0</td>\n",
              "      <td>0</td>\n",
              "      <td>0</td>\n",
              "      <td>0</td>\n",
              "      <td>0</td>\n",
              "      <td>0</td>\n",
              "      <td>0</td>\n",
              "      <td>0</td>\n",
              "      <td>0</td>\n",
              "    </tr>\n",
              "    <tr>\n",
              "      <th>internet</th>\n",
              "      <td>0</td>\n",
              "      <td>0</td>\n",
              "      <td>0</td>\n",
              "      <td>0</td>\n",
              "      <td>0</td>\n",
              "      <td>0</td>\n",
              "      <td>0</td>\n",
              "      <td>0</td>\n",
              "      <td>0</td>\n",
              "    </tr>\n",
              "    <tr>\n",
              "      <th>lan</th>\n",
              "      <td>0</td>\n",
              "      <td>0</td>\n",
              "      <td>0</td>\n",
              "      <td>0</td>\n",
              "      <td>0</td>\n",
              "      <td>0</td>\n",
              "      <td>0</td>\n",
              "      <td>0</td>\n",
              "      <td>0</td>\n",
              "    </tr>\n",
              "    <tr>\n",
              "      <th>laptops desktops tablets</th>\n",
              "      <td>0</td>\n",
              "      <td>0</td>\n",
              "      <td>0</td>\n",
              "      <td>0</td>\n",
              "      <td>0</td>\n",
              "      <td>0</td>\n",
              "      <td>0</td>\n",
              "      <td>0</td>\n",
              "      <td>0</td>\n",
              "    </tr>\n",
              "    <tr>\n",
              "      <th>other</th>\n",
              "      <td>0</td>\n",
              "      <td>0</td>\n",
              "      <td>0</td>\n",
              "      <td>0</td>\n",
              "      <td>0</td>\n",
              "      <td>0</td>\n",
              "      <td>0</td>\n",
              "      <td>0</td>\n",
              "      <td>0</td>\n",
              "    </tr>\n",
              "    <tr>\n",
              "      <th>proxy pac</th>\n",
              "      <td>0</td>\n",
              "      <td>0</td>\n",
              "      <td>0</td>\n",
              "      <td>0</td>\n",
              "      <td>0</td>\n",
              "      <td>0</td>\n",
              "      <td>0</td>\n",
              "      <td>0</td>\n",
              "      <td>0</td>\n",
              "    </tr>\n",
              "    <tr>\n",
              "      <th>remote access</th>\n",
              "      <td>0</td>\n",
              "      <td>0</td>\n",
              "      <td>0</td>\n",
              "      <td>0</td>\n",
              "      <td>0</td>\n",
              "      <td>0</td>\n",
              "      <td>0</td>\n",
              "      <td>0</td>\n",
              "      <td>0</td>\n",
              "    </tr>\n",
              "    <tr>\n",
              "      <th>wan</th>\n",
              "      <td>0</td>\n",
              "      <td>0</td>\n",
              "      <td>0</td>\n",
              "      <td>0</td>\n",
              "      <td>0</td>\n",
              "      <td>0</td>\n",
              "      <td>0</td>\n",
              "      <td>0</td>\n",
              "      <td>0</td>\n",
              "    </tr>\n",
              "    <tr>\n",
              "      <th>wifi</th>\n",
              "      <td>0</td>\n",
              "      <td>0</td>\n",
              "      <td>0</td>\n",
              "      <td>0</td>\n",
              "      <td>0</td>\n",
              "      <td>0</td>\n",
              "      <td>0</td>\n",
              "      <td>0</td>\n",
              "      <td>0</td>\n",
              "    </tr>\n",
              "  </tbody>\n",
              "</table>\n",
              "</div>"
            ],
            "text/plain": [
              "                          browser  internet  lan  ...  remote access  wan  wifi\n",
              "browser                         0         0    0  ...              0    0     0\n",
              "internet                        0         0    0  ...              0    0     0\n",
              "lan                             0         0    0  ...              0    0     0\n",
              "laptops desktops tablets        0         0    0  ...              0    0     0\n",
              "other                           0         0    0  ...              0    0     0\n",
              "proxy pac                       0         0    0  ...              0    0     0\n",
              "remote access                   0         0    0  ...              0    0     0\n",
              "wan                             0         0    0  ...              0    0     0\n",
              "wifi                            0         0    0  ...              0    0     0\n",
              "\n",
              "[9 rows x 9 columns]"
            ]
          },
          "metadata": {
            "tags": []
          },
          "execution_count": 46
        }
      ]
    },
    {
      "cell_type": "code",
      "metadata": {
        "id": "CE0IYi_hmoDj",
        "outputId": "03d6ba58-edcc-4be0-a42e-37fd42300138",
        "colab": {
          "base_uri": "https://localhost:8080/",
          "height": 1000
        }
      },
      "source": [
        "for i in range(len(d1['Subcategory'])):\n",
        "    for j in range(len(d1['Subcategory'])):\n",
        "        set_A = set(d1['Description'][i])\n",
        "        set_B = set(d1['Description'][j])\n",
        "        catA_string=' '.join(set_A) \n",
        "        catB_string=' '.join(set_B)\n",
        "        docA = nlp(catA_string) \n",
        "        docB = nlp(catB_string)\n",
        "        similarity = docA.similarity(docB)\n",
        "        similarity = similarity * 100\n",
        "        if df_spacy_sim[d1['Subcategory'][j]][d1['Subcategory'][i]] == 0:\n",
        "            df_spacy_sim[d1['Subcategory'][j]][d1['Subcategory'][i]] = similarity"
      ],
      "execution_count": null,
      "outputs": [
        {
          "output_type": "stream",
          "text": [
            "/usr/lib/python3.6/runpy.py:193: ModelsWarning: [W007] The model you're using has no word vectors loaded, so the result of the Doc.similarity method will be based on the tagger, parser and NER, which may not give useful similarity judgements. This may happen if you're using one of the small models, e.g. `en_core_web_sm`, which don't ship with word vectors and only use context-sensitive tensors. You can always add your own word vectors, or use one of the larger models instead if available.\n",
            "  \"__main__\", mod_spec)\n",
            "/usr/lib/python3.6/runpy.py:193: ModelsWarning: [W007] The model you're using has no word vectors loaded, so the result of the Doc.similarity method will be based on the tagger, parser and NER, which may not give useful similarity judgements. This may happen if you're using one of the small models, e.g. `en_core_web_sm`, which don't ship with word vectors and only use context-sensitive tensors. You can always add your own word vectors, or use one of the larger models instead if available.\n",
            "  \"__main__\", mod_spec)\n",
            "/usr/lib/python3.6/runpy.py:193: ModelsWarning: [W007] The model you're using has no word vectors loaded, so the result of the Doc.similarity method will be based on the tagger, parser and NER, which may not give useful similarity judgements. This may happen if you're using one of the small models, e.g. `en_core_web_sm`, which don't ship with word vectors and only use context-sensitive tensors. You can always add your own word vectors, or use one of the larger models instead if available.\n",
            "  \"__main__\", mod_spec)\n",
            "/usr/lib/python3.6/runpy.py:193: ModelsWarning: [W007] The model you're using has no word vectors loaded, so the result of the Doc.similarity method will be based on the tagger, parser and NER, which may not give useful similarity judgements. This may happen if you're using one of the small models, e.g. `en_core_web_sm`, which don't ship with word vectors and only use context-sensitive tensors. You can always add your own word vectors, or use one of the larger models instead if available.\n",
            "  \"__main__\", mod_spec)\n",
            "/usr/lib/python3.6/runpy.py:193: ModelsWarning: [W007] The model you're using has no word vectors loaded, so the result of the Doc.similarity method will be based on the tagger, parser and NER, which may not give useful similarity judgements. This may happen if you're using one of the small models, e.g. `en_core_web_sm`, which don't ship with word vectors and only use context-sensitive tensors. You can always add your own word vectors, or use one of the larger models instead if available.\n",
            "  \"__main__\", mod_spec)\n",
            "/usr/lib/python3.6/runpy.py:193: ModelsWarning: [W007] The model you're using has no word vectors loaded, so the result of the Doc.similarity method will be based on the tagger, parser and NER, which may not give useful similarity judgements. This may happen if you're using one of the small models, e.g. `en_core_web_sm`, which don't ship with word vectors and only use context-sensitive tensors. You can always add your own word vectors, or use one of the larger models instead if available.\n",
            "  \"__main__\", mod_spec)\n",
            "/usr/lib/python3.6/runpy.py:193: ModelsWarning: [W007] The model you're using has no word vectors loaded, so the result of the Doc.similarity method will be based on the tagger, parser and NER, which may not give useful similarity judgements. This may happen if you're using one of the small models, e.g. `en_core_web_sm`, which don't ship with word vectors and only use context-sensitive tensors. You can always add your own word vectors, or use one of the larger models instead if available.\n",
            "  \"__main__\", mod_spec)\n",
            "/usr/lib/python3.6/runpy.py:193: ModelsWarning: [W007] The model you're using has no word vectors loaded, so the result of the Doc.similarity method will be based on the tagger, parser and NER, which may not give useful similarity judgements. This may happen if you're using one of the small models, e.g. `en_core_web_sm`, which don't ship with word vectors and only use context-sensitive tensors. You can always add your own word vectors, or use one of the larger models instead if available.\n",
            "  \"__main__\", mod_spec)\n",
            "/usr/lib/python3.6/runpy.py:193: ModelsWarning: [W007] The model you're using has no word vectors loaded, so the result of the Doc.similarity method will be based on the tagger, parser and NER, which may not give useful similarity judgements. This may happen if you're using one of the small models, e.g. `en_core_web_sm`, which don't ship with word vectors and only use context-sensitive tensors. You can always add your own word vectors, or use one of the larger models instead if available.\n",
            "  \"__main__\", mod_spec)\n",
            "/usr/lib/python3.6/runpy.py:193: ModelsWarning: [W007] The model you're using has no word vectors loaded, so the result of the Doc.similarity method will be based on the tagger, parser and NER, which may not give useful similarity judgements. This may happen if you're using one of the small models, e.g. `en_core_web_sm`, which don't ship with word vectors and only use context-sensitive tensors. You can always add your own word vectors, or use one of the larger models instead if available.\n",
            "  \"__main__\", mod_spec)\n",
            "/usr/lib/python3.6/runpy.py:193: ModelsWarning: [W007] The model you're using has no word vectors loaded, so the result of the Doc.similarity method will be based on the tagger, parser and NER, which may not give useful similarity judgements. This may happen if you're using one of the small models, e.g. `en_core_web_sm`, which don't ship with word vectors and only use context-sensitive tensors. You can always add your own word vectors, or use one of the larger models instead if available.\n",
            "  \"__main__\", mod_spec)\n",
            "/usr/lib/python3.6/runpy.py:193: ModelsWarning: [W007] The model you're using has no word vectors loaded, so the result of the Doc.similarity method will be based on the tagger, parser and NER, which may not give useful similarity judgements. This may happen if you're using one of the small models, e.g. `en_core_web_sm`, which don't ship with word vectors and only use context-sensitive tensors. You can always add your own word vectors, or use one of the larger models instead if available.\n",
            "  \"__main__\", mod_spec)\n",
            "/usr/lib/python3.6/runpy.py:193: ModelsWarning: [W007] The model you're using has no word vectors loaded, so the result of the Doc.similarity method will be based on the tagger, parser and NER, which may not give useful similarity judgements. This may happen if you're using one of the small models, e.g. `en_core_web_sm`, which don't ship with word vectors and only use context-sensitive tensors. You can always add your own word vectors, or use one of the larger models instead if available.\n",
            "  \"__main__\", mod_spec)\n",
            "/usr/lib/python3.6/runpy.py:193: ModelsWarning: [W007] The model you're using has no word vectors loaded, so the result of the Doc.similarity method will be based on the tagger, parser and NER, which may not give useful similarity judgements. This may happen if you're using one of the small models, e.g. `en_core_web_sm`, which don't ship with word vectors and only use context-sensitive tensors. You can always add your own word vectors, or use one of the larger models instead if available.\n",
            "  \"__main__\", mod_spec)\n",
            "/usr/lib/python3.6/runpy.py:193: ModelsWarning: [W007] The model you're using has no word vectors loaded, so the result of the Doc.similarity method will be based on the tagger, parser and NER, which may not give useful similarity judgements. This may happen if you're using one of the small models, e.g. `en_core_web_sm`, which don't ship with word vectors and only use context-sensitive tensors. You can always add your own word vectors, or use one of the larger models instead if available.\n",
            "  \"__main__\", mod_spec)\n",
            "/usr/lib/python3.6/runpy.py:193: ModelsWarning: [W007] The model you're using has no word vectors loaded, so the result of the Doc.similarity method will be based on the tagger, parser and NER, which may not give useful similarity judgements. This may happen if you're using one of the small models, e.g. `en_core_web_sm`, which don't ship with word vectors and only use context-sensitive tensors. You can always add your own word vectors, or use one of the larger models instead if available.\n",
            "  \"__main__\", mod_spec)\n",
            "/usr/lib/python3.6/runpy.py:193: ModelsWarning: [W007] The model you're using has no word vectors loaded, so the result of the Doc.similarity method will be based on the tagger, parser and NER, which may not give useful similarity judgements. This may happen if you're using one of the small models, e.g. `en_core_web_sm`, which don't ship with word vectors and only use context-sensitive tensors. You can always add your own word vectors, or use one of the larger models instead if available.\n",
            "  \"__main__\", mod_spec)\n",
            "/usr/lib/python3.6/runpy.py:193: ModelsWarning: [W007] The model you're using has no word vectors loaded, so the result of the Doc.similarity method will be based on the tagger, parser and NER, which may not give useful similarity judgements. This may happen if you're using one of the small models, e.g. `en_core_web_sm`, which don't ship with word vectors and only use context-sensitive tensors. You can always add your own word vectors, or use one of the larger models instead if available.\n",
            "  \"__main__\", mod_spec)\n",
            "/usr/lib/python3.6/runpy.py:193: ModelsWarning: [W007] The model you're using has no word vectors loaded, so the result of the Doc.similarity method will be based on the tagger, parser and NER, which may not give useful similarity judgements. This may happen if you're using one of the small models, e.g. `en_core_web_sm`, which don't ship with word vectors and only use context-sensitive tensors. You can always add your own word vectors, or use one of the larger models instead if available.\n",
            "  \"__main__\", mod_spec)\n",
            "/usr/lib/python3.6/runpy.py:193: ModelsWarning: [W007] The model you're using has no word vectors loaded, so the result of the Doc.similarity method will be based on the tagger, parser and NER, which may not give useful similarity judgements. This may happen if you're using one of the small models, e.g. `en_core_web_sm`, which don't ship with word vectors and only use context-sensitive tensors. You can always add your own word vectors, or use one of the larger models instead if available.\n",
            "  \"__main__\", mod_spec)\n",
            "/usr/lib/python3.6/runpy.py:193: ModelsWarning: [W007] The model you're using has no word vectors loaded, so the result of the Doc.similarity method will be based on the tagger, parser and NER, which may not give useful similarity judgements. This may happen if you're using one of the small models, e.g. `en_core_web_sm`, which don't ship with word vectors and only use context-sensitive tensors. You can always add your own word vectors, or use one of the larger models instead if available.\n",
            "  \"__main__\", mod_spec)\n",
            "/usr/lib/python3.6/runpy.py:193: ModelsWarning: [W007] The model you're using has no word vectors loaded, so the result of the Doc.similarity method will be based on the tagger, parser and NER, which may not give useful similarity judgements. This may happen if you're using one of the small models, e.g. `en_core_web_sm`, which don't ship with word vectors and only use context-sensitive tensors. You can always add your own word vectors, or use one of the larger models instead if available.\n",
            "  \"__main__\", mod_spec)\n",
            "/usr/lib/python3.6/runpy.py:193: ModelsWarning: [W007] The model you're using has no word vectors loaded, so the result of the Doc.similarity method will be based on the tagger, parser and NER, which may not give useful similarity judgements. This may happen if you're using one of the small models, e.g. `en_core_web_sm`, which don't ship with word vectors and only use context-sensitive tensors. You can always add your own word vectors, or use one of the larger models instead if available.\n",
            "  \"__main__\", mod_spec)\n",
            "/usr/lib/python3.6/runpy.py:193: ModelsWarning: [W007] The model you're using has no word vectors loaded, so the result of the Doc.similarity method will be based on the tagger, parser and NER, which may not give useful similarity judgements. This may happen if you're using one of the small models, e.g. `en_core_web_sm`, which don't ship with word vectors and only use context-sensitive tensors. You can always add your own word vectors, or use one of the larger models instead if available.\n",
            "  \"__main__\", mod_spec)\n",
            "/usr/lib/python3.6/runpy.py:193: ModelsWarning: [W007] The model you're using has no word vectors loaded, so the result of the Doc.similarity method will be based on the tagger, parser and NER, which may not give useful similarity judgements. This may happen if you're using one of the small models, e.g. `en_core_web_sm`, which don't ship with word vectors and only use context-sensitive tensors. You can always add your own word vectors, or use one of the larger models instead if available.\n",
            "  \"__main__\", mod_spec)\n",
            "/usr/lib/python3.6/runpy.py:193: ModelsWarning: [W007] The model you're using has no word vectors loaded, so the result of the Doc.similarity method will be based on the tagger, parser and NER, which may not give useful similarity judgements. This may happen if you're using one of the small models, e.g. `en_core_web_sm`, which don't ship with word vectors and only use context-sensitive tensors. You can always add your own word vectors, or use one of the larger models instead if available.\n",
            "  \"__main__\", mod_spec)\n",
            "/usr/lib/python3.6/runpy.py:193: ModelsWarning: [W007] The model you're using has no word vectors loaded, so the result of the Doc.similarity method will be based on the tagger, parser and NER, which may not give useful similarity judgements. This may happen if you're using one of the small models, e.g. `en_core_web_sm`, which don't ship with word vectors and only use context-sensitive tensors. You can always add your own word vectors, or use one of the larger models instead if available.\n",
            "  \"__main__\", mod_spec)\n",
            "/usr/lib/python3.6/runpy.py:193: ModelsWarning: [W007] The model you're using has no word vectors loaded, so the result of the Doc.similarity method will be based on the tagger, parser and NER, which may not give useful similarity judgements. This may happen if you're using one of the small models, e.g. `en_core_web_sm`, which don't ship with word vectors and only use context-sensitive tensors. You can always add your own word vectors, or use one of the larger models instead if available.\n",
            "  \"__main__\", mod_spec)\n",
            "/usr/lib/python3.6/runpy.py:193: ModelsWarning: [W007] The model you're using has no word vectors loaded, so the result of the Doc.similarity method will be based on the tagger, parser and NER, which may not give useful similarity judgements. This may happen if you're using one of the small models, e.g. `en_core_web_sm`, which don't ship with word vectors and only use context-sensitive tensors. You can always add your own word vectors, or use one of the larger models instead if available.\n",
            "  \"__main__\", mod_spec)\n",
            "/usr/lib/python3.6/runpy.py:193: ModelsWarning: [W007] The model you're using has no word vectors loaded, so the result of the Doc.similarity method will be based on the tagger, parser and NER, which may not give useful similarity judgements. This may happen if you're using one of the small models, e.g. `en_core_web_sm`, which don't ship with word vectors and only use context-sensitive tensors. You can always add your own word vectors, or use one of the larger models instead if available.\n",
            "  \"__main__\", mod_spec)\n",
            "/usr/lib/python3.6/runpy.py:193: ModelsWarning: [W007] The model you're using has no word vectors loaded, so the result of the Doc.similarity method will be based on the tagger, parser and NER, which may not give useful similarity judgements. This may happen if you're using one of the small models, e.g. `en_core_web_sm`, which don't ship with word vectors and only use context-sensitive tensors. You can always add your own word vectors, or use one of the larger models instead if available.\n",
            "  \"__main__\", mod_spec)\n",
            "/usr/lib/python3.6/runpy.py:193: ModelsWarning: [W007] The model you're using has no word vectors loaded, so the result of the Doc.similarity method will be based on the tagger, parser and NER, which may not give useful similarity judgements. This may happen if you're using one of the small models, e.g. `en_core_web_sm`, which don't ship with word vectors and only use context-sensitive tensors. You can always add your own word vectors, or use one of the larger models instead if available.\n",
            "  \"__main__\", mod_spec)\n",
            "/usr/lib/python3.6/runpy.py:193: ModelsWarning: [W007] The model you're using has no word vectors loaded, so the result of the Doc.similarity method will be based on the tagger, parser and NER, which may not give useful similarity judgements. This may happen if you're using one of the small models, e.g. `en_core_web_sm`, which don't ship with word vectors and only use context-sensitive tensors. You can always add your own word vectors, or use one of the larger models instead if available.\n",
            "  \"__main__\", mod_spec)\n",
            "/usr/lib/python3.6/runpy.py:193: ModelsWarning: [W007] The model you're using has no word vectors loaded, so the result of the Doc.similarity method will be based on the tagger, parser and NER, which may not give useful similarity judgements. This may happen if you're using one of the small models, e.g. `en_core_web_sm`, which don't ship with word vectors and only use context-sensitive tensors. You can always add your own word vectors, or use one of the larger models instead if available.\n",
            "  \"__main__\", mod_spec)\n",
            "/usr/lib/python3.6/runpy.py:193: ModelsWarning: [W007] The model you're using has no word vectors loaded, so the result of the Doc.similarity method will be based on the tagger, parser and NER, which may not give useful similarity judgements. This may happen if you're using one of the small models, e.g. `en_core_web_sm`, which don't ship with word vectors and only use context-sensitive tensors. You can always add your own word vectors, or use one of the larger models instead if available.\n",
            "  \"__main__\", mod_spec)\n",
            "/usr/lib/python3.6/runpy.py:193: ModelsWarning: [W007] The model you're using has no word vectors loaded, so the result of the Doc.similarity method will be based on the tagger, parser and NER, which may not give useful similarity judgements. This may happen if you're using one of the small models, e.g. `en_core_web_sm`, which don't ship with word vectors and only use context-sensitive tensors. You can always add your own word vectors, or use one of the larger models instead if available.\n",
            "  \"__main__\", mod_spec)\n",
            "/usr/lib/python3.6/runpy.py:193: ModelsWarning: [W007] The model you're using has no word vectors loaded, so the result of the Doc.similarity method will be based on the tagger, parser and NER, which may not give useful similarity judgements. This may happen if you're using one of the small models, e.g. `en_core_web_sm`, which don't ship with word vectors and only use context-sensitive tensors. You can always add your own word vectors, or use one of the larger models instead if available.\n",
            "  \"__main__\", mod_spec)\n",
            "/usr/lib/python3.6/runpy.py:193: ModelsWarning: [W007] The model you're using has no word vectors loaded, so the result of the Doc.similarity method will be based on the tagger, parser and NER, which may not give useful similarity judgements. This may happen if you're using one of the small models, e.g. `en_core_web_sm`, which don't ship with word vectors and only use context-sensitive tensors. You can always add your own word vectors, or use one of the larger models instead if available.\n",
            "  \"__main__\", mod_spec)\n",
            "/usr/lib/python3.6/runpy.py:193: ModelsWarning: [W007] The model you're using has no word vectors loaded, so the result of the Doc.similarity method will be based on the tagger, parser and NER, which may not give useful similarity judgements. This may happen if you're using one of the small models, e.g. `en_core_web_sm`, which don't ship with word vectors and only use context-sensitive tensors. You can always add your own word vectors, or use one of the larger models instead if available.\n",
            "  \"__main__\", mod_spec)\n",
            "/usr/lib/python3.6/runpy.py:193: ModelsWarning: [W007] The model you're using has no word vectors loaded, so the result of the Doc.similarity method will be based on the tagger, parser and NER, which may not give useful similarity judgements. This may happen if you're using one of the small models, e.g. `en_core_web_sm`, which don't ship with word vectors and only use context-sensitive tensors. You can always add your own word vectors, or use one of the larger models instead if available.\n",
            "  \"__main__\", mod_spec)\n",
            "/usr/lib/python3.6/runpy.py:193: ModelsWarning: [W007] The model you're using has no word vectors loaded, so the result of the Doc.similarity method will be based on the tagger, parser and NER, which may not give useful similarity judgements. This may happen if you're using one of the small models, e.g. `en_core_web_sm`, which don't ship with word vectors and only use context-sensitive tensors. You can always add your own word vectors, or use one of the larger models instead if available.\n",
            "  \"__main__\", mod_spec)\n",
            "/usr/lib/python3.6/runpy.py:193: ModelsWarning: [W007] The model you're using has no word vectors loaded, so the result of the Doc.similarity method will be based on the tagger, parser and NER, which may not give useful similarity judgements. This may happen if you're using one of the small models, e.g. `en_core_web_sm`, which don't ship with word vectors and only use context-sensitive tensors. You can always add your own word vectors, or use one of the larger models instead if available.\n",
            "  \"__main__\", mod_spec)\n",
            "/usr/lib/python3.6/runpy.py:193: ModelsWarning: [W007] The model you're using has no word vectors loaded, so the result of the Doc.similarity method will be based on the tagger, parser and NER, which may not give useful similarity judgements. This may happen if you're using one of the small models, e.g. `en_core_web_sm`, which don't ship with word vectors and only use context-sensitive tensors. You can always add your own word vectors, or use one of the larger models instead if available.\n",
            "  \"__main__\", mod_spec)\n",
            "/usr/lib/python3.6/runpy.py:193: ModelsWarning: [W007] The model you're using has no word vectors loaded, so the result of the Doc.similarity method will be based on the tagger, parser and NER, which may not give useful similarity judgements. This may happen if you're using one of the small models, e.g. `en_core_web_sm`, which don't ship with word vectors and only use context-sensitive tensors. You can always add your own word vectors, or use one of the larger models instead if available.\n",
            "  \"__main__\", mod_spec)\n",
            "/usr/lib/python3.6/runpy.py:193: ModelsWarning: [W007] The model you're using has no word vectors loaded, so the result of the Doc.similarity method will be based on the tagger, parser and NER, which may not give useful similarity judgements. This may happen if you're using one of the small models, e.g. `en_core_web_sm`, which don't ship with word vectors and only use context-sensitive tensors. You can always add your own word vectors, or use one of the larger models instead if available.\n",
            "  \"__main__\", mod_spec)\n",
            "/usr/lib/python3.6/runpy.py:193: ModelsWarning: [W007] The model you're using has no word vectors loaded, so the result of the Doc.similarity method will be based on the tagger, parser and NER, which may not give useful similarity judgements. This may happen if you're using one of the small models, e.g. `en_core_web_sm`, which don't ship with word vectors and only use context-sensitive tensors. You can always add your own word vectors, or use one of the larger models instead if available.\n",
            "  \"__main__\", mod_spec)\n",
            "/usr/lib/python3.6/runpy.py:193: ModelsWarning: [W007] The model you're using has no word vectors loaded, so the result of the Doc.similarity method will be based on the tagger, parser and NER, which may not give useful similarity judgements. This may happen if you're using one of the small models, e.g. `en_core_web_sm`, which don't ship with word vectors and only use context-sensitive tensors. You can always add your own word vectors, or use one of the larger models instead if available.\n",
            "  \"__main__\", mod_spec)\n",
            "/usr/lib/python3.6/runpy.py:193: ModelsWarning: [W007] The model you're using has no word vectors loaded, so the result of the Doc.similarity method will be based on the tagger, parser and NER, which may not give useful similarity judgements. This may happen if you're using one of the small models, e.g. `en_core_web_sm`, which don't ship with word vectors and only use context-sensitive tensors. You can always add your own word vectors, or use one of the larger models instead if available.\n",
            "  \"__main__\", mod_spec)\n",
            "/usr/lib/python3.6/runpy.py:193: ModelsWarning: [W007] The model you're using has no word vectors loaded, so the result of the Doc.similarity method will be based on the tagger, parser and NER, which may not give useful similarity judgements. This may happen if you're using one of the small models, e.g. `en_core_web_sm`, which don't ship with word vectors and only use context-sensitive tensors. You can always add your own word vectors, or use one of the larger models instead if available.\n",
            "  \"__main__\", mod_spec)\n",
            "/usr/lib/python3.6/runpy.py:193: ModelsWarning: [W007] The model you're using has no word vectors loaded, so the result of the Doc.similarity method will be based on the tagger, parser and NER, which may not give useful similarity judgements. This may happen if you're using one of the small models, e.g. `en_core_web_sm`, which don't ship with word vectors and only use context-sensitive tensors. You can always add your own word vectors, or use one of the larger models instead if available.\n",
            "  \"__main__\", mod_spec)\n",
            "/usr/lib/python3.6/runpy.py:193: ModelsWarning: [W007] The model you're using has no word vectors loaded, so the result of the Doc.similarity method will be based on the tagger, parser and NER, which may not give useful similarity judgements. This may happen if you're using one of the small models, e.g. `en_core_web_sm`, which don't ship with word vectors and only use context-sensitive tensors. You can always add your own word vectors, or use one of the larger models instead if available.\n",
            "  \"__main__\", mod_spec)\n",
            "/usr/lib/python3.6/runpy.py:193: ModelsWarning: [W007] The model you're using has no word vectors loaded, so the result of the Doc.similarity method will be based on the tagger, parser and NER, which may not give useful similarity judgements. This may happen if you're using one of the small models, e.g. `en_core_web_sm`, which don't ship with word vectors and only use context-sensitive tensors. You can always add your own word vectors, or use one of the larger models instead if available.\n",
            "  \"__main__\", mod_spec)\n",
            "/usr/lib/python3.6/runpy.py:193: ModelsWarning: [W007] The model you're using has no word vectors loaded, so the result of the Doc.similarity method will be based on the tagger, parser and NER, which may not give useful similarity judgements. This may happen if you're using one of the small models, e.g. `en_core_web_sm`, which don't ship with word vectors and only use context-sensitive tensors. You can always add your own word vectors, or use one of the larger models instead if available.\n",
            "  \"__main__\", mod_spec)\n",
            "/usr/lib/python3.6/runpy.py:193: ModelsWarning: [W007] The model you're using has no word vectors loaded, so the result of the Doc.similarity method will be based on the tagger, parser and NER, which may not give useful similarity judgements. This may happen if you're using one of the small models, e.g. `en_core_web_sm`, which don't ship with word vectors and only use context-sensitive tensors. You can always add your own word vectors, or use one of the larger models instead if available.\n",
            "  \"__main__\", mod_spec)\n",
            "/usr/lib/python3.6/runpy.py:193: ModelsWarning: [W007] The model you're using has no word vectors loaded, so the result of the Doc.similarity method will be based on the tagger, parser and NER, which may not give useful similarity judgements. This may happen if you're using one of the small models, e.g. `en_core_web_sm`, which don't ship with word vectors and only use context-sensitive tensors. You can always add your own word vectors, or use one of the larger models instead if available.\n",
            "  \"__main__\", mod_spec)\n",
            "/usr/lib/python3.6/runpy.py:193: ModelsWarning: [W007] The model you're using has no word vectors loaded, so the result of the Doc.similarity method will be based on the tagger, parser and NER, which may not give useful similarity judgements. This may happen if you're using one of the small models, e.g. `en_core_web_sm`, which don't ship with word vectors and only use context-sensitive tensors. You can always add your own word vectors, or use one of the larger models instead if available.\n",
            "  \"__main__\", mod_spec)\n",
            "/usr/lib/python3.6/runpy.py:193: ModelsWarning: [W007] The model you're using has no word vectors loaded, so the result of the Doc.similarity method will be based on the tagger, parser and NER, which may not give useful similarity judgements. This may happen if you're using one of the small models, e.g. `en_core_web_sm`, which don't ship with word vectors and only use context-sensitive tensors. You can always add your own word vectors, or use one of the larger models instead if available.\n",
            "  \"__main__\", mod_spec)\n",
            "/usr/lib/python3.6/runpy.py:193: ModelsWarning: [W007] The model you're using has no word vectors loaded, so the result of the Doc.similarity method will be based on the tagger, parser and NER, which may not give useful similarity judgements. This may happen if you're using one of the small models, e.g. `en_core_web_sm`, which don't ship with word vectors and only use context-sensitive tensors. You can always add your own word vectors, or use one of the larger models instead if available.\n",
            "  \"__main__\", mod_spec)\n",
            "/usr/lib/python3.6/runpy.py:193: ModelsWarning: [W007] The model you're using has no word vectors loaded, so the result of the Doc.similarity method will be based on the tagger, parser and NER, which may not give useful similarity judgements. This may happen if you're using one of the small models, e.g. `en_core_web_sm`, which don't ship with word vectors and only use context-sensitive tensors. You can always add your own word vectors, or use one of the larger models instead if available.\n",
            "  \"__main__\", mod_spec)\n",
            "/usr/lib/python3.6/runpy.py:193: ModelsWarning: [W007] The model you're using has no word vectors loaded, so the result of the Doc.similarity method will be based on the tagger, parser and NER, which may not give useful similarity judgements. This may happen if you're using one of the small models, e.g. `en_core_web_sm`, which don't ship with word vectors and only use context-sensitive tensors. You can always add your own word vectors, or use one of the larger models instead if available.\n",
            "  \"__main__\", mod_spec)\n",
            "/usr/lib/python3.6/runpy.py:193: ModelsWarning: [W007] The model you're using has no word vectors loaded, so the result of the Doc.similarity method will be based on the tagger, parser and NER, which may not give useful similarity judgements. This may happen if you're using one of the small models, e.g. `en_core_web_sm`, which don't ship with word vectors and only use context-sensitive tensors. You can always add your own word vectors, or use one of the larger models instead if available.\n",
            "  \"__main__\", mod_spec)\n",
            "/usr/lib/python3.6/runpy.py:193: ModelsWarning: [W007] The model you're using has no word vectors loaded, so the result of the Doc.similarity method will be based on the tagger, parser and NER, which may not give useful similarity judgements. This may happen if you're using one of the small models, e.g. `en_core_web_sm`, which don't ship with word vectors and only use context-sensitive tensors. You can always add your own word vectors, or use one of the larger models instead if available.\n",
            "  \"__main__\", mod_spec)\n",
            "/usr/lib/python3.6/runpy.py:193: ModelsWarning: [W007] The model you're using has no word vectors loaded, so the result of the Doc.similarity method will be based on the tagger, parser and NER, which may not give useful similarity judgements. This may happen if you're using one of the small models, e.g. `en_core_web_sm`, which don't ship with word vectors and only use context-sensitive tensors. You can always add your own word vectors, or use one of the larger models instead if available.\n",
            "  \"__main__\", mod_spec)\n",
            "/usr/lib/python3.6/runpy.py:193: ModelsWarning: [W007] The model you're using has no word vectors loaded, so the result of the Doc.similarity method will be based on the tagger, parser and NER, which may not give useful similarity judgements. This may happen if you're using one of the small models, e.g. `en_core_web_sm`, which don't ship with word vectors and only use context-sensitive tensors. You can always add your own word vectors, or use one of the larger models instead if available.\n",
            "  \"__main__\", mod_spec)\n",
            "/usr/lib/python3.6/runpy.py:193: ModelsWarning: [W007] The model you're using has no word vectors loaded, so the result of the Doc.similarity method will be based on the tagger, parser and NER, which may not give useful similarity judgements. This may happen if you're using one of the small models, e.g. `en_core_web_sm`, which don't ship with word vectors and only use context-sensitive tensors. You can always add your own word vectors, or use one of the larger models instead if available.\n",
            "  \"__main__\", mod_spec)\n",
            "/usr/lib/python3.6/runpy.py:193: ModelsWarning: [W007] The model you're using has no word vectors loaded, so the result of the Doc.similarity method will be based on the tagger, parser and NER, which may not give useful similarity judgements. This may happen if you're using one of the small models, e.g. `en_core_web_sm`, which don't ship with word vectors and only use context-sensitive tensors. You can always add your own word vectors, or use one of the larger models instead if available.\n",
            "  \"__main__\", mod_spec)\n",
            "/usr/lib/python3.6/runpy.py:193: ModelsWarning: [W007] The model you're using has no word vectors loaded, so the result of the Doc.similarity method will be based on the tagger, parser and NER, which may not give useful similarity judgements. This may happen if you're using one of the small models, e.g. `en_core_web_sm`, which don't ship with word vectors and only use context-sensitive tensors. You can always add your own word vectors, or use one of the larger models instead if available.\n",
            "  \"__main__\", mod_spec)\n",
            "/usr/lib/python3.6/runpy.py:193: ModelsWarning: [W007] The model you're using has no word vectors loaded, so the result of the Doc.similarity method will be based on the tagger, parser and NER, which may not give useful similarity judgements. This may happen if you're using one of the small models, e.g. `en_core_web_sm`, which don't ship with word vectors and only use context-sensitive tensors. You can always add your own word vectors, or use one of the larger models instead if available.\n",
            "  \"__main__\", mod_spec)\n",
            "/usr/lib/python3.6/runpy.py:193: ModelsWarning: [W007] The model you're using has no word vectors loaded, so the result of the Doc.similarity method will be based on the tagger, parser and NER, which may not give useful similarity judgements. This may happen if you're using one of the small models, e.g. `en_core_web_sm`, which don't ship with word vectors and only use context-sensitive tensors. You can always add your own word vectors, or use one of the larger models instead if available.\n",
            "  \"__main__\", mod_spec)\n",
            "/usr/lib/python3.6/runpy.py:193: ModelsWarning: [W007] The model you're using has no word vectors loaded, so the result of the Doc.similarity method will be based on the tagger, parser and NER, which may not give useful similarity judgements. This may happen if you're using one of the small models, e.g. `en_core_web_sm`, which don't ship with word vectors and only use context-sensitive tensors. You can always add your own word vectors, or use one of the larger models instead if available.\n",
            "  \"__main__\", mod_spec)\n",
            "/usr/lib/python3.6/runpy.py:193: ModelsWarning: [W007] The model you're using has no word vectors loaded, so the result of the Doc.similarity method will be based on the tagger, parser and NER, which may not give useful similarity judgements. This may happen if you're using one of the small models, e.g. `en_core_web_sm`, which don't ship with word vectors and only use context-sensitive tensors. You can always add your own word vectors, or use one of the larger models instead if available.\n",
            "  \"__main__\", mod_spec)\n",
            "/usr/lib/python3.6/runpy.py:193: ModelsWarning: [W007] The model you're using has no word vectors loaded, so the result of the Doc.similarity method will be based on the tagger, parser and NER, which may not give useful similarity judgements. This may happen if you're using one of the small models, e.g. `en_core_web_sm`, which don't ship with word vectors and only use context-sensitive tensors. You can always add your own word vectors, or use one of the larger models instead if available.\n",
            "  \"__main__\", mod_spec)\n"
          ],
          "name": "stderr"
        }
      ]
    },
    {
      "cell_type": "code",
      "metadata": {
        "id": "SoRWejuPmNib",
        "outputId": "b51f94c5-d5f2-400d-dadc-a71236ff76f1",
        "colab": {
          "base_uri": "https://localhost:8080/",
          "height": 328
        }
      },
      "source": [
        "df_spacy_sim"
      ],
      "execution_count": null,
      "outputs": [
        {
          "output_type": "execute_result",
          "data": {
            "text/html": [
              "<div>\n",
              "<style scoped>\n",
              "    .dataframe tbody tr th:only-of-type {\n",
              "        vertical-align: middle;\n",
              "    }\n",
              "\n",
              "    .dataframe tbody tr th {\n",
              "        vertical-align: top;\n",
              "    }\n",
              "\n",
              "    .dataframe thead th {\n",
              "        text-align: right;\n",
              "    }\n",
              "</style>\n",
              "<table border=\"1\" class=\"dataframe\">\n",
              "  <thead>\n",
              "    <tr style=\"text-align: right;\">\n",
              "      <th></th>\n",
              "      <th>browser</th>\n",
              "      <th>internet</th>\n",
              "      <th>lan</th>\n",
              "      <th>laptops desktops tablets</th>\n",
              "      <th>other</th>\n",
              "      <th>proxy pac</th>\n",
              "      <th>remote access</th>\n",
              "      <th>wan</th>\n",
              "      <th>wifi</th>\n",
              "    </tr>\n",
              "  </thead>\n",
              "  <tbody>\n",
              "    <tr>\n",
              "      <th>browser</th>\n",
              "      <td>100</td>\n",
              "      <td>57</td>\n",
              "      <td>54</td>\n",
              "      <td>69</td>\n",
              "      <td>61</td>\n",
              "      <td>60</td>\n",
              "      <td>59</td>\n",
              "      <td>59</td>\n",
              "      <td>57</td>\n",
              "    </tr>\n",
              "    <tr>\n",
              "      <th>internet</th>\n",
              "      <td>57</td>\n",
              "      <td>100</td>\n",
              "      <td>99</td>\n",
              "      <td>90</td>\n",
              "      <td>99</td>\n",
              "      <td>99</td>\n",
              "      <td>99</td>\n",
              "      <td>99</td>\n",
              "      <td>99</td>\n",
              "    </tr>\n",
              "    <tr>\n",
              "      <th>lan</th>\n",
              "      <td>54</td>\n",
              "      <td>99</td>\n",
              "      <td>100</td>\n",
              "      <td>88</td>\n",
              "      <td>98</td>\n",
              "      <td>99</td>\n",
              "      <td>99</td>\n",
              "      <td>99</td>\n",
              "      <td>99</td>\n",
              "    </tr>\n",
              "    <tr>\n",
              "      <th>laptops desktops tablets</th>\n",
              "      <td>69</td>\n",
              "      <td>90</td>\n",
              "      <td>88</td>\n",
              "      <td>100</td>\n",
              "      <td>93</td>\n",
              "      <td>92</td>\n",
              "      <td>92</td>\n",
              "      <td>92</td>\n",
              "      <td>91</td>\n",
              "    </tr>\n",
              "    <tr>\n",
              "      <th>other</th>\n",
              "      <td>61</td>\n",
              "      <td>99</td>\n",
              "      <td>98</td>\n",
              "      <td>93</td>\n",
              "      <td>100</td>\n",
              "      <td>99</td>\n",
              "      <td>99</td>\n",
              "      <td>99</td>\n",
              "      <td>99</td>\n",
              "    </tr>\n",
              "    <tr>\n",
              "      <th>proxy pac</th>\n",
              "      <td>60</td>\n",
              "      <td>99</td>\n",
              "      <td>99</td>\n",
              "      <td>92</td>\n",
              "      <td>99</td>\n",
              "      <td>100</td>\n",
              "      <td>99</td>\n",
              "      <td>99</td>\n",
              "      <td>99</td>\n",
              "    </tr>\n",
              "    <tr>\n",
              "      <th>remote access</th>\n",
              "      <td>59</td>\n",
              "      <td>99</td>\n",
              "      <td>99</td>\n",
              "      <td>92</td>\n",
              "      <td>99</td>\n",
              "      <td>99</td>\n",
              "      <td>100</td>\n",
              "      <td>99</td>\n",
              "      <td>99</td>\n",
              "    </tr>\n",
              "    <tr>\n",
              "      <th>wan</th>\n",
              "      <td>59</td>\n",
              "      <td>99</td>\n",
              "      <td>99</td>\n",
              "      <td>92</td>\n",
              "      <td>99</td>\n",
              "      <td>99</td>\n",
              "      <td>99</td>\n",
              "      <td>100</td>\n",
              "      <td>99</td>\n",
              "    </tr>\n",
              "    <tr>\n",
              "      <th>wifi</th>\n",
              "      <td>57</td>\n",
              "      <td>99</td>\n",
              "      <td>99</td>\n",
              "      <td>91</td>\n",
              "      <td>99</td>\n",
              "      <td>99</td>\n",
              "      <td>99</td>\n",
              "      <td>99</td>\n",
              "      <td>100</td>\n",
              "    </tr>\n",
              "  </tbody>\n",
              "</table>\n",
              "</div>"
            ],
            "text/plain": [
              "                          browser  internet  lan  ...  remote access  wan  wifi\n",
              "browser                       100        57   54  ...             59   59    57\n",
              "internet                       57       100   99  ...             99   99    99\n",
              "lan                            54        99  100  ...             99   99    99\n",
              "laptops desktops tablets       69        90   88  ...             92   92    91\n",
              "other                          61        99   98  ...             99   99    99\n",
              "proxy pac                      60        99   99  ...             99   99    99\n",
              "remote access                  59        99   99  ...            100   99    99\n",
              "wan                            59        99   99  ...             99  100    99\n",
              "wifi                           57        99   99  ...             99   99   100\n",
              "\n",
              "[9 rows x 9 columns]"
            ]
          },
          "metadata": {
            "tags": []
          },
          "execution_count": 48
        }
      ]
    },
    {
      "cell_type": "code",
      "metadata": {
        "id": "_nIu0UbgmRGM"
      },
      "source": [
        ""
      ],
      "execution_count": null,
      "outputs": []
    }
  ]
}