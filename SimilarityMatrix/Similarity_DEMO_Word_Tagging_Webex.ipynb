{
  "nbformat": 4,
  "nbformat_minor": 0,
  "metadata": {
    "colab": {
      "name": "Similarity_DEMO_Word_Tagging_Webex.ipynb",
      "provenance": [],
      "collapsed_sections": [],
      "toc_visible": true,
      "mount_file_id": "1eYBZt1ChCY9WOhkBKS1DKXcSF0CTavFl",
      "authorship_tag": "ABX9TyM1dOUIa/FjQOmNALfX8LW8",
      "include_colab_link": true
    },
    "kernelspec": {
      "name": "python3",
      "display_name": "Python 3"
    },
    "accelerator": "GPU"
  },
  "cells": [
    {
      "cell_type": "markdown",
      "metadata": {
        "id": "view-in-github",
        "colab_type": "text"
      },
      "source": [
        "<a href=\"https://colab.research.google.com/github/shubhamksingh1/WordTagging/blob/main/SimilarityMatrix/Similarity_DEMO_Word_Tagging_Webex.ipynb\" target=\"_parent\"><img src=\"https://colab.research.google.com/assets/colab-badge.svg\" alt=\"Open In Colab\"/></a>"
      ]
    },
    {
      "cell_type": "markdown",
      "metadata": {
        "id": "5lawn9Oqyh7L"
      },
      "source": [
        "### Library Imports"
      ]
    },
    {
      "cell_type": "code",
      "metadata": {
        "id": "rrcz3l9QxW7y"
      },
      "source": [
        "import pandas as pd\n",
        "import numpy as np"
      ],
      "execution_count": null,
      "outputs": []
    },
    {
      "cell_type": "markdown",
      "metadata": {
        "id": "-OSTAHtjymhS"
      },
      "source": [
        "### Dataset Exploration"
      ]
    },
    {
      "cell_type": "code",
      "metadata": {
        "id": "_WcO_DVmxagM"
      },
      "source": [
        "df = pd.read_csv(\"/content/drive/My Drive/updated_dataset_ner.csv\")"
      ],
      "execution_count": null,
      "outputs": []
    },
    {
      "cell_type": "code",
      "metadata": {
        "id": "g4iDOZMJxbMQ",
        "outputId": "5290e603-9511-403b-a758-d143989c8ee8",
        "colab": {
          "base_uri": "https://localhost:8080/",
          "height": 34
        }
      },
      "source": [
        "df.shape"
      ],
      "execution_count": null,
      "outputs": [
        {
          "output_type": "execute_result",
          "data": {
            "text/plain": [
              "(499, 3)"
            ]
          },
          "metadata": {
            "tags": []
          },
          "execution_count": 3
        }
      ]
    },
    {
      "cell_type": "code",
      "metadata": {
        "id": "3WUCBrY-xd3l",
        "outputId": "538f953c-9f67-4886-81f0-f2bce48d9009",
        "colab": {
          "base_uri": "https://localhost:8080/",
          "height": 204
        }
      },
      "source": [
        "df.head()"
      ],
      "execution_count": null,
      "outputs": [
        {
          "output_type": "execute_result",
          "data": {
            "text/html": [
              "<div>\n",
              "<style scoped>\n",
              "    .dataframe tbody tr th:only-of-type {\n",
              "        vertical-align: middle;\n",
              "    }\n",
              "\n",
              "    .dataframe tbody tr th {\n",
              "        vertical-align: top;\n",
              "    }\n",
              "\n",
              "    .dataframe thead th {\n",
              "        text-align: right;\n",
              "    }\n",
              "</style>\n",
              "<table border=\"1\" class=\"dataframe\">\n",
              "  <thead>\n",
              "    <tr style=\"text-align: right;\">\n",
              "      <th></th>\n",
              "      <th>SentenceID</th>\n",
              "      <th>Words</th>\n",
              "      <th>Tags</th>\n",
              "    </tr>\n",
              "  </thead>\n",
              "  <tbody>\n",
              "    <tr>\n",
              "      <th>0</th>\n",
              "      <td>1</td>\n",
              "      <td>Pankaj Seth</td>\n",
              "      <td>person</td>\n",
              "    </tr>\n",
              "    <tr>\n",
              "      <th>1</th>\n",
              "      <td>1</td>\n",
              "      <td>MS Excel</td>\n",
              "      <td>tool_skills</td>\n",
              "    </tr>\n",
              "    <tr>\n",
              "      <th>2</th>\n",
              "      <td>1</td>\n",
              "      <td>Auto ARIMA Mode</td>\n",
              "      <td>tech_skills</td>\n",
              "    </tr>\n",
              "    <tr>\n",
              "      <th>3</th>\n",
              "      <td>1</td>\n",
              "      <td>logistic Regression</td>\n",
              "      <td>tech_skills</td>\n",
              "    </tr>\n",
              "    <tr>\n",
              "      <th>4</th>\n",
              "      <td>1</td>\n",
              "      <td>Sentiment Analysis</td>\n",
              "      <td>tech_skills</td>\n",
              "    </tr>\n",
              "  </tbody>\n",
              "</table>\n",
              "</div>"
            ],
            "text/plain": [
              "   SentenceID                Words         Tags\n",
              "0           1          Pankaj Seth       person\n",
              "1           1             MS Excel  tool_skills\n",
              "2           1      Auto ARIMA Mode  tech_skills\n",
              "3           1  logistic Regression  tech_skills\n",
              "4           1   Sentiment Analysis  tech_skills"
            ]
          },
          "metadata": {
            "tags": []
          },
          "execution_count": 4
        }
      ]
    },
    {
      "cell_type": "code",
      "metadata": {
        "id": "KjxfpqFBxgz8",
        "outputId": "5591ae16-dcdd-44af-9475-08b9ebeb8bf9",
        "colab": {
          "base_uri": "https://localhost:8080/",
          "height": 204
        }
      },
      "source": [
        "df.tail()"
      ],
      "execution_count": null,
      "outputs": [
        {
          "output_type": "execute_result",
          "data": {
            "text/html": [
              "<div>\n",
              "<style scoped>\n",
              "    .dataframe tbody tr th:only-of-type {\n",
              "        vertical-align: middle;\n",
              "    }\n",
              "\n",
              "    .dataframe tbody tr th {\n",
              "        vertical-align: top;\n",
              "    }\n",
              "\n",
              "    .dataframe thead th {\n",
              "        text-align: right;\n",
              "    }\n",
              "</style>\n",
              "<table border=\"1\" class=\"dataframe\">\n",
              "  <thead>\n",
              "    <tr style=\"text-align: right;\">\n",
              "      <th></th>\n",
              "      <th>SentenceID</th>\n",
              "      <th>Words</th>\n",
              "      <th>Tags</th>\n",
              "    </tr>\n",
              "  </thead>\n",
              "  <tbody>\n",
              "    <tr>\n",
              "      <th>494</th>\n",
              "      <td>36</td>\n",
              "      <td>JAVA</td>\n",
              "      <td>tech_skills</td>\n",
              "    </tr>\n",
              "    <tr>\n",
              "      <th>495</th>\n",
              "      <td>36</td>\n",
              "      <td>TCS</td>\n",
              "      <td>organization</td>\n",
              "    </tr>\n",
              "    <tr>\n",
              "      <th>496</th>\n",
              "      <td>36</td>\n",
              "      <td>2</td>\n",
              "      <td>exp_in_months</td>\n",
              "    </tr>\n",
              "    <tr>\n",
              "      <th>497</th>\n",
              "      <td>36</td>\n",
              "      <td>navneet.kaur7@tcs.com</td>\n",
              "      <td>contact_email</td>\n",
              "    </tr>\n",
              "    <tr>\n",
              "      <th>498</th>\n",
              "      <td>36</td>\n",
              "      <td>8054090200</td>\n",
              "      <td>contact_no</td>\n",
              "    </tr>\n",
              "  </tbody>\n",
              "</table>\n",
              "</div>"
            ],
            "text/plain": [
              "     SentenceID                  Words           Tags\n",
              "494          36                   JAVA    tech_skills\n",
              "495          36                    TCS   organization\n",
              "496          36                      2  exp_in_months\n",
              "497          36  navneet.kaur7@tcs.com  contact_email\n",
              "498          36             8054090200     contact_no"
            ]
          },
          "metadata": {
            "tags": []
          },
          "execution_count": 5
        }
      ]
    },
    {
      "cell_type": "code",
      "metadata": {
        "id": "uTTBO0w5xj_w",
        "outputId": "c9516bc8-8fd2-4f41-a8c6-1363b1da6da7",
        "colab": {
          "base_uri": "https://localhost:8080/",
          "height": 390
        }
      },
      "source": [
        "df.describe(include='all')"
      ],
      "execution_count": null,
      "outputs": [
        {
          "output_type": "execute_result",
          "data": {
            "text/html": [
              "<div>\n",
              "<style scoped>\n",
              "    .dataframe tbody tr th:only-of-type {\n",
              "        vertical-align: middle;\n",
              "    }\n",
              "\n",
              "    .dataframe tbody tr th {\n",
              "        vertical-align: top;\n",
              "    }\n",
              "\n",
              "    .dataframe thead th {\n",
              "        text-align: right;\n",
              "    }\n",
              "</style>\n",
              "<table border=\"1\" class=\"dataframe\">\n",
              "  <thead>\n",
              "    <tr style=\"text-align: right;\">\n",
              "      <th></th>\n",
              "      <th>SentenceID</th>\n",
              "      <th>Words</th>\n",
              "      <th>Tags</th>\n",
              "    </tr>\n",
              "  </thead>\n",
              "  <tbody>\n",
              "    <tr>\n",
              "      <th>count</th>\n",
              "      <td>499.000000</td>\n",
              "      <td>499</td>\n",
              "      <td>499</td>\n",
              "    </tr>\n",
              "    <tr>\n",
              "      <th>unique</th>\n",
              "      <td>NaN</td>\n",
              "      <td>193</td>\n",
              "      <td>8</td>\n",
              "    </tr>\n",
              "    <tr>\n",
              "      <th>top</th>\n",
              "      <td>NaN</td>\n",
              "      <td>TCS</td>\n",
              "      <td>tech_skills</td>\n",
              "    </tr>\n",
              "    <tr>\n",
              "      <th>freq</th>\n",
              "      <td>NaN</td>\n",
              "      <td>35</td>\n",
              "      <td>226</td>\n",
              "    </tr>\n",
              "    <tr>\n",
              "      <th>mean</th>\n",
              "      <td>18.358717</td>\n",
              "      <td>NaN</td>\n",
              "      <td>NaN</td>\n",
              "    </tr>\n",
              "    <tr>\n",
              "      <th>std</th>\n",
              "      <td>10.892021</td>\n",
              "      <td>NaN</td>\n",
              "      <td>NaN</td>\n",
              "    </tr>\n",
              "    <tr>\n",
              "      <th>min</th>\n",
              "      <td>1.000000</td>\n",
              "      <td>NaN</td>\n",
              "      <td>NaN</td>\n",
              "    </tr>\n",
              "    <tr>\n",
              "      <th>25%</th>\n",
              "      <td>8.000000</td>\n",
              "      <td>NaN</td>\n",
              "      <td>NaN</td>\n",
              "    </tr>\n",
              "    <tr>\n",
              "      <th>50%</th>\n",
              "      <td>19.000000</td>\n",
              "      <td>NaN</td>\n",
              "      <td>NaN</td>\n",
              "    </tr>\n",
              "    <tr>\n",
              "      <th>75%</th>\n",
              "      <td>28.000000</td>\n",
              "      <td>NaN</td>\n",
              "      <td>NaN</td>\n",
              "    </tr>\n",
              "    <tr>\n",
              "      <th>max</th>\n",
              "      <td>36.000000</td>\n",
              "      <td>NaN</td>\n",
              "      <td>NaN</td>\n",
              "    </tr>\n",
              "  </tbody>\n",
              "</table>\n",
              "</div>"
            ],
            "text/plain": [
              "        SentenceID Words         Tags\n",
              "count   499.000000   499          499\n",
              "unique         NaN   193            8\n",
              "top            NaN   TCS  tech_skills\n",
              "freq           NaN    35          226\n",
              "mean     18.358717   NaN          NaN\n",
              "std      10.892021   NaN          NaN\n",
              "min       1.000000   NaN          NaN\n",
              "25%       8.000000   NaN          NaN\n",
              "50%      19.000000   NaN          NaN\n",
              "75%      28.000000   NaN          NaN\n",
              "max      36.000000   NaN          NaN"
            ]
          },
          "metadata": {
            "tags": []
          },
          "execution_count": 6
        }
      ]
    },
    {
      "cell_type": "code",
      "metadata": {
        "id": "JZknaT8Vxm2q"
      },
      "source": [
        "df.drop(['SentenceID'],inplace=True,axis=1)"
      ],
      "execution_count": null,
      "outputs": []
    },
    {
      "cell_type": "code",
      "metadata": {
        "id": "G25RYTxPxqbv",
        "outputId": "17a18c7a-dd4d-4092-eabd-f0624367ba2e",
        "colab": {
          "base_uri": "https://localhost:8080/",
          "height": 204
        }
      },
      "source": [
        "df.head()"
      ],
      "execution_count": null,
      "outputs": [
        {
          "output_type": "execute_result",
          "data": {
            "text/html": [
              "<div>\n",
              "<style scoped>\n",
              "    .dataframe tbody tr th:only-of-type {\n",
              "        vertical-align: middle;\n",
              "    }\n",
              "\n",
              "    .dataframe tbody tr th {\n",
              "        vertical-align: top;\n",
              "    }\n",
              "\n",
              "    .dataframe thead th {\n",
              "        text-align: right;\n",
              "    }\n",
              "</style>\n",
              "<table border=\"1\" class=\"dataframe\">\n",
              "  <thead>\n",
              "    <tr style=\"text-align: right;\">\n",
              "      <th></th>\n",
              "      <th>Words</th>\n",
              "      <th>Tags</th>\n",
              "    </tr>\n",
              "  </thead>\n",
              "  <tbody>\n",
              "    <tr>\n",
              "      <th>0</th>\n",
              "      <td>Pankaj Seth</td>\n",
              "      <td>person</td>\n",
              "    </tr>\n",
              "    <tr>\n",
              "      <th>1</th>\n",
              "      <td>MS Excel</td>\n",
              "      <td>tool_skills</td>\n",
              "    </tr>\n",
              "    <tr>\n",
              "      <th>2</th>\n",
              "      <td>Auto ARIMA Mode</td>\n",
              "      <td>tech_skills</td>\n",
              "    </tr>\n",
              "    <tr>\n",
              "      <th>3</th>\n",
              "      <td>logistic Regression</td>\n",
              "      <td>tech_skills</td>\n",
              "    </tr>\n",
              "    <tr>\n",
              "      <th>4</th>\n",
              "      <td>Sentiment Analysis</td>\n",
              "      <td>tech_skills</td>\n",
              "    </tr>\n",
              "  </tbody>\n",
              "</table>\n",
              "</div>"
            ],
            "text/plain": [
              "                 Words         Tags\n",
              "0          Pankaj Seth       person\n",
              "1             MS Excel  tool_skills\n",
              "2      Auto ARIMA Mode  tech_skills\n",
              "3  logistic Regression  tech_skills\n",
              "4   Sentiment Analysis  tech_skills"
            ]
          },
          "metadata": {
            "tags": []
          },
          "execution_count": 8
        }
      ]
    },
    {
      "cell_type": "code",
      "metadata": {
        "id": "dshMisJfxtGu"
      },
      "source": [
        "d1 = df.groupby(df['Tags'])['Words'].apply(','.join).reset_index()"
      ],
      "execution_count": null,
      "outputs": []
    },
    {
      "cell_type": "code",
      "metadata": {
        "id": "2lKC0kCJxwXX",
        "outputId": "6ae2b418-33cc-4010-9453-4459e073d006",
        "colab": {
          "base_uri": "https://localhost:8080/",
          "height": 297
        }
      },
      "source": [
        "d1"
      ],
      "execution_count": null,
      "outputs": [
        {
          "output_type": "execute_result",
          "data": {
            "text/html": [
              "<div>\n",
              "<style scoped>\n",
              "    .dataframe tbody tr th:only-of-type {\n",
              "        vertical-align: middle;\n",
              "    }\n",
              "\n",
              "    .dataframe tbody tr th {\n",
              "        vertical-align: top;\n",
              "    }\n",
              "\n",
              "    .dataframe thead th {\n",
              "        text-align: right;\n",
              "    }\n",
              "</style>\n",
              "<table border=\"1\" class=\"dataframe\">\n",
              "  <thead>\n",
              "    <tr style=\"text-align: right;\">\n",
              "      <th></th>\n",
              "      <th>Tags</th>\n",
              "      <th>Words</th>\n",
              "    </tr>\n",
              "  </thead>\n",
              "  <tbody>\n",
              "    <tr>\n",
              "      <th>0</th>\n",
              "      <td>contact_email</td>\n",
              "      <td>pankaj.seth@tcs.com,deepna.cp@tcs.com,debankur...</td>\n",
              "    </tr>\n",
              "    <tr>\n",
              "      <th>1</th>\n",
              "      <td>contact_no</td>\n",
              "      <td>9173685598,9400521890,8981532992,9887770063,78...</td>\n",
              "    </tr>\n",
              "    <tr>\n",
              "      <th>2</th>\n",
              "      <td>exp_in_months</td>\n",
              "      <td>28,2,6,4,5,2,3,5,2,2,4,2,4,4,5,5,5,5,4,5,5,5,5...</td>\n",
              "    </tr>\n",
              "    <tr>\n",
              "      <th>3</th>\n",
              "      <td>exp_in_yrs</td>\n",
              "      <td>8,4,3,3,8,1,1,1.5,2,1.5,1</td>\n",
              "    </tr>\n",
              "    <tr>\n",
              "      <th>4</th>\n",
              "      <td>organization</td>\n",
              "      <td>TCS,TCS,TCS,TCS,TCS,TCS,TCS,TCS,TCS,TCS,TATA C...</td>\n",
              "    </tr>\n",
              "    <tr>\n",
              "      <th>5</th>\n",
              "      <td>person</td>\n",
              "      <td>Pankaj Seth,DEEPNA CP,DEBANKUR SAHA,Shruti Mah...</td>\n",
              "    </tr>\n",
              "    <tr>\n",
              "      <th>6</th>\n",
              "      <td>tech_skills</td>\n",
              "      <td>Auto ARIMA Mode,logistic Regression,Sentiment ...</td>\n",
              "    </tr>\n",
              "    <tr>\n",
              "      <th>7</th>\n",
              "      <td>tool_skills</td>\n",
              "      <td>MS Excel,Power BI,Qlik Sense,SAS,Eclipse,Git,V...</td>\n",
              "    </tr>\n",
              "  </tbody>\n",
              "</table>\n",
              "</div>"
            ],
            "text/plain": [
              "            Tags                                              Words\n",
              "0  contact_email  pankaj.seth@tcs.com,deepna.cp@tcs.com,debankur...\n",
              "1     contact_no  9173685598,9400521890,8981532992,9887770063,78...\n",
              "2  exp_in_months  28,2,6,4,5,2,3,5,2,2,4,2,4,4,5,5,5,5,4,5,5,5,5...\n",
              "3     exp_in_yrs                          8,4,3,3,8,1,1,1.5,2,1.5,1\n",
              "4   organization  TCS,TCS,TCS,TCS,TCS,TCS,TCS,TCS,TCS,TCS,TATA C...\n",
              "5         person  Pankaj Seth,DEEPNA CP,DEBANKUR SAHA,Shruti Mah...\n",
              "6    tech_skills  Auto ARIMA Mode,logistic Regression,Sentiment ...\n",
              "7    tool_skills  MS Excel,Power BI,Qlik Sense,SAS,Eclipse,Git,V..."
            ]
          },
          "metadata": {
            "tags": []
          },
          "execution_count": 10
        }
      ]
    },
    {
      "cell_type": "code",
      "metadata": {
        "id": "IiTxQeJpx5cd"
      },
      "source": [
        "def cleaning_text(inp):\n",
        "    corpus = []\n",
        "    reply = str(inp).strip()\n",
        "    reply = reply.lower()\n",
        "    reply = reply.split(\",\")\n",
        "    reply = list(set(reply))\n",
        "    return reply"
      ],
      "execution_count": null,
      "outputs": []
    },
    {
      "cell_type": "code",
      "metadata": {
        "id": "96s0MUq7yCAl"
      },
      "source": [
        "d1['Words'] = d1['Words'].apply(lambda x: cleaning_text(x))"
      ],
      "execution_count": null,
      "outputs": []
    },
    {
      "cell_type": "code",
      "metadata": {
        "id": "9ZrbZc5DyEnm",
        "outputId": "5190a69f-50c0-408d-b115-8ae2e983ae45",
        "colab": {
          "base_uri": "https://localhost:8080/",
          "height": 297
        }
      },
      "source": [
        "d1"
      ],
      "execution_count": null,
      "outputs": [
        {
          "output_type": "execute_result",
          "data": {
            "text/html": [
              "<div>\n",
              "<style scoped>\n",
              "    .dataframe tbody tr th:only-of-type {\n",
              "        vertical-align: middle;\n",
              "    }\n",
              "\n",
              "    .dataframe tbody tr th {\n",
              "        vertical-align: top;\n",
              "    }\n",
              "\n",
              "    .dataframe thead th {\n",
              "        text-align: right;\n",
              "    }\n",
              "</style>\n",
              "<table border=\"1\" class=\"dataframe\">\n",
              "  <thead>\n",
              "    <tr style=\"text-align: right;\">\n",
              "      <th></th>\n",
              "      <th>Tags</th>\n",
              "      <th>Words</th>\n",
              "    </tr>\n",
              "  </thead>\n",
              "  <tbody>\n",
              "    <tr>\n",
              "      <th>0</th>\n",
              "      <td>contact_email</td>\n",
              "      <td>[ishank.goel@tcs.com, niki.pat@tcs.com, mahesh...</td>\n",
              "    </tr>\n",
              "    <tr>\n",
              "      <th>1</th>\n",
              "      <td>contact_no</td>\n",
              "      <td>[9400521890, 8148223880, 8445340053, 805409020...</td>\n",
              "    </tr>\n",
              "    <tr>\n",
              "      <th>2</th>\n",
              "      <td>exp_in_months</td>\n",
              "      <td>[5, 3, 4, 28, 2, 6]</td>\n",
              "    </tr>\n",
              "    <tr>\n",
              "      <th>3</th>\n",
              "      <td>exp_in_yrs</td>\n",
              "      <td>[1.5, 8, 3, 4, 1, 2]</td>\n",
              "    </tr>\n",
              "    <tr>\n",
              "      <th>4</th>\n",
              "      <td>organization</td>\n",
              "      <td>[tata consultancy services ltd, tcs]</td>\n",
              "    </tr>\n",
              "    <tr>\n",
              "      <th>5</th>\n",
              "      <td>person</td>\n",
              "      <td>[pankaj seth, akanksha deshmukh, kuppam ezra n...</td>\n",
              "    </tr>\n",
              "    <tr>\n",
              "      <th>6</th>\n",
              "      <td>tech_skills</td>\n",
              "      <td>[hadoop, , angular2, auto arima mode, python3,...</td>\n",
              "    </tr>\n",
              "    <tr>\n",
              "      <th>7</th>\n",
              "      <td>tool_skills</td>\n",
              "      <td>[cognos bi, visual studio, octave, power bi, n...</td>\n",
              "    </tr>\n",
              "  </tbody>\n",
              "</table>\n",
              "</div>"
            ],
            "text/plain": [
              "            Tags                                              Words\n",
              "0  contact_email  [ishank.goel@tcs.com, niki.pat@tcs.com, mahesh...\n",
              "1     contact_no  [9400521890, 8148223880, 8445340053, 805409020...\n",
              "2  exp_in_months                                [5, 3, 4, 28, 2, 6]\n",
              "3     exp_in_yrs                               [1.5, 8, 3, 4, 1, 2]\n",
              "4   organization               [tata consultancy services ltd, tcs]\n",
              "5         person  [pankaj seth, akanksha deshmukh, kuppam ezra n...\n",
              "6    tech_skills  [hadoop, , angular2, auto arima mode, python3,...\n",
              "7    tool_skills  [cognos bi, visual studio, octave, power bi, n..."
            ]
          },
          "metadata": {
            "tags": []
          },
          "execution_count": 13
        }
      ]
    },
    {
      "cell_type": "markdown",
      "metadata": {
        "id": "6WC-aO3eyr2d"
      },
      "source": [
        "### Exact Match Word Tagging If the word is in corpus"
      ]
    },
    {
      "cell_type": "code",
      "metadata": {
        "id": "vnZVY1bsyG4L",
        "outputId": "060d532a-f021-410b-cb5a-d18acf414fa1",
        "colab": {
          "base_uri": "https://localhost:8080/",
          "height": 34
        }
      },
      "source": [
        "inp = input(\"Enter the value : \")"
      ],
      "execution_count": null,
      "outputs": [
        {
          "output_type": "stream",
          "text": [
            "Enter the value : Google Cloud Platform\n"
          ],
          "name": "stdout"
        }
      ]
    },
    {
      "cell_type": "code",
      "metadata": {
        "id": "NFSjOX0UyMJp"
      },
      "source": [
        "val_to_search = inp.lower().strip()"
      ],
      "execution_count": null,
      "outputs": []
    },
    {
      "cell_type": "code",
      "metadata": {
        "id": "9vLbBRwbyRr9"
      },
      "source": [
        "found = 0"
      ],
      "execution_count": null,
      "outputs": []
    },
    {
      "cell_type": "code",
      "metadata": {
        "id": "vn7zZ7ioyUb5",
        "outputId": "4836f039-b26e-4212-c70f-40e2ff5b1260",
        "colab": {
          "base_uri": "https://localhost:8080/",
          "height": 34
        }
      },
      "source": [
        "for i in range(d1.shape[0]):\n",
        "    if val_to_search in d1['Words'][i]:\n",
        "        found=1\n",
        "        print(d1['Tags'][i])\n",
        "        break;"
      ],
      "execution_count": null,
      "outputs": [
        {
          "output_type": "stream",
          "text": [
            "tool_skills\n"
          ],
          "name": "stdout"
        }
      ]
    },
    {
      "cell_type": "code",
      "metadata": {
        "id": "6M2b3eDsSFEM",
        "outputId": "bed257c1-3295-415e-95ba-3924eea7de0c",
        "colab": {
          "base_uri": "https://localhost:8080/",
          "height": 34
        }
      },
      "source": [
        "found"
      ],
      "execution_count": null,
      "outputs": [
        {
          "output_type": "execute_result",
          "data": {
            "text/plain": [
              "1"
            ]
          },
          "metadata": {
            "tags": []
          },
          "execution_count": 27
        }
      ]
    },
    {
      "cell_type": "markdown",
      "metadata": {
        "id": "iCBafBy5y_Ve"
      },
      "source": [
        "### If the input is not exactly same as in corpus"
      ]
    },
    {
      "cell_type": "markdown",
      "metadata": {
        "id": "xbjP3aYFzPb2"
      },
      "source": [
        "### Importing Libraries"
      ]
    },
    {
      "cell_type": "code",
      "metadata": {
        "id": "zGsmuWp-yXVR"
      },
      "source": [
        "from sklearn.metrics.pairwise import cosine_similarity\n",
        "from sklearn.feature_extraction.text import CountVectorizer"
      ],
      "execution_count": null,
      "outputs": []
    },
    {
      "cell_type": "code",
      "metadata": {
        "id": "nytibxm5zSEO"
      },
      "source": [
        "def compute_similarity(str1,str2):\n",
        "    train = [str1,str2]\n",
        "    #Define a Count Vectorizer Object\n",
        "    countvector = CountVectorizer()\n",
        "\n",
        "    #Construct the required TF matrix by fitting and transforming the data\n",
        "    count_matrix = countvector.fit_transform(train)\n",
        "\n",
        "    cosine_sim = cosine_similarity(count_matrix, count_matrix)\n",
        "    return cosine_sim"
      ],
      "execution_count": null,
      "outputs": []
    },
    {
      "cell_type": "code",
      "metadata": {
        "id": "I-ZO84hYzZFu"
      },
      "source": [
        "arrlist = [0 for i in range(d1.shape[0])]"
      ],
      "execution_count": null,
      "outputs": []
    },
    {
      "cell_type": "code",
      "metadata": {
        "id": "5AIEXAaWzcBc"
      },
      "source": [
        "df_cos_sim = pd.DataFrame(np.array([arrlist]),columns=d1['Tags'].values)\n",
        "df_cos_sim = df_cos_sim.fillna(0)"
      ],
      "execution_count": null,
      "outputs": []
    },
    {
      "cell_type": "code",
      "metadata": {
        "id": "KWnN0yb2zeNj",
        "outputId": "2043b35c-7e3a-44eb-c99c-9f88cd8d4867",
        "colab": {
          "base_uri": "https://localhost:8080/",
          "height": 80
        }
      },
      "source": [
        "df_cos_sim"
      ],
      "execution_count": null,
      "outputs": [
        {
          "output_type": "execute_result",
          "data": {
            "text/html": [
              "<div>\n",
              "<style scoped>\n",
              "    .dataframe tbody tr th:only-of-type {\n",
              "        vertical-align: middle;\n",
              "    }\n",
              "\n",
              "    .dataframe tbody tr th {\n",
              "        vertical-align: top;\n",
              "    }\n",
              "\n",
              "    .dataframe thead th {\n",
              "        text-align: right;\n",
              "    }\n",
              "</style>\n",
              "<table border=\"1\" class=\"dataframe\">\n",
              "  <thead>\n",
              "    <tr style=\"text-align: right;\">\n",
              "      <th></th>\n",
              "      <th>contact_email</th>\n",
              "      <th>contact_no</th>\n",
              "      <th>exp_in_months</th>\n",
              "      <th>exp_in_yrs</th>\n",
              "      <th>organization</th>\n",
              "      <th>person</th>\n",
              "      <th>tech_skills</th>\n",
              "      <th>tool_skills</th>\n",
              "    </tr>\n",
              "  </thead>\n",
              "  <tbody>\n",
              "    <tr>\n",
              "      <th>0</th>\n",
              "      <td>0</td>\n",
              "      <td>0</td>\n",
              "      <td>0</td>\n",
              "      <td>0</td>\n",
              "      <td>0</td>\n",
              "      <td>0</td>\n",
              "      <td>0</td>\n",
              "      <td>0</td>\n",
              "    </tr>\n",
              "  </tbody>\n",
              "</table>\n",
              "</div>"
            ],
            "text/plain": [
              "   contact_email  contact_no  exp_in_months  ...  person  tech_skills  tool_skills\n",
              "0              0           0              0  ...       0            0            0\n",
              "\n",
              "[1 rows x 8 columns]"
            ]
          },
          "metadata": {
            "tags": []
          },
          "execution_count": 32
        }
      ]
    },
    {
      "cell_type": "code",
      "metadata": {
        "id": "oIkgR-OKzgn_",
        "outputId": "81b71672-ff0f-4da0-9088-13177e7c9a12",
        "colab": {
          "base_uri": "https://localhost:8080/",
          "height": 34
        }
      },
      "source": [
        "inp = input(\"Enter the value : \")"
      ],
      "execution_count": null,
      "outputs": [
        {
          "output_type": "stream",
          "text": [
            "Enter the value : Google Cloud\n"
          ],
          "name": "stdout"
        }
      ]
    },
    {
      "cell_type": "code",
      "metadata": {
        "id": "BHvaYpsCzn6r"
      },
      "source": [
        "val_to_search = inp.lower().strip()"
      ],
      "execution_count": null,
      "outputs": []
    },
    {
      "cell_type": "code",
      "metadata": {
        "id": "LXh459FYzsY9",
        "outputId": "9e6eb94b-cbd8-4807-b794-a4e97da36035",
        "colab": {
          "base_uri": "https://localhost:8080/",
          "height": 122
        }
      },
      "source": [
        "for i in range(len(d1['Tags'])):\n",
        "    set_A = d1['Words'][i]\n",
        "    catA_string=' '.join(set_A)\n",
        "    catInp = val_to_search\n",
        "    similarity = compute_similarity(catA_string,catInp)[0][1]\n",
        "    similarity = similarity * 100\n",
        "    if df_cos_sim[0:1][d1['Tags'][i]][0]== 0:\n",
        "            df_cos_sim[0:1][d1['Tags'][i]][0]= similarity\n"
      ],
      "execution_count": null,
      "outputs": [
        {
          "output_type": "stream",
          "text": [
            "/usr/local/lib/python3.6/dist-packages/IPython/core/interactiveshell.py:2882: SettingWithCopyWarning: \n",
            "A value is trying to be set on a copy of a slice from a DataFrame\n",
            "\n",
            "See the caveats in the documentation: https://pandas.pydata.org/pandas-docs/stable/user_guide/indexing.html#returning-a-view-versus-a-copy\n",
            "  exec(code_obj, self.user_global_ns, self.user_ns)\n"
          ],
          "name": "stderr"
        }
      ]
    },
    {
      "cell_type": "code",
      "metadata": {
        "id": "6bEf2T7Zz63x",
        "outputId": "716fdacc-da5c-4f05-eef8-c5eb2819edb5",
        "colab": {
          "base_uri": "https://localhost:8080/",
          "height": 80
        }
      },
      "source": [
        "df_cos_sim"
      ],
      "execution_count": null,
      "outputs": [
        {
          "output_type": "execute_result",
          "data": {
            "text/html": [
              "<div>\n",
              "<style scoped>\n",
              "    .dataframe tbody tr th:only-of-type {\n",
              "        vertical-align: middle;\n",
              "    }\n",
              "\n",
              "    .dataframe tbody tr th {\n",
              "        vertical-align: top;\n",
              "    }\n",
              "\n",
              "    .dataframe thead th {\n",
              "        text-align: right;\n",
              "    }\n",
              "</style>\n",
              "<table border=\"1\" class=\"dataframe\">\n",
              "  <thead>\n",
              "    <tr style=\"text-align: right;\">\n",
              "      <th></th>\n",
              "      <th>contact_email</th>\n",
              "      <th>contact_no</th>\n",
              "      <th>exp_in_months</th>\n",
              "      <th>exp_in_yrs</th>\n",
              "      <th>organization</th>\n",
              "      <th>person</th>\n",
              "      <th>tech_skills</th>\n",
              "      <th>tool_skills</th>\n",
              "    </tr>\n",
              "  </thead>\n",
              "  <tbody>\n",
              "    <tr>\n",
              "      <th>0</th>\n",
              "      <td>0</td>\n",
              "      <td>0</td>\n",
              "      <td>0</td>\n",
              "      <td>0</td>\n",
              "      <td>0</td>\n",
              "      <td>0</td>\n",
              "      <td>0</td>\n",
              "      <td>19</td>\n",
              "    </tr>\n",
              "  </tbody>\n",
              "</table>\n",
              "</div>"
            ],
            "text/plain": [
              "   contact_email  contact_no  exp_in_months  ...  person  tech_skills  tool_skills\n",
              "0              0           0              0  ...       0            0           19\n",
              "\n",
              "[1 rows x 8 columns]"
            ]
          },
          "metadata": {
            "tags": []
          },
          "execution_count": 36
        }
      ]
    },
    {
      "cell_type": "code",
      "metadata": {
        "id": "sqCM_uQgz9Qt"
      },
      "source": [
        "result = df_cos_sim.idxmax(axis=1)[0]"
      ],
      "execution_count": null,
      "outputs": []
    },
    {
      "cell_type": "code",
      "metadata": {
        "id": "Oc5mGZUJ0Axd",
        "outputId": "56f94166-f3f9-491c-84c8-ffac86747d73",
        "colab": {
          "base_uri": "https://localhost:8080/",
          "height": 34
        }
      },
      "source": [
        "result"
      ],
      "execution_count": null,
      "outputs": [
        {
          "output_type": "execute_result",
          "data": {
            "text/plain": [
              "'tool_skills'"
            ]
          },
          "metadata": {
            "tags": []
          },
          "execution_count": 38
        }
      ]
    },
    {
      "cell_type": "markdown",
      "metadata": {
        "id": "srq97R0e0eMr"
      },
      "source": [
        "### Now we will make all these as modular and if the exact word is not in corpus then only we will apply the similarity algorithm"
      ]
    },
    {
      "cell_type": "code",
      "metadata": {
        "id": "Lwrr44t50EWP"
      },
      "source": [
        "def find_tag(inp,d1=d1):\n",
        "    val_to_search = inp.lower().strip()\n",
        "    found = 0\n",
        "    for i in range(d1.shape[0]):\n",
        "        if val_to_search in d1['Words'][i]:\n",
        "            found=1\n",
        "            result = d1['Tags'][i]\n",
        "            break;\n",
        "    if found == 1:\n",
        "        return result\n",
        "    arrlist = [0 for i in range(d1.shape[0])]\n",
        "    df_cos_sim = pd.DataFrame(np.array([arrlist]),columns=d1['Tags'].values)\n",
        "    df_cos_sim = df_cos_sim.fillna(0)\n",
        "    for i in range(len(d1['Tags'])):\n",
        "        set_A = d1['Words'][i]\n",
        "        catA_string=' '.join(set_A)\n",
        "        catInp = val_to_search\n",
        "        similarity = compute_similarity(catA_string,catInp)[0][1]\n",
        "        similarity = similarity * 100\n",
        "        if df_cos_sim[0:1][d1['Tags'][i]][0]== 0:\n",
        "                df_cos_sim[0:1][d1['Tags'][i]][0]= similarity\n",
        "    result = df_cos_sim.idxmax(axis=1)[0]\n",
        "    return result"
      ],
      "execution_count": null,
      "outputs": []
    },
    {
      "cell_type": "code",
      "metadata": {
        "id": "anc8GsMD04LF",
        "outputId": "14def5e8-a757-48f5-ef09-801289e579d8",
        "colab": {
          "base_uri": "https://localhost:8080/",
          "height": 51
        }
      },
      "source": [
        "inp = input(\"Enter the string to find tag : \\n\")"
      ],
      "execution_count": null,
      "outputs": [
        {
          "output_type": "stream",
          "text": [
            "Enter the string to find tag : \n",
            "pyon\n"
          ],
          "name": "stdout"
        }
      ]
    },
    {
      "cell_type": "code",
      "metadata": {
        "id": "AubPTwuJ07KG",
        "outputId": "bd305bb6-1ef6-40a4-89e9-0fb37ce4c4b7",
        "colab": {
          "base_uri": "https://localhost:8080/",
          "height": 102
        }
      },
      "source": [
        "result = find_tag(inp)"
      ],
      "execution_count": null,
      "outputs": [
        {
          "output_type": "stream",
          "text": [
            "/usr/local/lib/python3.6/dist-packages/ipykernel_launcher.py:1: SettingWithCopyWarning: \n",
            "A value is trying to be set on a copy of a slice from a DataFrame\n",
            "\n",
            "See the caveats in the documentation: https://pandas.pydata.org/pandas-docs/stable/user_guide/indexing.html#returning-a-view-versus-a-copy\n",
            "  \"\"\"Entry point for launching an IPython kernel.\n"
          ],
          "name": "stderr"
        }
      ]
    },
    {
      "cell_type": "code",
      "metadata": {
        "id": "OcMgfuqz1Ggp",
        "outputId": "825861df-8d15-47df-fda3-d09d22dd4327",
        "colab": {
          "base_uri": "https://localhost:8080/",
          "height": 34
        }
      },
      "source": [
        "result"
      ],
      "execution_count": null,
      "outputs": [
        {
          "output_type": "execute_result",
          "data": {
            "text/plain": [
              "'contact_email'"
            ]
          },
          "metadata": {
            "tags": []
          },
          "execution_count": 19
        }
      ]
    },
    {
      "cell_type": "code",
      "metadata": {
        "id": "dEIine7B1Hon"
      },
      "source": [
        ""
      ],
      "execution_count": null,
      "outputs": []
    }
  ]
}