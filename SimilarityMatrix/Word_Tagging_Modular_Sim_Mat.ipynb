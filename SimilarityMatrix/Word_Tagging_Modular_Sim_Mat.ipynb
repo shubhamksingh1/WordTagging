{
  "nbformat": 4,
  "nbformat_minor": 0,
  "metadata": {
    "colab": {
      "name": "Word_Tagging_Modular_Sim_Mat.ipynb",
      "provenance": [],
      "collapsed_sections": [],
      "toc_visible": true,
      "authorship_tag": "ABX9TyP/0xth/MYMA8jtNk5K6Nwc",
      "include_colab_link": true
    },
    "kernelspec": {
      "name": "python3",
      "display_name": "Python 3"
    },
    "accelerator": "GPU"
  },
  "cells": [
    {
      "cell_type": "markdown",
      "metadata": {
        "id": "view-in-github",
        "colab_type": "text"
      },
      "source": [
        "<a href=\"https://colab.research.google.com/github/shubhamksingh1/WordTagging/blob/main/SimilarityMatrix/Word_Tagging_Modular_Sim_Mat.ipynb\" target=\"_parent\"><img src=\"https://colab.research.google.com/assets/colab-badge.svg\" alt=\"Open In Colab\"/></a>"
      ]
    },
    {
      "cell_type": "markdown",
      "metadata": {
        "id": "dNG9y4fSkqfK"
      },
      "source": [
        "### Mount Drive"
      ]
    },
    {
      "cell_type": "code",
      "metadata": {
        "id": "xINW4pa3kpiM",
        "colab": {
          "base_uri": "https://localhost:8080/",
          "height": 122
        },
        "outputId": "d9ee12d5-be0f-4cea-881d-6b950be90e2b"
      },
      "source": [
        "from google.colab import drive\n",
        "drive.mount('/content/drive')"
      ],
      "execution_count": null,
      "outputs": [
        {
          "output_type": "stream",
          "text": [
            "Go to this URL in a browser: https://accounts.google.com/o/oauth2/auth?client_id=947318989803-6bn6qk8qdgf4n4g3pfee6491hc0brc4i.apps.googleusercontent.com&redirect_uri=urn%3aietf%3awg%3aoauth%3a2.0%3aoob&response_type=code&scope=email%20https%3a%2f%2fwww.googleapis.com%2fauth%2fdocs.test%20https%3a%2f%2fwww.googleapis.com%2fauth%2fdrive%20https%3a%2f%2fwww.googleapis.com%2fauth%2fdrive.photos.readonly%20https%3a%2f%2fwww.googleapis.com%2fauth%2fpeopleapi.readonly\n",
            "\n",
            "Enter your authorization code:\n",
            "··········\n",
            "Mounted at /content/drive\n"
          ],
          "name": "stdout"
        }
      ]
    },
    {
      "cell_type": "markdown",
      "metadata": {
        "id": "n91qBH5-k2sh"
      },
      "source": [
        "### Importing Libraries"
      ]
    },
    {
      "cell_type": "code",
      "metadata": {
        "id": "d1cOuEOVkt3s"
      },
      "source": [
        "import pandas as pd\n",
        "import numpy as np\n",
        "from sklearn.feature_extraction.text import CountVectorizer\n",
        "from sklearn.metrics.pairwise import cosine_similarity"
      ],
      "execution_count": null,
      "outputs": []
    },
    {
      "cell_type": "markdown",
      "metadata": {
        "id": "yxeDLlnClDiT"
      },
      "source": [
        "### Reading Data File"
      ]
    },
    {
      "cell_type": "code",
      "metadata": {
        "id": "2n83z7qNlCbB"
      },
      "source": [
        "df = pd.read_csv(\"/content/drive/My Drive/updated_dataset_ner.csv\")"
      ],
      "execution_count": null,
      "outputs": []
    },
    {
      "cell_type": "code",
      "metadata": {
        "id": "hLexCL1LlRoK"
      },
      "source": [
        "df.drop(['SentenceID'],inplace=True,axis=1)"
      ],
      "execution_count": null,
      "outputs": []
    },
    {
      "cell_type": "markdown",
      "metadata": {
        "id": "JoKYg6l1lZqE"
      },
      "source": [
        "### Preparing dataframe on which further processing will be done"
      ]
    },
    {
      "cell_type": "code",
      "metadata": {
        "id": "2vC4EJ5-lW4i"
      },
      "source": [
        "d1 = df.groupby(df['Tags'])['Words'].apply(','.join).reset_index()"
      ],
      "execution_count": null,
      "outputs": []
    },
    {
      "cell_type": "code",
      "metadata": {
        "id": "EEII9_VPlifD"
      },
      "source": [
        "def cleaning_text(inp):\n",
        "    corpus = []\n",
        "    reply = str(inp).strip()\n",
        "    reply = reply.lower()\n",
        "    reply = reply.split(\",\")\n",
        "    reply = list(set(reply))\n",
        "    return reply"
      ],
      "execution_count": null,
      "outputs": []
    },
    {
      "cell_type": "code",
      "metadata": {
        "id": "tgp8shToluv1"
      },
      "source": [
        "d1['Words'] = d1['Words'].apply(lambda x: cleaning_text(x))"
      ],
      "execution_count": null,
      "outputs": []
    },
    {
      "cell_type": "markdown",
      "metadata": {
        "id": "3_dTnCPJnoG2"
      },
      "source": [
        "### Cosine Similarity Function"
      ]
    },
    {
      "cell_type": "code",
      "metadata": {
        "id": "0sUwkMJtnsgh"
      },
      "source": [
        "def compute_similarity(str1,str2):\n",
        "    train = [str1,str2]\n",
        "    #Define a Count Vectorizer Object\n",
        "    countvector = CountVectorizer()\n",
        "\n",
        "    #Construct the required count matrix by fitting and transforming the data\n",
        "    count_matrix = countvector.fit_transform(train)\n",
        "\n",
        "    cosine_sim = cosine_similarity(count_matrix, count_matrix)\n",
        "    return cosine_sim"
      ],
      "execution_count": null,
      "outputs": []
    },
    {
      "cell_type": "markdown",
      "metadata": {
        "id": "uk1XOMJel5jO"
      },
      "source": [
        "### Function to find tag"
      ]
    },
    {
      "cell_type": "code",
      "metadata": {
        "id": "33SEruiclzb9"
      },
      "source": [
        "def find_tag(inp,d1=d1):\n",
        "    val_to_search = inp.lower().strip()\n",
        "    found = 0\n",
        "    for i in range(d1.shape[0]):\n",
        "        if val_to_search in d1['Words'][i]:\n",
        "            found=1\n",
        "            result = d1['Tags'][i]\n",
        "            break;\n",
        "    if found == 1:\n",
        "        return result\n",
        "    arrlist = [0 for i in range(d1.shape[0])]\n",
        "    df_cos_sim = pd.DataFrame(np.array([arrlist]),columns=d1['Tags'].values)\n",
        "    df_cos_sim = df_cos_sim.fillna(0)\n",
        "    for i in range(len(d1['Tags'])):\n",
        "        set_A = d1['Words'][i]\n",
        "        catA_string=' '.join(set_A)\n",
        "        catInp = val_to_search\n",
        "        similarity = compute_similarity(catA_string,catInp)[0][1]\n",
        "        similarity = similarity * 100\n",
        "        if df_cos_sim[0:1][d1['Tags'][i]][0]== 0:\n",
        "                df_cos_sim[0:1][d1['Tags'][i]][0]= similarity\n",
        "    result = df_cos_sim.idxmax(axis=1)[0]\n",
        "    return result\n",
        "\n",
        "    \n"
      ],
      "execution_count": null,
      "outputs": []
    },
    {
      "cell_type": "code",
      "metadata": {
        "id": "mi1mRyq3pxs7",
        "colab": {
          "base_uri": "https://localhost:8080/",
          "height": 51
        },
        "outputId": "18513938-8ed3-4710-9759-28e26de6202e"
      },
      "source": [
        "inp = input(\"Enter the string to find tag : \\n\")"
      ],
      "execution_count": null,
      "outputs": [
        {
          "output_type": "stream",
          "text": [
            "Enter the string to find tag : \n",
            "9074743978\n"
          ],
          "name": "stdout"
        }
      ]
    },
    {
      "cell_type": "code",
      "metadata": {
        "id": "S9xa2YSImq4e"
      },
      "source": [
        "result = find_tag(inp)"
      ],
      "execution_count": null,
      "outputs": []
    },
    {
      "cell_type": "code",
      "metadata": {
        "id": "zS-6lgQVmwO5",
        "colab": {
          "base_uri": "https://localhost:8080/",
          "height": 34
        },
        "outputId": "1ac0a1b6-fea3-4920-c470-f4b38ab3ee89"
      },
      "source": [
        "result"
      ],
      "execution_count": null,
      "outputs": [
        {
          "output_type": "execute_result",
          "data": {
            "text/plain": [
              "'contact_no'"
            ]
          },
          "metadata": {
            "tags": []
          },
          "execution_count": 57
        }
      ]
    },
    {
      "cell_type": "code",
      "metadata": {
        "id": "vV9pcWCkmxWS"
      },
      "source": [
        ""
      ],
      "execution_count": null,
      "outputs": []
    }
  ]
}