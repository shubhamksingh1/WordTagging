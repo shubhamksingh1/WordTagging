{
  "nbformat": 4,
  "nbformat_minor": 0,
  "metadata": {
    "colab": {
      "name": "Word_Tagging_Ktrain.ipynb",
      "provenance": [],
      "collapsed_sections": [],
      "toc_visible": true,
      "authorship_tag": "ABX9TyNWw4kiiXK4DycUuMYjlVj/",
      "include_colab_link": true
    },
    "kernelspec": {
      "name": "python3",
      "display_name": "Python 3"
    },
    "accelerator": "GPU"
  },
  "cells": [
    {
      "cell_type": "markdown",
      "metadata": {
        "id": "view-in-github",
        "colab_type": "text"
      },
      "source": [
        "<a href=\"https://colab.research.google.com/github/shubhamksingh1/WordTagging/blob/main/KTRAIN/V1/Word_Tagging_Ktrain.ipynb\" target=\"_parent\"><img src=\"https://colab.research.google.com/assets/colab-badge.svg\" alt=\"Open In Colab\"/></a>"
      ]
    },
    {
      "cell_type": "markdown",
      "metadata": {
        "id": "H0qHYSEextor"
      },
      "source": [
        "### Notebook environment preparation"
      ]
    },
    {
      "cell_type": "code",
      "metadata": {
        "id": "xOIf21vHz7Qu"
      },
      "source": [
        "### Mount Drive"
      ],
      "execution_count": null,
      "outputs": []
    },
    {
      "cell_type": "code",
      "metadata": {
        "id": "XQJaDWlY0rba",
        "outputId": "fc614d96-8a73-4d45-b5e0-b5b393d8d712",
        "colab": {
          "base_uri": "https://localhost:8080/",
          "height": 122
        }
      },
      "source": [
        "from google.colab import drive\n",
        "drive.mount('/content/drive')"
      ],
      "execution_count": null,
      "outputs": [
        {
          "output_type": "stream",
          "text": [
            "Go to this URL in a browser: https://accounts.google.com/o/oauth2/auth?client_id=947318989803-6bn6qk8qdgf4n4g3pfee6491hc0brc4i.apps.googleusercontent.com&redirect_uri=urn%3aietf%3awg%3aoauth%3a2.0%3aoob&response_type=code&scope=email%20https%3a%2f%2fwww.googleapis.com%2fauth%2fdocs.test%20https%3a%2f%2fwww.googleapis.com%2fauth%2fdrive%20https%3a%2f%2fwww.googleapis.com%2fauth%2fdrive.photos.readonly%20https%3a%2f%2fwww.googleapis.com%2fauth%2fpeopleapi.readonly\n",
            "\n",
            "Enter your authorization code:\n",
            "··········\n",
            "Mounted at /content/drive\n"
          ],
          "name": "stdout"
        }
      ]
    },
    {
      "cell_type": "code",
      "metadata": {
        "id": "cQYMzuLbwkHf"
      },
      "source": [
        "import tensorflow as tf"
      ],
      "execution_count": null,
      "outputs": []
    },
    {
      "cell_type": "code",
      "metadata": {
        "id": "pMlFDYjFwoUQ",
        "outputId": "652328b3-0c89-4eaa-9d0c-27910c4a5cd6",
        "colab": {
          "base_uri": "https://localhost:8080/",
          "height": 34
        }
      },
      "source": [
        "tf.__version__"
      ],
      "execution_count": null,
      "outputs": [
        {
          "output_type": "execute_result",
          "data": {
            "text/plain": [
              "'2.1.0'"
            ]
          },
          "metadata": {
            "tags": []
          },
          "execution_count": 2
        }
      ]
    },
    {
      "cell_type": "code",
      "metadata": {
        "id": "jd6n0hYfjVqA",
        "outputId": "8cbc2148-0411-4c05-f655-e081b69ceb54",
        "colab": {
          "base_uri": "https://localhost:8080/",
          "height": 632
        }
      },
      "source": [
        "pip install --upgrade tensorflow"
      ],
      "execution_count": null,
      "outputs": [
        {
          "output_type": "stream",
          "text": [
            "Requirement already up-to-date: tensorflow in /usr/local/lib/python3.6/dist-packages (2.1.0)\n",
            "Requirement already satisfied, skipping upgrade: scipy==1.4.1; python_version >= \"3\" in /usr/local/lib/python3.6/dist-packages (from tensorflow) (1.4.1)\n",
            "Requirement already satisfied, skipping upgrade: numpy<2.0,>=1.16.0 in /usr/local/lib/python3.6/dist-packages (from tensorflow) (1.17.5)\n",
            "Requirement already satisfied, skipping upgrade: keras-applications>=1.0.8 in /usr/local/lib/python3.6/dist-packages (from tensorflow) (1.0.8)\n",
            "Requirement already satisfied, skipping upgrade: protobuf>=3.8.0 in /usr/local/lib/python3.6/dist-packages (from tensorflow) (3.10.0)\n",
            "Requirement already satisfied, skipping upgrade: tensorflow-estimator<2.2.0,>=2.1.0rc0 in /usr/local/lib/python3.6/dist-packages (from tensorflow) (2.1.0)\n",
            "Requirement already satisfied, skipping upgrade: six>=1.12.0 in /usr/local/lib/python3.6/dist-packages (from tensorflow) (1.12.0)\n",
            "Requirement already satisfied, skipping upgrade: gast==0.2.2 in /usr/local/lib/python3.6/dist-packages (from tensorflow) (0.2.2)\n",
            "Requirement already satisfied, skipping upgrade: termcolor>=1.1.0 in /usr/local/lib/python3.6/dist-packages (from tensorflow) (1.1.0)\n",
            "Requirement already satisfied, skipping upgrade: wheel>=0.26; python_version >= \"3\" in /usr/local/lib/python3.6/dist-packages (from tensorflow) (0.34.2)\n",
            "Requirement already satisfied, skipping upgrade: keras-preprocessing>=1.1.0 in /usr/local/lib/python3.6/dist-packages (from tensorflow) (1.1.0)\n",
            "Requirement already satisfied, skipping upgrade: wrapt>=1.11.1 in /usr/local/lib/python3.6/dist-packages (from tensorflow) (1.11.2)\n",
            "Requirement already satisfied, skipping upgrade: google-pasta>=0.1.6 in /usr/local/lib/python3.6/dist-packages (from tensorflow) (0.1.8)\n",
            "Requirement already satisfied, skipping upgrade: grpcio>=1.8.6 in /usr/local/lib/python3.6/dist-packages (from tensorflow) (1.15.0)\n",
            "Requirement already satisfied, skipping upgrade: opt-einsum>=2.3.2 in /usr/local/lib/python3.6/dist-packages (from tensorflow) (3.1.0)\n",
            "Requirement already satisfied, skipping upgrade: absl-py>=0.7.0 in /usr/local/lib/python3.6/dist-packages (from tensorflow) (0.9.0)\n",
            "Requirement already satisfied, skipping upgrade: astor>=0.6.0 in /usr/local/lib/python3.6/dist-packages (from tensorflow) (0.8.1)\n",
            "Requirement already satisfied, skipping upgrade: tensorboard<2.2.0,>=2.1.0 in /usr/local/lib/python3.6/dist-packages (from tensorflow) (2.1.0)\n",
            "Requirement already satisfied, skipping upgrade: h5py in /usr/local/lib/python3.6/dist-packages (from keras-applications>=1.0.8->tensorflow) (2.8.0)\n",
            "Requirement already satisfied, skipping upgrade: setuptools in /usr/local/lib/python3.6/dist-packages (from protobuf>=3.8.0->tensorflow) (45.1.0)\n",
            "Requirement already satisfied, skipping upgrade: google-auth<2,>=1.6.3 in /usr/local/lib/python3.6/dist-packages (from tensorboard<2.2.0,>=2.1.0->tensorflow) (1.11.0)\n",
            "Requirement already satisfied, skipping upgrade: google-auth-oauthlib<0.5,>=0.4.1 in /usr/local/lib/python3.6/dist-packages (from tensorboard<2.2.0,>=2.1.0->tensorflow) (0.4.1)\n",
            "Requirement already satisfied, skipping upgrade: werkzeug>=0.11.15 in /usr/local/lib/python3.6/dist-packages (from tensorboard<2.2.0,>=2.1.0->tensorflow) (0.16.1)\n",
            "Requirement already satisfied, skipping upgrade: requests<3,>=2.21.0 in /usr/local/lib/python3.6/dist-packages (from tensorboard<2.2.0,>=2.1.0->tensorflow) (2.21.0)\n",
            "Requirement already satisfied, skipping upgrade: markdown>=2.6.8 in /usr/local/lib/python3.6/dist-packages (from tensorboard<2.2.0,>=2.1.0->tensorflow) (3.1.1)\n",
            "Requirement already satisfied, skipping upgrade: pyasn1-modules>=0.2.1 in /usr/local/lib/python3.6/dist-packages (from google-auth<2,>=1.6.3->tensorboard<2.2.0,>=2.1.0->tensorflow) (0.2.8)\n",
            "Requirement already satisfied, skipping upgrade: rsa<4.1,>=3.1.4 in /usr/local/lib/python3.6/dist-packages (from google-auth<2,>=1.6.3->tensorboard<2.2.0,>=2.1.0->tensorflow) (4.0)\n",
            "Requirement already satisfied, skipping upgrade: cachetools<5.0,>=2.0.0 in /usr/local/lib/python3.6/dist-packages (from google-auth<2,>=1.6.3->tensorboard<2.2.0,>=2.1.0->tensorflow) (4.0.0)\n",
            "Requirement already satisfied, skipping upgrade: requests-oauthlib>=0.7.0 in /usr/local/lib/python3.6/dist-packages (from google-auth-oauthlib<0.5,>=0.4.1->tensorboard<2.2.0,>=2.1.0->tensorflow) (1.3.0)\n",
            "Requirement already satisfied, skipping upgrade: certifi>=2017.4.17 in /usr/local/lib/python3.6/dist-packages (from requests<3,>=2.21.0->tensorboard<2.2.0,>=2.1.0->tensorflow) (2019.11.28)\n",
            "Requirement already satisfied, skipping upgrade: chardet<3.1.0,>=3.0.2 in /usr/local/lib/python3.6/dist-packages (from requests<3,>=2.21.0->tensorboard<2.2.0,>=2.1.0->tensorflow) (3.0.4)\n",
            "Requirement already satisfied, skipping upgrade: idna<2.9,>=2.5 in /usr/local/lib/python3.6/dist-packages (from requests<3,>=2.21.0->tensorboard<2.2.0,>=2.1.0->tensorflow) (2.8)\n",
            "Requirement already satisfied, skipping upgrade: urllib3<1.25,>=1.21.1 in /usr/local/lib/python3.6/dist-packages (from requests<3,>=2.21.0->tensorboard<2.2.0,>=2.1.0->tensorflow) (1.24.3)\n",
            "Requirement already satisfied, skipping upgrade: pyasn1<0.5.0,>=0.4.6 in /usr/local/lib/python3.6/dist-packages (from pyasn1-modules>=0.2.1->google-auth<2,>=1.6.3->tensorboard<2.2.0,>=2.1.0->tensorflow) (0.4.8)\n",
            "Requirement already satisfied, skipping upgrade: oauthlib>=3.0.0 in /usr/local/lib/python3.6/dist-packages (from requests-oauthlib>=0.7.0->google-auth-oauthlib<0.5,>=0.4.1->tensorboard<2.2.0,>=2.1.0->tensorflow) (3.1.0)\n"
          ],
          "name": "stdout"
        }
      ]
    },
    {
      "cell_type": "code",
      "metadata": {
        "id": "6P0Hj3V5jKKI"
      },
      "source": [
        "import tensorflow as tf"
      ],
      "execution_count": null,
      "outputs": []
    },
    {
      "cell_type": "code",
      "metadata": {
        "id": "eoBKCS3gjSsf",
        "outputId": "5f9cd43a-8842-4810-92d4-acc1a321643d",
        "colab": {
          "base_uri": "https://localhost:8080/",
          "height": 34
        }
      },
      "source": [
        "tf.__version__"
      ],
      "execution_count": null,
      "outputs": [
        {
          "output_type": "execute_result",
          "data": {
            "text/plain": [
              "'2.1.0'"
            ]
          },
          "metadata": {
            "tags": []
          },
          "execution_count": 5
        }
      ]
    },
    {
      "cell_type": "code",
      "metadata": {
        "id": "vCApvorMioJa"
      },
      "source": [
        "%reload_ext autoreload\n",
        "%autoreload 2\n",
        "%matplotlib inline\n",
        "import os"
      ],
      "execution_count": null,
      "outputs": []
    },
    {
      "cell_type": "code",
      "metadata": {
        "id": "7t_7qgHgiwMo"
      },
      "source": [
        "os.environ['DISABLE_V2_BEHAVIOR'] = '1'"
      ],
      "execution_count": null,
      "outputs": []
    },
    {
      "cell_type": "code",
      "metadata": {
        "id": "9Qw1dqR60vNt"
      },
      "source": [
        "import pandas as pd"
      ],
      "execution_count": null,
      "outputs": []
    },
    {
      "cell_type": "code",
      "metadata": {
        "id": "aCpUINSIi4mX",
        "outputId": "f5c376a3-3cf1-444d-8e6a-8100ad0d3d6d",
        "colab": {
          "base_uri": "https://localhost:8080/",
          "height": 1000
        }
      },
      "source": [
        "pip install ktrain"
      ],
      "execution_count": null,
      "outputs": [
        {
          "output_type": "stream",
          "text": [
            "Collecting ktrain\n",
            "\u001b[?25l  Downloading https://files.pythonhosted.org/packages/4c/eb/f7c8eecbaa0e06d80dbf78e1ae6b293b944d89a1f294331324c0b5262ad4/ktrain-0.9.3.tar.gz (99kB)\n",
            "\u001b[K     |████████████████████████████████| 102kB 5.3MB/s \n",
            "\u001b[?25hCollecting scikit-learn==0.21.3\n",
            "\u001b[?25l  Downloading https://files.pythonhosted.org/packages/a0/c5/d2238762d780dde84a20b8c761f563fe882b88c5a5fb03c056547c442a19/scikit_learn-0.21.3-cp36-cp36m-manylinux1_x86_64.whl (6.7MB)\n",
            "\u001b[K     |████████████████████████████████| 6.7MB 11.3MB/s \n",
            "\u001b[?25hRequirement already satisfied: matplotlib>=3.0.0 in /usr/local/lib/python3.6/dist-packages (from ktrain) (3.1.3)\n",
            "Requirement already satisfied: pandas<1.0 in /usr/local/lib/python3.6/dist-packages (from ktrain) (0.25.3)\n",
            "Requirement already satisfied: fastprogress>=0.1.21 in /usr/local/lib/python3.6/dist-packages (from ktrain) (0.2.2)\n",
            "Collecting keras_bert\n",
            "  Downloading https://files.pythonhosted.org/packages/2c/0f/cdc886c1018943ea62d3209bc964413d5aa9d0eb7e493abd8545be679294/keras-bert-0.81.0.tar.gz\n",
            "Requirement already satisfied: requests in /usr/local/lib/python3.6/dist-packages (from ktrain) (2.21.0)\n",
            "Requirement already satisfied: joblib in /usr/local/lib/python3.6/dist-packages (from ktrain) (0.14.1)\n",
            "Collecting langdetect\n",
            "\u001b[?25l  Downloading https://files.pythonhosted.org/packages/59/59/4bc44158a767a6d66de18c4136c8aa90491d56cc951c10b74dd1e13213c9/langdetect-1.0.7.zip (998kB)\n",
            "\u001b[K     |████████████████████████████████| 1.0MB 57.5MB/s \n",
            "\u001b[?25hRequirement already satisfied: jieba in /usr/local/lib/python3.6/dist-packages (from ktrain) (0.42.1)\n",
            "Collecting cchardet\n",
            "\u001b[?25l  Downloading https://files.pythonhosted.org/packages/fa/4e/847feebfc3e71c773b23ee06c74687b8c50a5a6d6aaff452a0a4f4eb9a32/cchardet-2.1.5-cp36-cp36m-manylinux1_x86_64.whl (241kB)\n",
            "\u001b[K     |████████████████████████████████| 245kB 66.3MB/s \n",
            "\u001b[?25hCollecting networkx==2.3\n",
            "\u001b[?25l  Downloading https://files.pythonhosted.org/packages/85/08/f20aef11d4c343b557e5de6b9548761811eb16e438cee3d32b1c66c8566b/networkx-2.3.zip (1.7MB)\n",
            "\u001b[K     |████████████████████████████████| 1.8MB 57.7MB/s \n",
            "\u001b[?25hRequirement already satisfied: bokeh in /usr/local/lib/python3.6/dist-packages (from ktrain) (1.4.0)\n",
            "Collecting seqeval\n",
            "  Downloading https://files.pythonhosted.org/packages/34/91/068aca8d60ce56dd9ba4506850e876aba5e66a6f2f29aa223224b50df0de/seqeval-0.0.12.tar.gz\n",
            "Requirement already satisfied: packaging in /usr/local/lib/python3.6/dist-packages (from ktrain) (20.1)\n",
            "Requirement already satisfied: tensorflow_datasets in /usr/local/lib/python3.6/dist-packages (from ktrain) (2.0.0)\n",
            "Collecting transformers\n",
            "\u001b[?25l  Downloading https://files.pythonhosted.org/packages/ee/fc/bd726a15ab2c66dc09306689d04da07a3770dad724f0883f0a4bfb745087/transformers-2.4.1-py3-none-any.whl (475kB)\n",
            "\u001b[K     |████████████████████████████████| 481kB 56.5MB/s \n",
            "\u001b[?25hRequirement already satisfied: ipython in /usr/local/lib/python3.6/dist-packages (from ktrain) (5.5.0)\n",
            "Requirement already satisfied: scipy>=0.17.0 in /usr/local/lib/python3.6/dist-packages (from scikit-learn==0.21.3->ktrain) (1.4.1)\n",
            "Requirement already satisfied: numpy>=1.11.0 in /usr/local/lib/python3.6/dist-packages (from scikit-learn==0.21.3->ktrain) (1.17.5)\n",
            "Requirement already satisfied: cycler>=0.10 in /usr/local/lib/python3.6/dist-packages (from matplotlib>=3.0.0->ktrain) (0.10.0)\n",
            "Requirement already satisfied: python-dateutil>=2.1 in /usr/local/lib/python3.6/dist-packages (from matplotlib>=3.0.0->ktrain) (2.6.1)\n",
            "Requirement already satisfied: kiwisolver>=1.0.1 in /usr/local/lib/python3.6/dist-packages (from matplotlib>=3.0.0->ktrain) (1.1.0)\n",
            "Requirement already satisfied: pyparsing!=2.0.4,!=2.1.2,!=2.1.6,>=2.0.1 in /usr/local/lib/python3.6/dist-packages (from matplotlib>=3.0.0->ktrain) (2.4.6)\n",
            "Requirement already satisfied: pytz>=2017.2 in /usr/local/lib/python3.6/dist-packages (from pandas<1.0->ktrain) (2018.9)\n",
            "Requirement already satisfied: Keras in /usr/local/lib/python3.6/dist-packages (from keras_bert->ktrain) (2.2.5)\n",
            "Collecting keras-transformer>=0.30.0\n",
            "  Downloading https://files.pythonhosted.org/packages/54/0c/fede535ac576c03863c44bf2e0bf051fe21f5e10103631b6b6236ae446f3/keras-transformer-0.32.0.tar.gz\n",
            "Requirement already satisfied: certifi>=2017.4.17 in /usr/local/lib/python3.6/dist-packages (from requests->ktrain) (2019.11.28)\n",
            "Requirement already satisfied: chardet<3.1.0,>=3.0.2 in /usr/local/lib/python3.6/dist-packages (from requests->ktrain) (3.0.4)\n",
            "Requirement already satisfied: idna<2.9,>=2.5 in /usr/local/lib/python3.6/dist-packages (from requests->ktrain) (2.8)\n",
            "Requirement already satisfied: urllib3<1.25,>=1.21.1 in /usr/local/lib/python3.6/dist-packages (from requests->ktrain) (1.24.3)\n",
            "Requirement already satisfied: six in /usr/local/lib/python3.6/dist-packages (from langdetect->ktrain) (1.12.0)\n",
            "Requirement already satisfied: decorator>=4.3.0 in /usr/local/lib/python3.6/dist-packages (from networkx==2.3->ktrain) (4.4.1)\n",
            "Requirement already satisfied: pillow>=4.0 in /usr/local/lib/python3.6/dist-packages (from bokeh->ktrain) (6.2.2)\n",
            "Requirement already satisfied: PyYAML>=3.10 in /usr/local/lib/python3.6/dist-packages (from bokeh->ktrain) (3.13)\n",
            "Requirement already satisfied: tornado>=4.3 in /usr/local/lib/python3.6/dist-packages (from bokeh->ktrain) (4.5.3)\n",
            "Requirement already satisfied: Jinja2>=2.7 in /usr/local/lib/python3.6/dist-packages (from bokeh->ktrain) (2.11.1)\n",
            "Requirement already satisfied: wrapt in /usr/local/lib/python3.6/dist-packages (from tensorflow_datasets->ktrain) (1.11.2)\n",
            "Requirement already satisfied: promise in /usr/local/lib/python3.6/dist-packages (from tensorflow_datasets->ktrain) (2.3)\n",
            "Requirement already satisfied: tensorflow-metadata in /usr/local/lib/python3.6/dist-packages (from tensorflow_datasets->ktrain) (0.21.1)\n",
            "Requirement already satisfied: dill in /usr/local/lib/python3.6/dist-packages (from tensorflow_datasets->ktrain) (0.3.1.1)\n",
            "Requirement already satisfied: future in /usr/local/lib/python3.6/dist-packages (from tensorflow_datasets->ktrain) (0.16.0)\n",
            "Requirement already satisfied: absl-py in /usr/local/lib/python3.6/dist-packages (from tensorflow_datasets->ktrain) (0.9.0)\n",
            "Requirement already satisfied: termcolor in /usr/local/lib/python3.6/dist-packages (from tensorflow_datasets->ktrain) (1.1.0)\n",
            "Requirement already satisfied: tqdm in /usr/local/lib/python3.6/dist-packages (from tensorflow_datasets->ktrain) (4.28.1)\n",
            "Requirement already satisfied: attrs>=18.1.0 in /usr/local/lib/python3.6/dist-packages (from tensorflow_datasets->ktrain) (19.3.0)\n",
            "Requirement already satisfied: protobuf>=3.6.1 in /usr/local/lib/python3.6/dist-packages (from tensorflow_datasets->ktrain) (3.10.0)\n",
            "Requirement already satisfied: regex!=2019.12.17 in /usr/local/lib/python3.6/dist-packages (from transformers->ktrain) (2019.12.20)\n",
            "Requirement already satisfied: filelock in /usr/local/lib/python3.6/dist-packages (from transformers->ktrain) (3.0.12)\n",
            "Collecting sacremoses\n",
            "\u001b[?25l  Downloading https://files.pythonhosted.org/packages/a6/b4/7a41d630547a4afd58143597d5a49e07bfd4c42914d8335b2a5657efc14b/sacremoses-0.0.38.tar.gz (860kB)\n",
            "\u001b[K     |████████████████████████████████| 870kB 66.9MB/s \n",
            "\u001b[?25hRequirement already satisfied: boto3 in /usr/local/lib/python3.6/dist-packages (from transformers->ktrain) (1.11.10)\n",
            "Collecting tokenizers==0.0.11\n",
            "\u001b[?25l  Downloading https://files.pythonhosted.org/packages/5e/36/7af38d572c935f8e0462ec7b4f7a46d73a2b3b1a938f50a5e8132d5b2dc5/tokenizers-0.0.11-cp36-cp36m-manylinux1_x86_64.whl (3.1MB)\n",
            "\u001b[K     |████████████████████████████████| 3.1MB 59.0MB/s \n",
            "\u001b[?25hCollecting sentencepiece\n",
            "\u001b[?25l  Downloading https://files.pythonhosted.org/packages/74/f4/2d5214cbf13d06e7cb2c20d84115ca25b53ea76fa1f0ade0e3c9749de214/sentencepiece-0.1.85-cp36-cp36m-manylinux1_x86_64.whl (1.0MB)\n",
            "\u001b[K     |████████████████████████████████| 1.0MB 48.5MB/s \n",
            "\u001b[?25hRequirement already satisfied: prompt-toolkit<2.0.0,>=1.0.4 in /usr/local/lib/python3.6/dist-packages (from ipython->ktrain) (1.0.18)\n",
            "Requirement already satisfied: traitlets>=4.2 in /usr/local/lib/python3.6/dist-packages (from ipython->ktrain) (4.3.3)\n",
            "Requirement already satisfied: simplegeneric>0.8 in /usr/local/lib/python3.6/dist-packages (from ipython->ktrain) (0.8.1)\n",
            "Requirement already satisfied: pexpect; sys_platform != \"win32\" in /usr/local/lib/python3.6/dist-packages (from ipython->ktrain) (4.8.0)\n",
            "Requirement already satisfied: pygments in /usr/local/lib/python3.6/dist-packages (from ipython->ktrain) (2.1.3)\n",
            "Requirement already satisfied: setuptools>=18.5 in /usr/local/lib/python3.6/dist-packages (from ipython->ktrain) (45.1.0)\n",
            "Requirement already satisfied: pickleshare in /usr/local/lib/python3.6/dist-packages (from ipython->ktrain) (0.7.5)\n",
            "Requirement already satisfied: keras-applications>=1.0.8 in /usr/local/lib/python3.6/dist-packages (from Keras->keras_bert->ktrain) (1.0.8)\n",
            "Requirement already satisfied: keras-preprocessing>=1.1.0 in /usr/local/lib/python3.6/dist-packages (from Keras->keras_bert->ktrain) (1.1.0)\n",
            "Requirement already satisfied: h5py in /usr/local/lib/python3.6/dist-packages (from Keras->keras_bert->ktrain) (2.8.0)\n",
            "Collecting keras-pos-embd>=0.10.0\n",
            "  Downloading https://files.pythonhosted.org/packages/09/70/b63ed8fc660da2bb6ae29b9895401c628da5740c048c190b5d7107cadd02/keras-pos-embd-0.11.0.tar.gz\n",
            "Collecting keras-multi-head>=0.22.0\n",
            "  Downloading https://files.pythonhosted.org/packages/40/3e/d0a64bb2ac5217928effe4507c26bbd19b86145d16a1948bc2d4f4c6338a/keras-multi-head-0.22.0.tar.gz\n",
            "Collecting keras-layer-normalization>=0.12.0\n",
            "  Downloading https://files.pythonhosted.org/packages/a4/0e/d1078df0494bac9ce1a67954e5380b6e7569668f0f3b50a9531c62c1fc4a/keras-layer-normalization-0.14.0.tar.gz\n",
            "Collecting keras-position-wise-feed-forward>=0.5.0\n",
            "  Downloading https://files.pythonhosted.org/packages/e3/59/f0faa1037c033059e7e9e7758e6c23b4d1c0772cd48de14c4b6fd4033ad5/keras-position-wise-feed-forward-0.6.0.tar.gz\n",
            "Collecting keras-embed-sim>=0.7.0\n",
            "  Downloading https://files.pythonhosted.org/packages/bc/20/735fd53f6896e2af63af47e212601c1b8a7a80d00b6126c388c9d1233892/keras-embed-sim-0.7.0.tar.gz\n",
            "Requirement already satisfied: MarkupSafe>=0.23 in /usr/local/lib/python3.6/dist-packages (from Jinja2>=2.7->bokeh->ktrain) (1.1.1)\n",
            "Requirement already satisfied: googleapis-common-protos in /usr/local/lib/python3.6/dist-packages (from tensorflow-metadata->tensorflow_datasets->ktrain) (1.51.0)\n",
            "Requirement already satisfied: click in /usr/local/lib/python3.6/dist-packages (from sacremoses->transformers->ktrain) (7.0)\n",
            "Requirement already satisfied: s3transfer<0.4.0,>=0.3.0 in /usr/local/lib/python3.6/dist-packages (from boto3->transformers->ktrain) (0.3.2)\n",
            "Requirement already satisfied: botocore<1.15.0,>=1.14.10 in /usr/local/lib/python3.6/dist-packages (from boto3->transformers->ktrain) (1.14.10)\n",
            "Requirement already satisfied: jmespath<1.0.0,>=0.7.1 in /usr/local/lib/python3.6/dist-packages (from boto3->transformers->ktrain) (0.9.4)\n",
            "Requirement already satisfied: wcwidth in /usr/local/lib/python3.6/dist-packages (from prompt-toolkit<2.0.0,>=1.0.4->ipython->ktrain) (0.1.8)\n",
            "Requirement already satisfied: ipython-genutils in /usr/local/lib/python3.6/dist-packages (from traitlets>=4.2->ipython->ktrain) (0.2.0)\n",
            "Requirement already satisfied: ptyprocess>=0.5 in /usr/local/lib/python3.6/dist-packages (from pexpect; sys_platform != \"win32\"->ipython->ktrain) (0.6.0)\n",
            "Collecting keras-self-attention==0.41.0\n",
            "  Downloading https://files.pythonhosted.org/packages/1b/1c/01599219bef7266fa43b3316e4f55bcb487734d3bafdc60ffd564f3cfe29/keras-self-attention-0.41.0.tar.gz\n",
            "Requirement already satisfied: docutils<0.16,>=0.10 in /usr/local/lib/python3.6/dist-packages (from botocore<1.15.0,>=1.14.10->boto3->transformers->ktrain) (0.15.2)\n",
            "Building wheels for collected packages: ktrain, keras-bert, langdetect, networkx, seqeval, keras-transformer, sacremoses, keras-pos-embd, keras-multi-head, keras-layer-normalization, keras-position-wise-feed-forward, keras-embed-sim, keras-self-attention\n",
            "  Building wheel for ktrain (setup.py) ... \u001b[?25l\u001b[?25hdone\n",
            "  Created wheel for ktrain: filename=ktrain-0.9.3-cp36-none-any.whl size=124243 sha256=414a64624b1a725c3195171df58dab46c880fb8bb7700c73377afc66b31f2b64\n",
            "  Stored in directory: /root/.cache/pip/wheels/a8/f6/39/d4ad01318e7b4b2f491eb199c1c69c801c9db4ad5bce91b76a\n",
            "  Building wheel for keras-bert (setup.py) ... \u001b[?25l\u001b[?25hdone\n",
            "  Created wheel for keras-bert: filename=keras_bert-0.81.0-cp36-none-any.whl size=37913 sha256=436f6097a13262aab163b02d2666590007591d154c8856fee3baf292abf8c4fd\n",
            "  Stored in directory: /root/.cache/pip/wheels/bd/27/da/ffc2d573aa48b87440ec4f98bc7c992e3a2d899edb2d22ef9e\n",
            "  Building wheel for langdetect (setup.py) ... \u001b[?25l\u001b[?25hdone\n",
            "  Created wheel for langdetect: filename=langdetect-1.0.7-cp36-none-any.whl size=993459 sha256=0e8888f7930814b4e6a0f2288fdec8a5a785b29aba7ad41095ff1b9b59529426\n",
            "  Stored in directory: /root/.cache/pip/wheels/ec/0c/a9/1647275e7ef5014e7b83ff30105180e332867d65e7617ddafe\n",
            "  Building wheel for networkx (setup.py) ... \u001b[?25l\u001b[?25hdone\n",
            "  Created wheel for networkx: filename=networkx-2.3-py2.py3-none-any.whl size=1556408 sha256=b208575e1de68710bb6acc12e024702c7c5d69242e323d222a50a4143e0adb8d\n",
            "  Stored in directory: /root/.cache/pip/wheels/de/63/64/3699be2a9d0ccdb37c7f16329acf3863fd76eda58c39c737af\n",
            "  Building wheel for seqeval (setup.py) ... \u001b[?25l\u001b[?25hdone\n",
            "  Created wheel for seqeval: filename=seqeval-0.0.12-cp36-none-any.whl size=7424 sha256=c8fdedaaa610d9c5560965ef150a8faacc9dbf68c53a6b5b27c2c7dfe09c2e7f\n",
            "  Stored in directory: /root/.cache/pip/wheels/4f/32/0a/df3b340a82583566975377d65e724895b3fad101a3fb729f68\n",
            "  Building wheel for keras-transformer (setup.py) ... \u001b[?25l\u001b[?25hdone\n",
            "  Created wheel for keras-transformer: filename=keras_transformer-0.32.0-cp36-none-any.whl size=13266 sha256=1ee007074e830cc8a26d05d93f7f830de8da277025c9646fc85303add5093f24\n",
            "  Stored in directory: /root/.cache/pip/wheels/62/f0/ce/82fa5d024d5ef8e263f26a50dcee23820efe245680ce9c922a\n",
            "  Building wheel for sacremoses (setup.py) ... \u001b[?25l\u001b[?25hdone\n",
            "  Created wheel for sacremoses: filename=sacremoses-0.0.38-cp36-none-any.whl size=884628 sha256=3e2cfcd9b38d6a16d302d6b59add5b9f48255a09fb7a2687f42d3a8109661746\n",
            "  Stored in directory: /root/.cache/pip/wheels/6d/ec/1a/21b8912e35e02741306f35f66c785f3afe94de754a0eaf1422\n",
            "  Building wheel for keras-pos-embd (setup.py) ... \u001b[?25l\u001b[?25hdone\n",
            "  Created wheel for keras-pos-embd: filename=keras_pos_embd-0.11.0-cp36-none-any.whl size=7554 sha256=0189b492c9864d6cff93a9dd51f3ed2188663dd78c789f694f5377cc4813745e\n",
            "  Stored in directory: /root/.cache/pip/wheels/5b/a1/a0/ce6b1d49ba1a9a76f592e70cf297b05c96bc9f418146761032\n",
            "  Building wheel for keras-multi-head (setup.py) ... \u001b[?25l\u001b[?25hdone\n",
            "  Created wheel for keras-multi-head: filename=keras_multi_head-0.22.0-cp36-none-any.whl size=15371 sha256=8b25b25da6fde57e138ce186fc07addac27aa47bede8758850026b2685a5c4de\n",
            "  Stored in directory: /root/.cache/pip/wheels/bb/df/3f/81b36f41b66e6a9cd69224c70a737de2bb6b2f7feb3272c25e\n",
            "  Building wheel for keras-layer-normalization (setup.py) ... \u001b[?25l\u001b[?25hdone\n",
            "  Created wheel for keras-layer-normalization: filename=keras_layer_normalization-0.14.0-cp36-none-any.whl size=5268 sha256=532a19e4a5ce06372fd751e41b87820335f80634639e5023f2c76384b13db63c\n",
            "  Stored in directory: /root/.cache/pip/wheels/54/80/22/a638a7d406fd155e507aa33d703e3fa2612b9eb7bb4f4fe667\n",
            "  Building wheel for keras-position-wise-feed-forward (setup.py) ... \u001b[?25l\u001b[?25hdone\n",
            "  Created wheel for keras-position-wise-feed-forward: filename=keras_position_wise_feed_forward-0.6.0-cp36-none-any.whl size=5623 sha256=feff488adc2a1ff730609d9eb2dd40bde5c941aaabe0308ac000dbd8457d826f\n",
            "  Stored in directory: /root/.cache/pip/wheels/39/e2/e2/3514fef126a00574b13bc0b9e23891800158df3a3c19c96e3b\n",
            "  Building wheel for keras-embed-sim (setup.py) ... \u001b[?25l\u001b[?25hdone\n",
            "  Created wheel for keras-embed-sim: filename=keras_embed_sim-0.7.0-cp36-none-any.whl size=4676 sha256=c5d14b06253748fcb2e14348ee9d2464df961a446c76a11568ce78b6a3d63502\n",
            "  Stored in directory: /root/.cache/pip/wheels/d1/bc/b1/b0c45cee4ca2e6c86586b0218ffafe7f0703c6d07fdf049866\n",
            "  Building wheel for keras-self-attention (setup.py) ... \u001b[?25l\u001b[?25hdone\n",
            "  Created wheel for keras-self-attention: filename=keras_self_attention-0.41.0-cp36-none-any.whl size=17288 sha256=e2c77952d625cbfc9e87544cfbab055bc845d580ed55795c09224d3a0f05daf2\n",
            "  Stored in directory: /root/.cache/pip/wheels/cc/dc/17/84258b27a04cd38ac91998abe148203720ca696186635db694\n",
            "Successfully built ktrain keras-bert langdetect networkx seqeval keras-transformer sacremoses keras-pos-embd keras-multi-head keras-layer-normalization keras-position-wise-feed-forward keras-embed-sim keras-self-attention\n",
            "\u001b[31mERROR: albumentations 0.1.12 has requirement imgaug<0.2.7,>=0.2.5, but you'll have imgaug 0.2.9 which is incompatible.\u001b[0m\n",
            "Installing collected packages: scikit-learn, keras-pos-embd, keras-self-attention, keras-multi-head, keras-layer-normalization, keras-position-wise-feed-forward, keras-embed-sim, keras-transformer, keras-bert, langdetect, cchardet, networkx, seqeval, sacremoses, tokenizers, sentencepiece, transformers, ktrain\n",
            "  Found existing installation: scikit-learn 0.22.1\n",
            "    Uninstalling scikit-learn-0.22.1:\n",
            "      Successfully uninstalled scikit-learn-0.22.1\n",
            "  Found existing installation: networkx 2.4\n",
            "    Uninstalling networkx-2.4:\n",
            "      Successfully uninstalled networkx-2.4\n",
            "Successfully installed cchardet-2.1.5 keras-bert-0.81.0 keras-embed-sim-0.7.0 keras-layer-normalization-0.14.0 keras-multi-head-0.22.0 keras-pos-embd-0.11.0 keras-position-wise-feed-forward-0.6.0 keras-self-attention-0.41.0 keras-transformer-0.32.0 ktrain-0.9.3 langdetect-1.0.7 networkx-2.3 sacremoses-0.0.38 scikit-learn-0.21.3 sentencepiece-0.1.85 seqeval-0.0.12 tokenizers-0.0.11 transformers-2.4.1\n"
          ],
          "name": "stdout"
        }
      ]
    },
    {
      "cell_type": "code",
      "metadata": {
        "id": "zGIEl_fCi2UP",
        "outputId": "09314152-bf05-45cb-86d7-2bd832ba8e3b",
        "colab": {
          "base_uri": "https://localhost:8080/",
          "height": 51
        }
      },
      "source": [
        "import ktrain\n",
        "from ktrain import text"
      ],
      "execution_count": null,
      "outputs": [
        {
          "output_type": "stream",
          "text": [
            "Using DISABLE_V2_BEHAVIOR with TensorFlow\n",
            "using Keras version: 2.2.4-tf\n"
          ],
          "name": "stdout"
        }
      ]
    },
    {
      "cell_type": "markdown",
      "metadata": {
        "id": "-qDfsm9hx32b"
      },
      "source": [
        "### Sequence Tagging "
      ]
    },
    {
      "cell_type": "markdown",
      "metadata": {
        "id": "nkutFmZ9x8uR"
      },
      "source": [
        "#### Step 1 : Load and Preprocess Data"
      ]
    },
    {
      "cell_type": "code",
      "metadata": {
        "id": "l04dZgPiLuhG"
      },
      "source": [
        "df =  pd.read_csv(\"/content/drive/My Drive/final_new_dataset.csv\", encoding = \"ISO-8859-1\", error_bad_lines=False)"
      ],
      "execution_count": null,
      "outputs": []
    },
    {
      "cell_type": "code",
      "metadata": {
        "id": "hrs9U0cs5ozI",
        "colab": {
          "base_uri": "https://localhost:8080/",
          "height": 204
        },
        "outputId": "a5cbecb8-8eb5-4d91-85c7-be8328e472ea"
      },
      "source": [
        "df.head()"
      ],
      "execution_count": null,
      "outputs": [
        {
          "output_type": "execute_result",
          "data": {
            "text/html": [
              "<div>\n",
              "<style scoped>\n",
              "    .dataframe tbody tr th:only-of-type {\n",
              "        vertical-align: middle;\n",
              "    }\n",
              "\n",
              "    .dataframe tbody tr th {\n",
              "        vertical-align: top;\n",
              "    }\n",
              "\n",
              "    .dataframe thead th {\n",
              "        text-align: right;\n",
              "    }\n",
              "</style>\n",
              "<table border=\"1\" class=\"dataframe\">\n",
              "  <thead>\n",
              "    <tr style=\"text-align: right;\">\n",
              "      <th></th>\n",
              "      <th>Words</th>\n",
              "      <th>Tags</th>\n",
              "      <th>SentenceID</th>\n",
              "    </tr>\n",
              "  </thead>\n",
              "  <tbody>\n",
              "    <tr>\n",
              "      <th>0</th>\n",
              "      <td>Pankaj</td>\n",
              "      <td>B-PER</td>\n",
              "      <td>1</td>\n",
              "    </tr>\n",
              "    <tr>\n",
              "      <th>1</th>\n",
              "      <td>Seth</td>\n",
              "      <td>I-PER</td>\n",
              "      <td>1</td>\n",
              "    </tr>\n",
              "    <tr>\n",
              "      <th>2</th>\n",
              "      <td>-361006</td>\n",
              "      <td>O</td>\n",
              "      <td>1</td>\n",
              "    </tr>\n",
              "    <tr>\n",
              "      <th>3</th>\n",
              "      <td>SunShine</td>\n",
              "      <td>O</td>\n",
              "      <td>1</td>\n",
              "    </tr>\n",
              "    <tr>\n",
              "      <th>4</th>\n",
              "      <td>2</td>\n",
              "      <td>O</td>\n",
              "      <td>1</td>\n",
              "    </tr>\n",
              "  </tbody>\n",
              "</table>\n",
              "</div>"
            ],
            "text/plain": [
              "      Words   Tags  SentenceID\n",
              "0    Pankaj  B-PER           1\n",
              "1      Seth  I-PER           1\n",
              "2   -361006      O           1\n",
              "3  SunShine      O           1\n",
              "4         2      O           1"
            ]
          },
          "metadata": {
            "tags": []
          },
          "execution_count": 17
        }
      ]
    },
    {
      "cell_type": "code",
      "metadata": {
        "id": "b41VD9-X50Mv",
        "colab": {
          "base_uri": "https://localhost:8080/",
          "height": 34
        },
        "outputId": "02e3b2aa-a980-4dfa-d1ae-00ae4399435e"
      },
      "source": [
        "df.shape"
      ],
      "execution_count": null,
      "outputs": [
        {
          "output_type": "execute_result",
          "data": {
            "text/plain": [
              "(12682, 3)"
            ]
          },
          "metadata": {
            "tags": []
          },
          "execution_count": 18
        }
      ]
    },
    {
      "cell_type": "code",
      "metadata": {
        "id": "7yTf7Em0Lw4s",
        "outputId": "9681a38a-6bff-49ce-c2cf-6567ee7bfe82",
        "colab": {
          "base_uri": "https://localhost:8080/",
          "height": 34
        }
      },
      "source": [
        "df.columns"
      ],
      "execution_count": null,
      "outputs": [
        {
          "output_type": "execute_result",
          "data": {
            "text/plain": [
              "Index(['Words', 'Tags', 'SentenceID'], dtype='object')"
            ]
          },
          "metadata": {
            "tags": []
          },
          "execution_count": 19
        }
      ]
    },
    {
      "cell_type": "code",
      "metadata": {
        "id": "gfMcQMqy6Fk2",
        "colab": {
          "base_uri": "https://localhost:8080/",
          "height": 390
        },
        "outputId": "7849dd83-0d67-4b4f-88f8-8a21888bad0b"
      },
      "source": [
        "df.describe(include=\"all\")"
      ],
      "execution_count": null,
      "outputs": [
        {
          "output_type": "execute_result",
          "data": {
            "text/html": [
              "<div>\n",
              "<style scoped>\n",
              "    .dataframe tbody tr th:only-of-type {\n",
              "        vertical-align: middle;\n",
              "    }\n",
              "\n",
              "    .dataframe tbody tr th {\n",
              "        vertical-align: top;\n",
              "    }\n",
              "\n",
              "    .dataframe thead th {\n",
              "        text-align: right;\n",
              "    }\n",
              "</style>\n",
              "<table border=\"1\" class=\"dataframe\">\n",
              "  <thead>\n",
              "    <tr style=\"text-align: right;\">\n",
              "      <th></th>\n",
              "      <th>Words</th>\n",
              "      <th>Tags</th>\n",
              "      <th>SentenceID</th>\n",
              "    </tr>\n",
              "  </thead>\n",
              "  <tbody>\n",
              "    <tr>\n",
              "      <th>count</th>\n",
              "      <td>12682</td>\n",
              "      <td>12682</td>\n",
              "      <td>12682.000000</td>\n",
              "    </tr>\n",
              "    <tr>\n",
              "      <th>unique</th>\n",
              "      <td>2720</td>\n",
              "      <td>13</td>\n",
              "      <td>NaN</td>\n",
              "    </tr>\n",
              "    <tr>\n",
              "      <th>top</th>\n",
              "      <td>in</td>\n",
              "      <td>O</td>\n",
              "      <td>NaN</td>\n",
              "    </tr>\n",
              "    <tr>\n",
              "      <th>freq</th>\n",
              "      <td>367</td>\n",
              "      <td>11583</td>\n",
              "      <td>NaN</td>\n",
              "    </tr>\n",
              "    <tr>\n",
              "      <th>mean</th>\n",
              "      <td>NaN</td>\n",
              "      <td>NaN</td>\n",
              "      <td>291.528387</td>\n",
              "    </tr>\n",
              "    <tr>\n",
              "      <th>std</th>\n",
              "      <td>NaN</td>\n",
              "      <td>NaN</td>\n",
              "      <td>184.335538</td>\n",
              "    </tr>\n",
              "    <tr>\n",
              "      <th>min</th>\n",
              "      <td>NaN</td>\n",
              "      <td>NaN</td>\n",
              "      <td>1.000000</td>\n",
              "    </tr>\n",
              "    <tr>\n",
              "      <th>25%</th>\n",
              "      <td>NaN</td>\n",
              "      <td>NaN</td>\n",
              "      <td>104.000000</td>\n",
              "    </tr>\n",
              "    <tr>\n",
              "      <th>50%</th>\n",
              "      <td>NaN</td>\n",
              "      <td>NaN</td>\n",
              "      <td>296.000000</td>\n",
              "    </tr>\n",
              "    <tr>\n",
              "      <th>75%</th>\n",
              "      <td>NaN</td>\n",
              "      <td>NaN</td>\n",
              "      <td>446.000000</td>\n",
              "    </tr>\n",
              "    <tr>\n",
              "      <th>max</th>\n",
              "      <td>NaN</td>\n",
              "      <td>NaN</td>\n",
              "      <td>614.000000</td>\n",
              "    </tr>\n",
              "  </tbody>\n",
              "</table>\n",
              "</div>"
            ],
            "text/plain": [
              "        Words   Tags    SentenceID\n",
              "count   12682  12682  12682.000000\n",
              "unique   2720     13           NaN\n",
              "top        in      O           NaN\n",
              "freq      367  11583           NaN\n",
              "mean      NaN    NaN    291.528387\n",
              "std       NaN    NaN    184.335538\n",
              "min       NaN    NaN      1.000000\n",
              "25%       NaN    NaN    104.000000\n",
              "50%       NaN    NaN    296.000000\n",
              "75%       NaN    NaN    446.000000\n",
              "max       NaN    NaN    614.000000"
            ]
          },
          "metadata": {
            "tags": []
          },
          "execution_count": 21
        }
      ]
    },
    {
      "cell_type": "code",
      "metadata": {
        "id": "jDqz0ev46X7c",
        "colab": {
          "base_uri": "https://localhost:8080/",
          "height": 306
        },
        "outputId": "f69759b6-7d85-4a8e-d485-b20af88a9f39"
      },
      "source": [
        "print('\\nFrequency distribution of unique values => \\n\\n'+ str(df['Tags'].value_counts(dropna=False).sort_values(ascending = False)))"
      ],
      "execution_count": null,
      "outputs": [
        {
          "output_type": "stream",
          "text": [
            "\n",
            "Frequency distribution of unique values => \n",
            "\n",
            "O         11583\n",
            "S-TECH      388\n",
            "I-ORG       147\n",
            "S-ORG       123\n",
            "S-TOOL      111\n",
            "B-ORG        65\n",
            "I-TECH       57\n",
            "B-TECH       56\n",
            "I-TOOL       43\n",
            "B-TOOL       37\n",
            "I-PER        36\n",
            "B-PER        33\n",
            "S-PER         3\n",
            "Name: Tags, dtype: int64\n"
          ],
          "name": "stdout"
        }
      ]
    },
    {
      "cell_type": "code",
      "metadata": {
        "id": "W_wY0h987O7z"
      },
      "source": [
        "dframe = pd.read_csv(\"/content/drive/My Drive/ner_dataset.csv\", encoding = \"ISO-8859-1\", error_bad_lines=False)"
      ],
      "execution_count": null,
      "outputs": []
    },
    {
      "cell_type": "code",
      "metadata": {
        "id": "W5kB4Y1d7bRU",
        "colab": {
          "base_uri": "https://localhost:8080/",
          "height": 34
        },
        "outputId": "3551f547-e558-4636-f502-cf23889dfee8"
      },
      "source": [
        "dframe.columns"
      ],
      "execution_count": null,
      "outputs": [
        {
          "output_type": "execute_result",
          "data": {
            "text/plain": [
              "Index(['Sentence #', 'Word', 'POS', 'Tag'], dtype='object')"
            ]
          },
          "metadata": {
            "tags": []
          },
          "execution_count": 25
        }
      ]
    },
    {
      "cell_type": "code",
      "metadata": {
        "id": "Wk5K9AAu7eGL",
        "colab": {
          "base_uri": "https://localhost:8080/",
          "height": 374
        },
        "outputId": "5084770e-b664-4d0c-9f21-1ccd00fc8edb"
      },
      "source": [
        "print('\\nFrequency distribution of unique values => \\n\\n'+ str(dframe['Tag'].value_counts(dropna=False).sort_values(ascending = False)))"
      ],
      "execution_count": null,
      "outputs": [
        {
          "output_type": "stream",
          "text": [
            "\n",
            "Frequency distribution of unique values => \n",
            "\n",
            "O        887908\n",
            "B-geo     37644\n",
            "B-tim     20333\n",
            "B-org     20143\n",
            "I-per     17251\n",
            "B-per     16990\n",
            "I-org     16784\n",
            "B-gpe     15870\n",
            "I-geo      7414\n",
            "I-tim      6528\n",
            "B-art       402\n",
            "B-eve       308\n",
            "I-art       297\n",
            "I-eve       253\n",
            "B-nat       201\n",
            "I-gpe       198\n",
            "I-nat        51\n",
            "Name: Tag, dtype: int64\n"
          ],
          "name": "stdout"
        }
      ]
    },
    {
      "cell_type": "code",
      "metadata": {
        "id": "ZzqT8JsIkjUH",
        "outputId": "caff9136-4dd9-4fff-dfe0-796a201c093c",
        "colab": {
          "base_uri": "https://localhost:8080/",
          "height": 204
        }
      },
      "source": [
        "df.head()"
      ],
      "execution_count": null,
      "outputs": [
        {
          "output_type": "execute_result",
          "data": {
            "text/html": [
              "<div>\n",
              "<style scoped>\n",
              "    .dataframe tbody tr th:only-of-type {\n",
              "        vertical-align: middle;\n",
              "    }\n",
              "\n",
              "    .dataframe tbody tr th {\n",
              "        vertical-align: top;\n",
              "    }\n",
              "\n",
              "    .dataframe thead th {\n",
              "        text-align: right;\n",
              "    }\n",
              "</style>\n",
              "<table border=\"1\" class=\"dataframe\">\n",
              "  <thead>\n",
              "    <tr style=\"text-align: right;\">\n",
              "      <th></th>\n",
              "      <th>Words</th>\n",
              "      <th>Tags</th>\n",
              "      <th>SentenceID</th>\n",
              "    </tr>\n",
              "  </thead>\n",
              "  <tbody>\n",
              "    <tr>\n",
              "      <th>0</th>\n",
              "      <td>Pankaj</td>\n",
              "      <td>B-PER</td>\n",
              "      <td>1</td>\n",
              "    </tr>\n",
              "    <tr>\n",
              "      <th>1</th>\n",
              "      <td>Seth</td>\n",
              "      <td>I-PER</td>\n",
              "      <td>1</td>\n",
              "    </tr>\n",
              "    <tr>\n",
              "      <th>2</th>\n",
              "      <td>-361006</td>\n",
              "      <td>O</td>\n",
              "      <td>1</td>\n",
              "    </tr>\n",
              "    <tr>\n",
              "      <th>3</th>\n",
              "      <td>SunShine</td>\n",
              "      <td>O</td>\n",
              "      <td>1</td>\n",
              "    </tr>\n",
              "    <tr>\n",
              "      <th>4</th>\n",
              "      <td>2</td>\n",
              "      <td>O</td>\n",
              "      <td>1</td>\n",
              "    </tr>\n",
              "  </tbody>\n",
              "</table>\n",
              "</div>"
            ],
            "text/plain": [
              "      Words   Tags  SentenceID\n",
              "0    Pankaj  B-PER           1\n",
              "1      Seth  I-PER           1\n",
              "2   -361006      O           1\n",
              "3  SunShine      O           1\n",
              "4         2      O           1"
            ]
          },
          "metadata": {
            "tags": []
          },
          "execution_count": 28
        }
      ]
    },
    {
      "cell_type": "code",
      "metadata": {
        "id": "27RzNBBokxls",
        "outputId": "7134c3e2-f576-4afa-a52f-604cee3d389c",
        "colab": {
          "base_uri": "https://localhost:8080/",
          "height": 204
        }
      },
      "source": [
        "df.tail()"
      ],
      "execution_count": null,
      "outputs": [
        {
          "output_type": "execute_result",
          "data": {
            "text/html": [
              "<div>\n",
              "<style scoped>\n",
              "    .dataframe tbody tr th:only-of-type {\n",
              "        vertical-align: middle;\n",
              "    }\n",
              "\n",
              "    .dataframe tbody tr th {\n",
              "        vertical-align: top;\n",
              "    }\n",
              "\n",
              "    .dataframe thead th {\n",
              "        text-align: right;\n",
              "    }\n",
              "</style>\n",
              "<table border=\"1\" class=\"dataframe\">\n",
              "  <thead>\n",
              "    <tr style=\"text-align: right;\">\n",
              "      <th></th>\n",
              "      <th>Words</th>\n",
              "      <th>Tags</th>\n",
              "      <th>SentenceID</th>\n",
              "    </tr>\n",
              "  </thead>\n",
              "  <tbody>\n",
              "    <tr>\n",
              "      <th>12677</th>\n",
              "      <td>Language</td>\n",
              "      <td>O</td>\n",
              "      <td>614</td>\n",
              "    </tr>\n",
              "    <tr>\n",
              "      <th>12678</th>\n",
              "      <td>Proficiency:</td>\n",
              "      <td>O</td>\n",
              "      <td>614</td>\n",
              "    </tr>\n",
              "    <tr>\n",
              "      <th>12679</th>\n",
              "      <td>English,</td>\n",
              "      <td>O</td>\n",
              "      <td>614</td>\n",
              "    </tr>\n",
              "    <tr>\n",
              "      <th>12680</th>\n",
              "      <td>Hindi,</td>\n",
              "      <td>O</td>\n",
              "      <td>614</td>\n",
              "    </tr>\n",
              "    <tr>\n",
              "      <th>12681</th>\n",
              "      <td>Punjabi</td>\n",
              "      <td>O</td>\n",
              "      <td>614</td>\n",
              "    </tr>\n",
              "  </tbody>\n",
              "</table>\n",
              "</div>"
            ],
            "text/plain": [
              "              Words Tags  SentenceID\n",
              "12677      Language    O         614\n",
              "12678  Proficiency:    O         614\n",
              "12679      English,    O         614\n",
              "12680        Hindi,    O         614\n",
              "12681       Punjabi    O         614"
            ]
          },
          "metadata": {
            "tags": []
          },
          "execution_count": 29
        }
      ]
    },
    {
      "cell_type": "code",
      "metadata": {
        "id": "SrO6AQ3vmMtI",
        "outputId": "4d65de76-b7cc-4ed4-d540-8556ab065b05",
        "colab": {
          "base_uri": "https://localhost:8080/",
          "height": 68
        }
      },
      "source": [
        "df.Tags.unique()"
      ],
      "execution_count": null,
      "outputs": [
        {
          "output_type": "execute_result",
          "data": {
            "text/plain": [
              "array(['B-PER', 'I-PER', 'O', 'B-ORG', 'I-ORG', 'S-ORG', 'B-TOOL',\n",
              "       'I-TOOL', 'S-TOOL', 'S-TECH', 'B-TECH', 'I-TECH', 'S-PER'],\n",
              "      dtype=object)"
            ]
          },
          "metadata": {
            "tags": []
          },
          "execution_count": 30
        }
      ]
    },
    {
      "cell_type": "code",
      "metadata": {
        "id": "Yo9jeKIcka-P",
        "outputId": "f3d07c22-4a67-4a77-d19e-8e207e9c299d",
        "colab": {
          "base_uri": "https://localhost:8080/",
          "height": 122
        }
      },
      "source": [
        "DATAFILE = '/content/drive/My Drive/final_new_dataset.csv'\n",
        "(trn, val, preproc) = text.entities_from_txt(DATAFILE,\n",
        "                                             embeddings=None,\n",
        "                                             sentence_column='SentenceID',\n",
        "                                             word_column='Words',\n",
        "                                             tag_column='Tags', \n",
        "                                             data_format='gmb')"
      ],
      "execution_count": null,
      "outputs": [
        {
          "output_type": "stream",
          "text": [
            "Number of sentences:  613\n",
            "Number of words in the dataset:  2720\n",
            "Tags: ['B-PER', 'S-PER', 'S-TOOL', 'I-TECH', 'I-PER', 'B-ORG', 'S-ORG', 'S-TECH', 'B-TOOL', 'I-TOOL', 'I-ORG', 'O', 'B-TECH']\n",
            "Number of Labels:  13\n",
            "Longest sentence: 221 words\n"
          ],
          "name": "stdout"
        }
      ]
    },
    {
      "cell_type": "markdown",
      "metadata": {
        "id": "dvbHG1ugyOij"
      },
      "source": [
        "#### Step 2: Define a Model"
      ]
    },
    {
      "cell_type": "markdown",
      "metadata": {
        "id": "W93sIei5ycVM"
      },
      "source": [
        "The print_sequence_taggers function shows that, as of this writing, ktrain currently supports a Bidirectional LSTM-CRM model for sequence tagging."
      ]
    },
    {
      "cell_type": "code",
      "metadata": {
        "id": "6tcAFd59NSdu",
        "outputId": "3786b8a5-c5c4-447f-a603-b780113a909e",
        "colab": {
          "base_uri": "https://localhost:8080/",
          "height": 34
        }
      },
      "source": [
        "text.print_sequence_taggers()"
      ],
      "execution_count": null,
      "outputs": [
        {
          "output_type": "stream",
          "text": [
            "bilstm-crf: Bidirectional LSTM-CRF  (https://arxiv.org/abs/1603.01360)\n"
          ],
          "name": "stdout"
        }
      ]
    },
    {
      "cell_type": "code",
      "metadata": {
        "id": "9GoGuspOygmq",
        "outputId": "2582b232-ac93-41a4-fb4e-60c25ea2877e",
        "colab": {
          "base_uri": "https://localhost:8080/",
          "height": 88
        }
      },
      "source": [
        "model = text.sequence_tagger('bilstm-crf', preproc)"
      ],
      "execution_count": null,
      "outputs": [
        {
          "output_type": "stream",
          "text": [
            "WARNING: AutoGraph could not transform <bound method CRF.viterbi_decoding of <ktrain.text.ner.anago.layers.CRF object at 0x7fe4b1cb81d0>> and will run it as-is.\n",
            "Please report this to the TensorFlow team. When filing the bug, set the verbosity to 10 (on Linux, `export AUTOGRAPH_VERBOSITY=10`) and attach the full output.\n",
            "Cause: LIVE_VARS_IN\n"
          ],
          "name": "stdout"
        }
      ]
    },
    {
      "cell_type": "code",
      "metadata": {
        "id": "KnIyxNkWykHt"
      },
      "source": [
        "learner = ktrain.get_learner(model, train_data=trn, val_data=val)"
      ],
      "execution_count": null,
      "outputs": []
    },
    {
      "cell_type": "code",
      "metadata": {
        "id": "o7gSv9ig9WLU",
        "colab": {
          "base_uri": "https://localhost:8080/",
          "height": 326
        },
        "outputId": "d852a4a3-0ff2-4d84-e01a-d78e4cda38f7"
      },
      "source": [
        "learner.lr_find()"
      ],
      "execution_count": null,
      "outputs": [
        {
          "output_type": "stream",
          "text": [
            "simulating training for different learning rates... this may take a few moments...\n",
            "Epoch 1/5\n"
          ],
          "name": "stdout"
        },
        {
          "output_type": "stream",
          "text": [
            "/usr/local/lib/python3.6/dist-packages/ktrain/core.py:449: UserWarning: max_epochs is being set to 5 since steps per epoch is small. If you wish to estimate LR using more epochs, set max_epochs manually.\n",
            "  'If you wish to estimate LR using more epochs, set max_epochs manually.')\n"
          ],
          "name": "stderr"
        },
        {
          "output_type": "stream",
          "text": [
            "17/17 [==============================] - 14s 813ms/step - loss: 22.6076\n",
            "Epoch 2/5\n",
            "17/17 [==============================] - 8s 464ms/step - loss: 22.5704\n",
            "Epoch 3/5\n",
            "17/17 [==============================] - 8s 474ms/step - loss: 21.7151\n",
            "Epoch 4/5\n",
            "17/17 [==============================] - 7s 439ms/step - loss: 19.5614\n",
            "Epoch 5/5\n",
            "17/17 [==============================] - 9s 551ms/step - loss: 32.2549\n",
            "\n",
            "\n",
            "done.\n",
            "Please invoke the Learner.lr_plot() method to visually inspect the loss plot to help identify the maximal learning rate associated with falling loss.\n"
          ],
          "name": "stdout"
        }
      ]
    },
    {
      "cell_type": "code",
      "metadata": {
        "id": "S72xi_it-Gdc",
        "colab": {
          "base_uri": "https://localhost:8080/",
          "height": 283
        },
        "outputId": "bf1a31cd-8292-4bcb-8329-30ed9cdbab01"
      },
      "source": [
        "learner.lr_plot()"
      ],
      "execution_count": null,
      "outputs": [
        {
          "output_type": "display_data",
          "data": {
            "image/png": "[encoded data removed]",
            "text/plain": [
              "<Figure size 432x288 with 1 Axes>"
            ]
          },
          "metadata": {
            "tags": []
          }
        }
      ]
    },
    {
      "cell_type": "markdown",
      "metadata": {
        "id": "HuqGHjaUyzD_"
      },
      "source": [
        "#### STEP 3: Train and Evaluate the Model"
      ]
    },
    {
      "cell_type": "code",
      "metadata": {
        "id": "fFbHHW3my8Jg",
        "outputId": "7e022671-c3bc-4d77-8e37-a9794fc0e620",
        "colab": {
          "base_uri": "https://localhost:8080/",
          "height": 1000
        }
      },
      "source": [
        "learner.fit(0.1, 100)"
      ],
      "execution_count": null,
      "outputs": [
        {
          "output_type": "stream",
          "text": [
            "Epoch 1/100\n",
            "17/18 [===========================>..] - ETA: 0s - loss: 19.5280Epoch 1/100\n",
            "18/18 [==============================] - 9s 528ms/step - loss: 20.6777 - val_loss: 32.1280\n",
            "Epoch 2/100\n",
            "17/18 [===========================>..] - ETA: 0s - loss: 19.8476Epoch 1/100\n",
            "18/18 [==============================] - 9s 507ms/step - loss: 20.9512 - val_loss: 31.6477\n",
            "Epoch 3/100\n",
            "17/18 [===========================>..] - ETA: 0s - loss: 20.6388Epoch 1/100\n",
            "18/18 [==============================] - 9s 494ms/step - loss: 20.2366 - val_loss: 31.1929\n",
            "Epoch 4/100\n",
            "17/18 [===========================>..] - ETA: 0s - loss: 19.8143Epoch 1/100\n",
            "18/18 [==============================] - 9s 480ms/step - loss: 20.0030 - val_loss: 31.0428\n",
            "Epoch 5/100\n",
            "17/18 [===========================>..] - ETA: 0s - loss: 19.0727Epoch 1/100\n",
            "18/18 [==============================] - 9s 486ms/step - loss: 19.9528 - val_loss: 31.0026\n",
            "Epoch 6/100\n",
            "17/18 [===========================>..] - ETA: 0s - loss: 20.4814Epoch 1/100\n",
            "18/18 [==============================] - 9s 488ms/step - loss: 19.9518 - val_loss: 31.0085\n",
            "Epoch 7/100\n",
            "17/18 [===========================>..] - ETA: 0s - loss: 20.2478Epoch 1/100\n",
            "18/18 [==============================] - 9s 480ms/step - loss: 19.9329 - val_loss: 30.9912\n",
            "Epoch 8/100\n",
            "17/18 [===========================>..] - ETA: 0s - loss: 20.0982Epoch 1/100\n",
            "18/18 [==============================] - 9s 492ms/step - loss: 19.9278 - val_loss: 30.9842\n",
            "Epoch 9/100\n",
            "17/18 [===========================>..] - ETA: 0s - loss: 19.7771Epoch 1/100\n",
            "18/18 [==============================] - 9s 490ms/step - loss: 19.9397 - val_loss: 30.9543\n",
            "Epoch 10/100\n",
            "17/18 [===========================>..] - ETA: 0s - loss: 18.7956Epoch 1/100\n",
            "18/18 [==============================] - 9s 488ms/step - loss: 19.9254 - val_loss: 30.9887\n",
            "Epoch 11/100\n",
            "17/18 [===========================>..] - ETA: 0s - loss: 19.5394Epoch 1/100\n",
            "18/18 [==============================] - 9s 482ms/step - loss: 19.9263 - val_loss: 31.0257\n",
            "Epoch 12/100\n",
            "17/18 [===========================>..] - ETA: 0s - loss: 20.3151Epoch 1/100\n",
            "18/18 [==============================] - 9s 484ms/step - loss: 19.9244 - val_loss: 30.9492\n",
            "Epoch 13/100\n",
            "17/18 [===========================>..] - ETA: 0s - loss: 19.7233Epoch 1/100\n",
            "18/18 [==============================] - 9s 484ms/step - loss: 19.9310 - val_loss: 30.9667\n",
            "Epoch 14/100\n",
            "17/18 [===========================>..] - ETA: 0s - loss: 19.9992Epoch 1/100\n",
            "18/18 [==============================] - 9s 472ms/step - loss: 19.9321 - val_loss: 30.9762\n",
            "Epoch 15/100\n",
            "17/18 [===========================>..] - ETA: 0s - loss: 20.3198Epoch 1/100\n",
            "18/18 [==============================] - 9s 510ms/step - loss: 19.9274 - val_loss: 30.9508\n",
            "Epoch 16/100\n",
            "17/18 [===========================>..] - ETA: 0s - loss: 19.9965Epoch 1/100\n",
            "18/18 [==============================] - 9s 511ms/step - loss: 19.9239 - val_loss: 30.9462\n",
            "Epoch 17/100\n",
            "17/18 [===========================>..] - ETA: 0s - loss: 19.7207Epoch 1/100\n",
            "18/18 [==============================] - 9s 499ms/step - loss: 19.9132 - val_loss: 30.9639\n",
            "Epoch 18/100\n",
            "17/18 [===========================>..] - ETA: 0s - loss: 19.5557Epoch 1/100\n",
            "18/18 [==============================] - 9s 493ms/step - loss: 19.9404 - val_loss: 30.9655\n",
            "Epoch 19/100\n",
            "17/18 [===========================>..] - ETA: 0s - loss: 19.7433Epoch 1/100\n",
            "18/18 [==============================] - 9s 493ms/step - loss: 19.9342 - val_loss: 30.9744\n",
            "Epoch 20/100\n",
            "17/18 [===========================>..] - ETA: 0s - loss: 19.0618Epoch 1/100\n",
            "18/18 [==============================] - 9s 487ms/step - loss: 19.9431 - val_loss: 31.0065\n",
            "Epoch 21/100\n",
            "17/18 [===========================>..] - ETA: 0s - loss: 20.4808Epoch 1/100\n",
            "18/18 [==============================] - 9s 492ms/step - loss: 19.9493 - val_loss: 30.9743\n",
            "Epoch 22/100\n",
            "17/18 [===========================>..] - ETA: 0s - loss: 19.7618Epoch 1/100\n",
            "18/18 [==============================] - 9s 521ms/step - loss: 19.9538 - val_loss: 30.9689\n",
            "Epoch 23/100\n",
            "17/18 [===========================>..] - ETA: 0s - loss: 19.7451Epoch 1/100\n",
            "18/18 [==============================] - 9s 515ms/step - loss: 19.9568 - val_loss: 31.0039\n",
            "Epoch 24/100\n",
            "17/18 [===========================>..] - ETA: 0s - loss: 18.6491Epoch 1/100\n",
            "18/18 [==============================] - 9s 484ms/step - loss: 19.9523 - val_loss: 30.9863\n",
            "Epoch 25/100\n",
            "17/18 [===========================>..] - ETA: 0s - loss: 20.2062Epoch 1/100\n",
            "18/18 [==============================] - 9s 484ms/step - loss: 19.9444 - val_loss: 30.9802\n",
            "Epoch 26/100\n",
            "17/18 [===========================>..] - ETA: 0s - loss: 20.4534Epoch 1/100\n",
            "18/18 [==============================] - 9s 484ms/step - loss: 19.9738 - val_loss: 31.0413\n",
            "Epoch 27/100\n",
            "17/18 [===========================>..] - ETA: 0s - loss: 20.0413Epoch 1/100\n",
            "18/18 [==============================] - 9s 493ms/step - loss: 19.9728 - val_loss: 31.0345\n",
            "Epoch 28/100\n",
            "17/18 [===========================>..] - ETA: 0s - loss: 20.5244Epoch 1/100\n",
            "18/18 [==============================] - 9s 493ms/step - loss: 19.9935 - val_loss: 31.0181\n",
            "Epoch 29/100\n",
            "17/18 [===========================>..] - ETA: 0s - loss: 18.6632Epoch 1/100\n",
            "18/18 [==============================] - 9s 511ms/step - loss: 19.9672 - val_loss: 30.9840\n",
            "Epoch 30/100\n",
            "17/18 [===========================>..] - ETA: 0s - loss: 19.7629Epoch 1/100\n",
            "18/18 [==============================] - 9s 511ms/step - loss: 19.9741 - val_loss: 30.9813\n",
            "Epoch 31/100\n",
            "17/18 [===========================>..] - ETA: 0s - loss: 20.0299Epoch 1/100\n",
            "18/18 [==============================] - 9s 485ms/step - loss: 19.9609 - val_loss: 30.9829\n",
            "Epoch 32/100\n",
            "17/18 [===========================>..] - ETA: 0s - loss: 20.1289Epoch 1/100\n",
            "18/18 [==============================] - 9s 488ms/step - loss: 19.9607 - val_loss: 30.9962\n",
            "Epoch 33/100\n",
            "17/18 [===========================>..] - ETA: 0s - loss: 20.2610Epoch 1/100\n",
            "18/18 [==============================] - 9s 486ms/step - loss: 19.9491 - val_loss: 30.9990\n",
            "Epoch 34/100\n",
            "17/18 [===========================>..] - ETA: 0s - loss: 20.2127Epoch 1/100\n",
            "18/18 [==============================] - 9s 487ms/step - loss: 19.9510 - val_loss: 30.9690\n",
            "Epoch 35/100\n",
            "17/18 [===========================>..] - ETA: 0s - loss: 19.7539Epoch 1/100\n",
            "18/18 [==============================] - 9s 506ms/step - loss: 19.9491 - val_loss: 30.9814\n",
            "Epoch 36/100\n",
            "17/18 [===========================>..] - ETA: 0s - loss: 20.2697Epoch 1/100\n",
            "18/18 [==============================] - 9s 521ms/step - loss: 19.9544 - val_loss: 30.9776\n",
            "Epoch 37/100\n",
            "17/18 [===========================>..] - ETA: 0s - loss: 19.7516Epoch 1/100\n",
            "18/18 [==============================] - 9s 492ms/step - loss: 19.9629 - val_loss: 30.9819\n",
            "Epoch 38/100\n",
            "17/18 [===========================>..] - ETA: 0s - loss: 19.0882Epoch 1/100\n",
            "18/18 [==============================] - 9s 498ms/step - loss: 19.9701 - val_loss: 30.9829\n",
            "Epoch 39/100\n",
            "17/18 [===========================>..] - ETA: 0s - loss: 20.2129Epoch 1/100\n",
            "18/18 [==============================] - 9s 493ms/step - loss: 19.9495 - val_loss: 30.9934\n",
            "Epoch 40/100\n",
            "17/18 [===========================>..] - ETA: 0s - loss: 20.2315Epoch 1/100\n",
            "18/18 [==============================] - 9s 491ms/step - loss: 19.9601 - val_loss: 30.9582\n",
            "Epoch 41/100\n",
            "17/18 [===========================>..] - ETA: 0s - loss: 20.1103Epoch 1/100\n",
            "18/18 [==============================] - 9s 486ms/step - loss: 19.9477 - val_loss: 31.0010\n",
            "Epoch 42/100\n",
            "17/18 [===========================>..] - ETA: 0s - loss: 20.3515Epoch 1/100\n",
            "18/18 [==============================] - 9s 515ms/step - loss: 19.9598 - val_loss: 30.9894\n",
            "Epoch 43/100\n",
            "17/18 [===========================>..] - ETA: 0s - loss: 20.8255Epoch 1/100\n",
            "18/18 [==============================] - 9s 513ms/step - loss: 19.9518 - val_loss: 31.0362\n",
            "Epoch 44/100\n",
            "17/18 [===========================>..] - ETA: 0s - loss: 20.2695Epoch 1/100\n",
            "18/18 [==============================] - 9s 491ms/step - loss: 19.9553 - val_loss: 30.9913\n",
            "Epoch 45/100\n",
            "17/18 [===========================>..] - ETA: 0s - loss: 19.5745Epoch 1/100\n",
            "18/18 [==============================] - 9s 492ms/step - loss: 19.9599 - val_loss: 30.9815\n",
            "Epoch 46/100\n",
            "17/18 [===========================>..] - ETA: 0s - loss: 19.7866Epoch 1/100\n",
            "18/18 [==============================] - 9s 489ms/step - loss: 19.9469 - val_loss: 30.9853\n",
            "Epoch 47/100\n",
            "17/18 [===========================>..] - ETA: 0s - loss: 20.4753Epoch 1/100\n",
            "18/18 [==============================] - 9s 492ms/step - loss: 19.9429 - val_loss: 30.9725\n",
            "Epoch 48/100\n",
            "17/18 [===========================>..] - ETA: 0s - loss: 19.7370Epoch 1/100\n",
            "18/18 [==============================] - 9s 490ms/step - loss: 19.9488 - val_loss: 30.9596\n",
            "Epoch 49/100\n",
            "17/18 [===========================>..] - ETA: 0s - loss: 20.1286Epoch 1/100\n",
            "18/18 [==============================] - 9s 515ms/step - loss: 19.9546 - val_loss: 30.9687\n",
            "Epoch 50/100\n",
            "17/18 [===========================>..] - ETA: 0s - loss: 20.1166Epoch 1/100\n",
            "18/18 [==============================] - 9s 512ms/step - loss: 19.9529 - val_loss: 30.9820\n",
            "Epoch 51/100\n",
            "17/18 [===========================>..] - ETA: 0s - loss: 20.2240Epoch 1/100\n",
            "18/18 [==============================] - 9s 486ms/step - loss: 19.9535 - val_loss: 30.9687\n",
            "Epoch 52/100\n",
            "17/18 [===========================>..] - ETA: 0s - loss: 20.0211Epoch 1/100\n",
            "18/18 [==============================] - 9s 497ms/step - loss: 19.9526 - val_loss: 30.9486\n",
            "Epoch 53/100\n",
            "17/18 [===========================>..] - ETA: 0s - loss: 20.4773Epoch 1/100\n",
            "18/18 [==============================] - 9s 488ms/step - loss: 19.9495 - val_loss: 30.9738\n",
            "Epoch 54/100\n",
            "17/18 [===========================>..] - ETA: 0s - loss: 20.8404Epoch 1/100\n",
            "18/18 [==============================] - 9s 488ms/step - loss: 19.9634 - val_loss: 31.0277\n",
            "Epoch 55/100\n",
            "17/18 [===========================>..] - ETA: 0s - loss: 19.5954Epoch 1/100\n",
            "18/18 [==============================] - 9s 502ms/step - loss: 19.9851 - val_loss: 30.9931\n",
            "Epoch 56/100\n",
            "17/18 [===========================>..] - ETA: 0s - loss: 20.4915Epoch 1/100\n",
            "18/18 [==============================] - 9s 522ms/step - loss: 19.9615 - val_loss: 31.0054\n",
            "Epoch 57/100\n",
            "17/18 [===========================>..] - ETA: 0s - loss: 20.0257Epoch 1/100\n",
            "18/18 [==============================] - 9s 502ms/step - loss: 19.9592 - val_loss: 30.9610\n",
            "Epoch 58/100\n",
            "17/18 [===========================>..] - ETA: 0s - loss: 20.1091Epoch 1/100\n",
            "18/18 [==============================] - 9s 495ms/step - loss: 19.9462 - val_loss: 30.9825\n",
            "Epoch 59/100\n",
            "17/18 [===========================>..] - ETA: 0s - loss: 20.3627Epoch 1/100\n",
            "18/18 [==============================] - 9s 500ms/step - loss: 19.9689 - val_loss: 30.9746\n",
            "Epoch 60/100\n",
            "17/18 [===========================>..] - ETA: 0s - loss: 19.8080Epoch 1/100\n",
            "18/18 [==============================] - 9s 485ms/step - loss: 19.9666 - val_loss: 30.9956\n",
            "Epoch 61/100\n",
            "17/18 [===========================>..] - ETA: 0s - loss: 20.4374Epoch 1/100\n",
            "18/18 [==============================] - 9s 482ms/step - loss: 19.9625 - val_loss: 30.9701\n",
            "Epoch 62/100\n",
            "17/18 [===========================>..] - ETA: 0s - loss: 19.8043Epoch 1/100\n",
            "18/18 [==============================] - 9s 500ms/step - loss: 19.9646 - val_loss: 30.9729\n",
            "Epoch 63/100\n",
            "17/18 [===========================>..] - ETA: 0s - loss: 20.8376Epoch 1/100\n",
            "18/18 [==============================] - 9s 521ms/step - loss: 19.9651 - val_loss: 31.0148\n",
            "Epoch 64/100\n",
            "17/18 [===========================>..] - ETA: 0s - loss: 20.2251Epoch 1/100\n",
            "18/18 [==============================] - 9s 494ms/step - loss: 19.9638 - val_loss: 31.0143\n",
            "Epoch 65/100\n",
            "17/18 [===========================>..] - ETA: 0s - loss: 18.6867Epoch 1/100\n",
            "18/18 [==============================] - 9s 490ms/step - loss: 19.9899 - val_loss: 30.9897\n",
            "Epoch 66/100\n",
            "17/18 [===========================>..] - ETA: 0s - loss: 20.1309Epoch 1/100\n",
            "18/18 [==============================] - 9s 490ms/step - loss: 19.9725 - val_loss: 31.0111\n",
            "Epoch 67/100\n",
            "17/18 [===========================>..] - ETA: 0s - loss: 20.2759Epoch 1/100\n",
            "18/18 [==============================] - 9s 480ms/step - loss: 19.9648 - val_loss: 30.9766\n",
            "Epoch 68/100\n",
            "17/18 [===========================>..] - ETA: 0s - loss: 20.4983Epoch 1/100\n",
            "18/18 [==============================] - 9s 482ms/step - loss: 19.9665 - val_loss: 30.9705\n",
            "Epoch 69/100\n",
            "17/18 [===========================>..] - ETA: 0s - loss: 20.5023Epoch 1/100\n",
            "18/18 [==============================] - 9s 521ms/step - loss: 19.9740 - val_loss: 30.9706\n",
            "Epoch 70/100\n",
            "17/18 [===========================>..] - ETA: 0s - loss: 20.2433Epoch 1/100\n",
            "18/18 [==============================] - 9s 517ms/step - loss: 19.9783 - val_loss: 30.9630\n",
            "Epoch 71/100\n",
            "17/18 [===========================>..] - ETA: 0s - loss: 20.2351Epoch 1/100\n",
            "18/18 [==============================] - 9s 488ms/step - loss: 19.9699 - val_loss: 30.9927\n",
            "Epoch 72/100\n",
            "17/18 [===========================>..] - ETA: 0s - loss: 18.6737Epoch 1/100\n",
            "18/18 [==============================] - 9s 488ms/step - loss: 19.9768 - val_loss: 31.0212\n",
            "Epoch 73/100\n",
            "17/18 [===========================>..] - ETA: 0s - loss: 20.5178Epoch 1/100\n",
            "18/18 [==============================] - 9s 488ms/step - loss: 19.9832 - val_loss: 31.0231\n",
            "Epoch 74/100\n",
            "17/18 [===========================>..] - ETA: 0s - loss: 18.8660Epoch 1/100\n",
            "18/18 [==============================] - 9s 493ms/step - loss: 19.9923 - val_loss: 31.0369\n",
            "Epoch 75/100\n",
            "17/18 [===========================>..] - ETA: 0s - loss: 20.2913Epoch 1/100\n",
            "18/18 [==============================] - 9s 496ms/step - loss: 19.9784 - val_loss: 30.9916\n",
            "Epoch 76/100\n",
            "17/18 [===========================>..] - ETA: 0s - loss: 20.3795Epoch 1/100\n",
            "18/18 [==============================] - 9s 525ms/step - loss: 19.9851 - val_loss: 30.9956\n",
            "Epoch 77/100\n",
            "17/18 [===========================>..] - ETA: 0s - loss: 20.4575Epoch 1/100\n",
            "18/18 [==============================] - 9s 497ms/step - loss: 19.9780 - val_loss: 31.0152\n",
            "Epoch 78/100\n",
            "17/18 [===========================>..] - ETA: 0s - loss: 20.2490Epoch 1/100\n",
            "18/18 [==============================] - 9s 486ms/step - loss: 19.9757 - val_loss: 31.0010\n",
            "Epoch 79/100\n",
            "17/18 [===========================>..] - ETA: 0s - loss: 20.2905Epoch 1/100\n",
            "18/18 [==============================] - 9s 488ms/step - loss: 19.9758 - val_loss: 30.9590\n",
            "Epoch 80/100\n",
            "17/18 [===========================>..] - ETA: 0s - loss: 20.5032Epoch 1/100\n",
            "18/18 [==============================] - 9s 490ms/step - loss: 19.9723 - val_loss: 30.9699\n",
            "Epoch 81/100\n",
            "17/18 [===========================>..] - ETA: 0s - loss: 20.4985Epoch 1/100\n",
            "18/18 [==============================] - 9s 478ms/step - loss: 20.0182 - val_loss: 31.0218\n",
            "Epoch 82/100\n",
            "17/18 [===========================>..] - ETA: 0s - loss: 20.0725Epoch 1/100\n",
            "18/18 [==============================] - 9s 501ms/step - loss: 19.9982 - val_loss: 30.9867\n",
            "Epoch 83/100\n",
            "17/18 [===========================>..] - ETA: 0s - loss: 18.8490Epoch 1/100\n",
            "18/18 [==============================] - 10s 537ms/step - loss: 19.9768 - val_loss: 30.9897\n",
            "Epoch 84/100\n",
            "17/18 [===========================>..] - ETA: 0s - loss: 20.1572Epoch 1/100\n",
            "18/18 [==============================] - 9s 487ms/step - loss: 19.9849 - val_loss: 30.9914\n",
            "Epoch 85/100\n",
            "17/18 [===========================>..] - ETA: 0s - loss: 20.1618Epoch 1/100\n",
            "18/18 [==============================] - 9s 485ms/step - loss: 19.9909 - val_loss: 30.9844\n",
            "Epoch 86/100\n",
            "17/18 [===========================>..] - ETA: 0s - loss: 19.6128Epoch 1/100\n",
            "18/18 [==============================] - 9s 498ms/step - loss: 20.0025 - val_loss: 30.9906\n",
            "Epoch 87/100\n",
            "17/18 [===========================>..] - ETA: 0s - loss: 19.8395Epoch 1/100\n",
            "18/18 [==============================] - 9s 495ms/step - loss: 20.0003 - val_loss: 30.9667\n",
            "Epoch 88/100\n",
            "17/18 [===========================>..] - ETA: 0s - loss: 20.0562Epoch 1/100\n",
            "18/18 [==============================] - 9s 482ms/step - loss: 19.9819 - val_loss: 30.9625\n",
            "Epoch 89/100\n",
            "17/18 [===========================>..] - ETA: 0s - loss: 20.4620Epoch 1/100\n",
            "18/18 [==============================] - 9s 516ms/step - loss: 19.9868 - val_loss: 30.9981\n",
            "Epoch 90/100\n",
            "17/18 [===========================>..] - ETA: 0s - loss: 20.0635Epoch 1/100\n",
            "18/18 [==============================] - 9s 513ms/step - loss: 19.9895 - val_loss: 31.0240\n",
            "Epoch 91/100\n",
            "17/18 [===========================>..] - ETA: 0s - loss: 20.0733Epoch 1/100\n",
            "18/18 [==============================] - 9s 486ms/step - loss: 20.0051 - val_loss: 30.9642\n",
            "Epoch 92/100\n",
            "17/18 [===========================>..] - ETA: 0s - loss: 20.1748Epoch 1/100\n",
            "18/18 [==============================] - 9s 499ms/step - loss: 20.0020 - val_loss: 30.9832\n",
            "Epoch 93/100\n",
            "17/18 [===========================>..] - ETA: 0s - loss: 20.1388Epoch 1/100\n",
            "18/18 [==============================] - 9s 487ms/step - loss: 19.9732 - val_loss: 30.9760\n",
            "Epoch 94/100\n",
            "17/18 [===========================>..] - ETA: 0s - loss: 19.7824Epoch 1/100\n",
            "18/18 [==============================] - 9s 483ms/step - loss: 19.9748 - val_loss: 30.9743\n",
            "Epoch 95/100\n",
            "17/18 [===========================>..] - ETA: 0s - loss: 20.2999Epoch 1/100\n",
            "18/18 [==============================] - 9s 497ms/step - loss: 19.9873 - val_loss: 31.0323\n",
            "Epoch 96/100\n",
            "17/18 [===========================>..] - ETA: 0s - loss: 20.3733Epoch 1/100\n",
            "18/18 [==============================] - 9s 505ms/step - loss: 19.9813 - val_loss: 30.9816\n",
            "Epoch 97/100\n",
            "17/18 [===========================>..] - ETA: 0s - loss: 20.5150Epoch 1/100\n",
            "18/18 [==============================] - 9s 517ms/step - loss: 19.9869 - val_loss: 30.9856\n",
            "Epoch 98/100\n",
            "17/18 [===========================>..] - ETA: 0s - loss: 20.2799Epoch 1/100\n",
            "18/18 [==============================] - 9s 481ms/step - loss: 20.0071 - val_loss: 31.0259\n",
            "Epoch 99/100\n",
            "17/18 [===========================>..] - ETA: 0s - loss: 18.8951Epoch 1/100\n",
            "18/18 [==============================] - 9s 483ms/step - loss: 20.0251 - val_loss: 30.9843\n",
            "Epoch 100/100\n",
            "17/18 [===========================>..] - ETA: 0s - loss: 20.8670Epoch 1/100\n",
            "18/18 [==============================] - 9s 495ms/step - loss: 19.9894 - val_loss: 30.9898\n"
          ],
          "name": "stdout"
        },
        {
          "output_type": "execute_result",
          "data": {
            "text/plain": [
              "<tensorflow.python.keras.callbacks.History at 0x7fe481950b70>"
            ]
          },
          "metadata": {
            "tags": []
          },
          "execution_count": 37
        }
      ]
    },
    {
      "cell_type": "code",
      "metadata": {
        "id": "q1aJD0-gzyPI",
        "outputId": "b52b34c3-55c3-494f-e474-314c4d16f463",
        "colab": {
          "base_uri": "https://localhost:8080/",
          "height": 221
        }
      },
      "source": [
        "learner.validate(class_names=preproc.get_classes())"
      ],
      "execution_count": null,
      "outputs": [
        {
          "output_type": "stream",
          "text": [
            "   F1: 77.89\n",
            "           precision    recall  f1-score   support\n",
            "\n",
            "      ORG       0.87      0.93      0.90        14\n",
            "     TECH       0.79      0.77      0.78        62\n",
            "     TOOL       0.68      0.81      0.74        16\n",
            "      PER       0.00      0.00      0.00         3\n",
            "\n",
            "micro avg       0.78      0.78      0.78        95\n",
            "macro avg       0.76      0.78      0.77        95\n",
            "\n"
          ],
          "name": "stdout"
        },
        {
          "output_type": "execute_result",
          "data": {
            "text/plain": [
              "0.7789473684210526"
            ]
          },
          "metadata": {
            "tags": []
          },
          "execution_count": 38
        }
      ]
    },
    {
      "cell_type": "markdown",
      "metadata": {
        "id": "snFNYlDp0Mwg"
      },
      "source": [
        "Our F1-score is 83.87 after 100 epochs of training"
      ]
    },
    {
      "cell_type": "markdown",
      "metadata": {
        "id": "aNnWQwPl0cau"
      },
      "source": [
        "Let's invoke view_top_losses to see the sentence we got the most wrong. This single sentence about VISHAL MALVIY contains 1 word that is misclassified."
      ]
    },
    {
      "cell_type": "code",
      "metadata": {
        "id": "m8WiRvZez7eK",
        "outputId": "e73e04cf-32d8-45b2-c2af-d98d4138432c",
        "colab": {
          "base_uri": "https://localhost:8080/",
          "height": 1000
        }
      },
      "source": [
        "learner.view_top_losses(n=1)"
      ],
      "execution_count": null,
      "outputs": [
        {
          "output_type": "stream",
          "text": [
            "total incorrect: 10\n",
            "Word            True : (Pred)\n",
            "==============================\n",
            ")              :O     (O)\n",
            "Languages      :O     (O)\n",
            "Core           :O     (B-TECH)\n",
            "java,          :O     (I-TECH)\n",
            "Yang           :O     (O)\n",
            "UI             :O     (O)\n",
            "Special        :O     (O)\n",
            "Tools          :O     (O)\n",
            "Eclipse        :S-TOOL (S-TOOL)\n",
            "Database       :O     (B-TOOL)\n",
            "Oracle         :S-TECH (I-TOOL)\n",
            "O/s/Software/Server:O     (O)\n",
            "Window,        :O     (O)\n",
            "SVN            :S-TOOL (O)\n",
            "karaf,Docker   :O     (O)\n",
            "Project        :O     (O)\n",
            "Name           :O     (O)\n",
            "ETMF           :O     (O)\n",
            "Bulk           :O     (O)\n",
            "Loader         :O     (O)\n",
            "Client         :O     (O)\n",
            "GSK            :O     (O)\n",
            "Role           :O     (O)\n",
            "Developer,     :O     (O)\n",
            "Support,       :O     (O)\n",
            "Testing        :O     (O)\n",
            "and            :O     (O)\n",
            "maintenance    :O     (O)\n",
            "Team           :O     (O)\n",
            "Size           :O     (O)\n",
            "6              :O     (O)\n",
            "Summary        :O     (O)\n",
            "ETMF           :O     (O)\n",
            "Bulk           :O     (O)\n",
            "uploader       :O     (O)\n",
            "is             :O     (O)\n",
            "middle         :O     (O)\n",
            "layer          :O     (O)\n",
            "application    :O     (O)\n",
            "which          :O     (O)\n",
            "provide        :O     (O)\n",
            "solution       :O     (O)\n",
            "to             :O     (O)\n",
            "upload         :O     (O)\n",
            "bulk           :O     (O)\n",
            "number         :O     (O)\n",
            "of             :O     (O)\n",
            "files          :O     (O)\n",
            "from           :O     (O)\n",
            "CRO            :O     (O)\n",
            "staging        :O     (O)\n",
            "area           :O     (O)\n",
            "to             :O     (O)\n",
            "target         :O     (O)\n",
            "system(CARS)   :O     (O)\n",
            "including      :O     (O)\n",
            "all            :O     (O)\n",
            "the            :O     (O)\n",
            "required       :O     (O)\n",
            "operation(unzip:O     (O)\n",
            "file           :O     (O)\n",
            "from           :O     (O)\n",
            "CRO            :O     (O)\n",
            "staging        :O     (O)\n",
            "area,          :O     (O)\n",
            "validation     :O     (O)\n",
            ",transformation:O     (O)\n",
            "and            :O     (O)\n",
            "uploading      :O     (O)\n",
            "the            :O     (O)\n",
            "files          :O     (O)\n",
            "in             :O     (O)\n",
            "target         :O     (O)\n",
            "repository     :O     (O)\n",
            "Languages      :O     (O)\n",
            "Core           :O     (B-TECH)\n",
            "J2EE           :S-TECH (I-TECH)\n",
            "java,Struts    :O     (O)\n",
            "Java           :S-TECH (S-TECH)\n",
            "2,Hibernate,Script:O     (O)\n",
            "Special        :O     (O)\n",
            "Tools          :O     (O)\n",
            "Eclipse        :O     (S-TOOL)\n",
            "Database       :O     (O)\n",
            "Oracle         :O     (S-TECH)\n",
            "O/s/Software/Server:O     (O)\n",
            "Window,        :O     (O)\n",
            "Tomcat         :S-TOOL (S-TOOL)\n",
            "SVN            :O     (I-ORG)\n",
            "Project        :O     (O)\n",
            "Name           :O     (O)\n",
            "Saudi          :O     (O)\n",
            "Telecom        :O     (O)\n",
            "Company-My     :O     (O)\n",
            "link           :O     (O)\n",
            "IGATE)         :O     (O)\n",
            "Riyadh(Saudi   :O     (O)\n",
            "Arabia)        :O     (O)\n",
            "Client         :O     (O)\n",
            "STC            :O     (O)\n",
            "Role           :O     (O)\n",
            "Developer,     :O     (O)\n",
            "Support,       :O     (O)\n",
            "Testing        :O     (O)\n",
            "and            :O     (O)\n",
            "maintenance    :O     (O)\n",
            "Team           :O     (O)\n",
            "Size           :O     (O)\n",
            "10             :O     (O)\n",
            "Summary        :O     (O)\n",
            "My             :O     (O)\n",
            "link           :O     (O)\n",
            "IGATE          :O     (O)\n",
            "was            :O     (O)\n",
            "the            :O     (O)\n",
            "internal       :O     (O)\n",
            "project        :O     (O)\n",
            "of             :O     (O)\n",
            "STC            :O     (O)\n",
            "It             :O     (O)\n",
            "was            :O     (O)\n",
            "widely         :O     (O)\n",
            "used           :O     (O)\n",
            "by             :O     (O)\n",
            "STC            :O     (O)\n",
            "employee       :O     (O)\n",
            "to             :O     (O)\n",
            "raise          :O     (O)\n",
            "request        :O     (O)\n",
            "like           :O     (O)\n",
            "ultimatix      :O     (O)\n",
            "\n",
            "\n"
          ],
          "name": "stdout"
        }
      ]
    },
    {
      "cell_type": "markdown",
      "metadata": {
        "id": "3IAWP1Ig1BWw"
      },
      "source": [
        "#### Making Predictions on New Sentences"
      ]
    },
    {
      "cell_type": "markdown",
      "metadata": {
        "id": "Gd1Vyo9y1LbB"
      },
      "source": [
        "Let's use our model to extract entities from new sentences. We begin by instantating a Predictor object."
      ]
    },
    {
      "cell_type": "code",
      "metadata": {
        "id": "5_ZQ-rWH0gjM"
      },
      "source": [
        "predictor = ktrain.get_predictor(learner.model, preproc)"
      ],
      "execution_count": null,
      "outputs": []
    },
    {
      "cell_type": "code",
      "metadata": {
        "id": "rs8DT8Bo1OqJ",
        "outputId": "f81a438d-f41a-4870-9595-6d885c386144",
        "colab": {
          "base_uri": "https://localhost:8080/",
          "height": 187
        }
      },
      "source": [
        "predictor.predict('Tilak has 2 years of experience in Python and Java')"
      ],
      "execution_count": null,
      "outputs": [
        {
          "output_type": "execute_result",
          "data": {
            "text/plain": [
              "[('Tilak', 'O'),\n",
              " ('has', 'O'),\n",
              " ('2', 'O'),\n",
              " ('years', 'O'),\n",
              " ('of', 'O'),\n",
              " ('experience', 'O'),\n",
              " ('in', 'O'),\n",
              " ('Python', 'S-TECH'),\n",
              " ('and', 'O'),\n",
              " ('Java', 'S-TECH')]"
            ]
          },
          "metadata": {
            "tags": []
          },
          "execution_count": 41
        }
      ]
    },
    {
      "cell_type": "code",
      "metadata": {
        "id": "qETtr82Z1Xpu",
        "outputId": "c73c9b6a-ece9-4d05-b8d4-dfc8d7e5bb0e",
        "colab": {
          "base_uri": "https://localhost:8080/",
          "height": 34
        }
      },
      "source": [
        "predictor.predict(\"Angular\")"
      ],
      "execution_count": null,
      "outputs": [
        {
          "output_type": "execute_result",
          "data": {
            "text/plain": [
              "[('Angular', 'O')]"
            ]
          },
          "metadata": {
            "tags": []
          },
          "execution_count": 42
        }
      ]
    },
    {
      "cell_type": "code",
      "metadata": {
        "id": "M4U1Kur81eY5",
        "outputId": "b1d821d8-dedf-445e-d223-d6f5967958bd",
        "colab": {
          "base_uri": "https://localhost:8080/",
          "height": 34
        }
      },
      "source": [
        "predictor.predict(\"Python\")"
      ],
      "execution_count": null,
      "outputs": [
        {
          "output_type": "execute_result",
          "data": {
            "text/plain": [
              "[('Python', 'S-TECH')]"
            ]
          },
          "metadata": {
            "tags": []
          },
          "execution_count": 43
        }
      ]
    },
    {
      "cell_type": "code",
      "metadata": {
        "id": "mSB_YHVp1iY4",
        "outputId": "12226513-28a5-4180-9726-b92dbad263cd",
        "colab": {
          "base_uri": "https://localhost:8080/",
          "height": 34
        }
      },
      "source": [
        "predictor.predict(\"Google Cloud Platform\")"
      ],
      "execution_count": null,
      "outputs": [
        {
          "output_type": "execute_result",
          "data": {
            "text/plain": [
              "[('Google', 'B-TOOL'), ('Cloud', 'I-TOOL'), ('Platform', 'I-TOOL')]"
            ]
          },
          "metadata": {
            "tags": []
          },
          "execution_count": 44
        }
      ]
    },
    {
      "cell_type": "code",
      "metadata": {
        "id": "HWE-9ECv1pla",
        "outputId": "283010c5-399c-4304-f5ac-83f5cf2fbe7a",
        "colab": {
          "base_uri": "https://localhost:8080/",
          "height": 34
        }
      },
      "source": [
        "predictor.predict(\"Cloud\")"
      ],
      "execution_count": null,
      "outputs": [
        {
          "output_type": "execute_result",
          "data": {
            "text/plain": [
              "[('Cloud', 'O')]"
            ]
          },
          "metadata": {
            "tags": []
          },
          "execution_count": 45
        }
      ]
    },
    {
      "cell_type": "code",
      "metadata": {
        "id": "6kUfOPbc1sfL",
        "outputId": "e2aa3806-a010-4c98-c0b9-bb10aab4735a",
        "colab": {
          "base_uri": "https://localhost:8080/",
          "height": 34
        }
      },
      "source": [
        "predictor.predict(\"Google Cloud Platform\")"
      ],
      "execution_count": null,
      "outputs": [
        {
          "output_type": "execute_result",
          "data": {
            "text/plain": [
              "[('Google', 'B-TOOL'), ('Cloud', 'I-TOOL'), ('Platform', 'I-TOOL')]"
            ]
          },
          "metadata": {
            "tags": []
          },
          "execution_count": 48
        }
      ]
    },
    {
      "cell_type": "markdown",
      "metadata": {
        "id": "7_9CwUhk12Vl"
      },
      "source": [
        "#### We can save the predictor for later deployment."
      ]
    },
    {
      "cell_type": "code",
      "metadata": {
        "id": "SmNBk6_L1xJ9"
      },
      "source": [
        "predictor.save('/content/drive/My Drive/Seq_Tag_ktrain/mypred')"
      ],
      "execution_count": null,
      "outputs": []
    },
    {
      "cell_type": "code",
      "metadata": {
        "id": "Q_1a7qip2InF",
        "outputId": "d313c2ea-281b-4ad4-f0ac-34813c77717f",
        "colab": {
          "base_uri": "https://localhost:8080/",
          "height": 88
        }
      },
      "source": [
        "reloaded_predictor = ktrain.load_predictor('/content/drive/My Drive/Seq_Tag_ktrain/mypred')"
      ],
      "execution_count": null,
      "outputs": [
        {
          "output_type": "stream",
          "text": [
            "WARNING: AutoGraph could not transform <bound method CRF.viterbi_decoding of <ktrain.text.ner.anago.layers.CRF object at 0x7fe481a336a0>> and will run it as-is.\n",
            "Please report this to the TensorFlow team. When filing the bug, set the verbosity to 10 (on Linux, `export AUTOGRAPH_VERBOSITY=10`) and attach the full output.\n",
            "Cause: LIVE_VARS_IN\n"
          ],
          "name": "stdout"
        }
      ]
    },
    {
      "cell_type": "code",
      "metadata": {
        "id": "Y61EBFij2UZG",
        "outputId": "5d016f7c-6cf2-4613-82da-013edf5a43f4",
        "colab": {
          "base_uri": "https://localhost:8080/",
          "height": 34
        }
      },
      "source": [
        "reloaded_predictor.predict('Python')"
      ],
      "execution_count": null,
      "outputs": [
        {
          "output_type": "execute_result",
          "data": {
            "text/plain": [
              "[('Python', 'S-TECH')]"
            ]
          },
          "metadata": {
            "tags": []
          },
          "execution_count": 52
        }
      ]
    },
    {
      "cell_type": "code",
      "metadata": {
        "id": "MHWNHZAp2aS9"
      },
      "source": [
        ""
      ],
      "execution_count": null,
      "outputs": []
    }
  ]
}