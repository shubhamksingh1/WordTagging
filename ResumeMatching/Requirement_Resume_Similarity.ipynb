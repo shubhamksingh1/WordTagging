{
  "nbformat": 4,
  "nbformat_minor": 0,
  "metadata": {
    "colab": {
      "name": "Requirement_Resume_Similarity.ipynb",
      "provenance": [],
      "collapsed_sections": [],
      "mount_file_id": "1g7SaKjRsZvg3JezLtWmt7tl6oXiS6sbF",
      "authorship_tag": "ABX9TyPyH/3QEuAV3MK/WWQZbtv+",
      "include_colab_link": true
    },
    "kernelspec": {
      "name": "python3",
      "display_name": "Python 3"
    },
    "accelerator": "GPU"
  },
  "cells": [
    {
      "cell_type": "markdown",
      "metadata": {
        "id": "view-in-github",
        "colab_type": "text"
      },
      "source": [
        "<a href=\"https://colab.research.google.com/github/shubhamksingh1/WordTagging/blob/main/ResumeMatching/Requirement_Resume_Similarity.ipynb\" target=\"_parent\"><img src=\"https://colab.research.google.com/assets/colab-badge.svg\" alt=\"Open In Colab\"/></a>"
      ]
    },
    {
      "cell_type": "code",
      "metadata": {
        "id": "_c1kc1b_91TH"
      },
      "source": [
        "import nltk"
      ],
      "execution_count": null,
      "outputs": []
    },
    {
      "cell_type": "code",
      "metadata": {
        "id": "R-XMkZz99v9X",
        "colab": {
          "base_uri": "https://localhost:8080/",
          "height": 68
        },
        "outputId": "82f72cb0-eff6-4a6a-9a01-81a9f232ffcb"
      },
      "source": [
        "nltk.download('stopwords')"
      ],
      "execution_count": null,
      "outputs": [
        {
          "output_type": "stream",
          "text": [
            "[nltk_data] Downloading package stopwords to /root/nltk_data...\n",
            "[nltk_data]   Package stopwords is already up-to-date!\n"
          ],
          "name": "stdout"
        },
        {
          "output_type": "execute_result",
          "data": {
            "text/plain": [
              "True"
            ]
          },
          "metadata": {
            "tags": []
          },
          "execution_count": 74
        }
      ]
    },
    {
      "cell_type": "code",
      "metadata": {
        "id": "t1ef6QNJ9oBp"
      },
      "source": [
        "import re\n",
        "from sklearn.metrics.pairwise import cosine_similarity\n",
        "from sklearn.feature_extraction.text import CountVectorizer\n",
        "from nltk.stem.snowball import SnowballStemmer\n",
        "from nltk.corpus import stopwords"
      ],
      "execution_count": null,
      "outputs": []
    },
    {
      "cell_type": "code",
      "metadata": {
        "id": "1e3hD-K71b4v"
      },
      "source": [
        "resumelist=[]\n",
        "jd=\"\""
      ],
      "execution_count": null,
      "outputs": []
    },
    {
      "cell_type": "code",
      "metadata": {
        "id": "ekSA2DjkzVrH",
        "colab": {
          "base_uri": "https://localhost:8080/",
          "height": 85
        },
        "outputId": "815e2907-6163-465c-adf7-2659914d1457"
      },
      "source": [
        "import glob   \n",
        "path = '/content/drive/My Drive/Resume_Match/resume/*.txt'   \n",
        "files=glob.glob(path)   \n",
        "for file in files: \n",
        "    print(file)\n",
        "    f=open(file, 'r') \n",
        "    resumelist.append(f.read()) \n",
        "    f.close()"
      ],
      "execution_count": null,
      "outputs": [
        {
          "output_type": "stream",
          "text": [
            "/content/drive/My Drive/Resume_Match/resume/resume1_other_tags.txt\n",
            "/content/drive/My Drive/Resume_Match/resume/resume2_other_tags.txt\n",
            "/content/drive/My Drive/Resume_Match/resume/resume4_other_tags.txt\n",
            "/content/drive/My Drive/Resume_Match/resume/resume3_other_tags.txt\n"
          ],
          "name": "stdout"
        }
      ]
    },
    {
      "cell_type": "code",
      "metadata": {
        "id": "wVzM-BRV3d4C",
        "colab": {
          "base_uri": "https://localhost:8080/",
          "height": 105
        },
        "outputId": "20098f43-2dab-467d-cc39-e477e809d581"
      },
      "source": [
        "resumelist"
      ],
      "execution_count": null,
      "outputs": [
        {
          "output_type": "execute_result",
          "data": {
            "text/plain": [
              "[\"maheshwari . @ . com . Nithin Gopinadh ' s Profile . Shruti Maheshwari ( 1009005 ) . Contact : + 91 9887770063 . mail : . SYSTEM ENGINEER . 36 months experience in Working in Conversational Experience Unit in B . Tech in Computer Science . System Engineer with 36 months experience . Certifications : . Certification Name . Acquired On . Digital : Artificial Intelligence Intermediate . 25 - May - 2018 . Digital : Fundamentals of AI _ . 23 - May - 2018 . Process : Agile Way of Working Foundation . 04 - Jun - 2016 . Digital : BigData and Hadoop Ecosystems _ . 01 - Dec - 2015 . . Development Tools . Octave , Atom , SQL . Languages . Python , Angular2 , NodeJS . Database . . Operating System . Windows 10 . PROFESSIONAL EXPERIENCE . . System engineer . 10 - 2015 – 07 - 2018 . EDUCATIONAL & PROFESSIONAL CREDENTIALS . Education . Board / University . Year of Passing . % of Marks . Secondary . CBSE . 2009 . 86 . Higher Secondary . CBSE . 2011 . 83 . Bachelor . RTU . 2015 . . Award Name . Category . Sub - Category . On The Spot Award . Awards for Excellence . On The Spot Awards . Maitree Prize . Beyond Performance Awards . Maitree Awards . Company Name : LTD , INDIA . Roles & Responsibilities : . Worked in a client facing role in which Complete handover is involved . Develop strategies and process fixation techniques . Automate various day - to - day processes resulting in faster yield . Leads a small team . Project Details : . Project Name . Diligenta . Client . Insurance . Role . Developer & Analyst . Team Size . 10 . Summary . Identified problem areas and heavily contributed to the stability of system . Software / Languages . Batch Scripting & VB scripting . Project Details : . Roles & Responsibilities : Developer . Exploring conversational services provided by various technologies mainly Google and preparing documents out of it . Conduct Knowledge sharing session for the explored technology for the entire team . Configured bots in ( using ) in Google , Lambda ( using ) in Amazon . Project Details : . Project Name . Conversational Experiences . Client . Internal . Role . Developer . Software / Languages . Angular 2 , Python , NodeJS . OTHER DETAILS . Date of Birth : 06 - 02 - 1993 . Language Proficiency : English , Hindi .\",\n",
              " \"( sanjivani . tiwari @ . com ) . Nithin Gopinadh ' s Profile . Sanjivani Tiwari ( 1091961 ) . Contact : + 91 ( 9993962838 ) . mail : . ASSISTANT SYSTEM ENGINEER . 1 + Year experience in BestBuy . EXPERIENCE SUMMARY . Assistant System Engineer and worked for BestBuy ( US Client ) Ltd ( ) . Graduated in B E – Information Technology ( RGPV University ) . 1 + year of IT experience Worked extensively in Support and maintenance project of Layer7 , Unix I have knowledge of Layer7 and Have basic knowledge of Tools like Eclipse , Net Beans Have experience in working with Windows and Linux machines . TECHNICAL SKILLS . Development Tools . Eclipse , Netbeans . Languages . , HTML , . Database . MySQL . Servers / Portal . Windows server , CA Policy Manager , Putty , SecureShell . Operating System . Windows XP , Windows 7 , Windows 10 , Linux . PROFESSIONAL EXPERIENCE . . Assistant System Engineer - Trainee . 10 - 2016 tO 10 - 2017 . . ASE . 10 - 2017 to till date . EDUCATIONAL & PROFESSIONAL CREDENTIALS . Education . Board / University . Year of Passing . % of Marks . Secondary . CBSE . 2010 . 86 . Higher Secondary . CBSE . 2012 . 67 . Bachelor . Rajiv Gandhi Technical University . 2016 . 73 . TRAINING . Training in development from Quest Eduventures Indore . Training in Networking from BSNL Indore . Training in ITIS from Technopark , Trivandrum , Kerala . 6 - week training in Conversational Experiences . PROJECT ANNEXURE . Company Name : LTD , INDIA . Project Name . Conversational Experiences . Client . Internal . Role . Developer . Summary . Preparing Chatbots in different Technologies like Amazon , Google , Kore al using , , Python3 , Node Js . Project Name . BestBuy ( BBY ) . Client . BestBuy . Role . System Administrator . Team Size . 18 . Summary . Best Buy Co , Inc is an American multinational consumer electronics retailer headquartered in Richfield , Minnesota I was in Layer7 Team BBY ' s Layer7 was a security gateway whose servers host numerous URL services I was responsible as system administrator for layer7 servers for Production , ProdLike , ProdTest , Test and Dev Enviroment servers and Windows servers as well Handled Troubleshooting , configuration and maintenance of Bestbuy ' s servers , URLs etc . Languages . , Unix , . Special Tools . , putty , Secure Shell Client . Database . . OS / Software / Server . Windows server . OTHER DETAILS . Date of Birth : 01 - 01 - 1994 . Language Proficiency : English and Hindi .\",\n",
              " \"b . srikar @ . com . Nithin Gopinadh ' s Profile . SRIKAR BRAHMADEVARA ( 1515634 ) . Contact : + 919492552552 mail : . ASSISTANT SYSTEM ENGINEER . 5 + months experience in Working in Conversational Experience Unit in . PROFILE . Assistant System Engineer with 5 + months experience . Certifications : ILP certification in for 3 months competency certificates in , , CSS , , Javascript . Education Detail : B . Tech in Information technology from Gokaraju Rangaraju Intitute of Engineering and Technology . TECHNICAL SKILLS . Development Tool . , Anakonda . Languages . Node js , Python 3 , Unix , , HTML . Database . Sql , Postgre . PROFESSIONAL EXPERIENCE . . Assistant System Engineer . 03 / 2018 – till date . EDUCATIONAL & PROFESSIONAL CREDENTIALS . Education . Board / University . Year of Passing . % of Marks . Secondary . . Narayana Junior College , Hyderabad . 2013 . . Gokaraju Rangaraju Intitute of Engineering and Technology , Hyderbad . 2017 . 67 . PROJECT ANNEXURE . Company Name : LTD , INDIA . Roles & Responsibilities : Developer . Exploring conversational services provided by various technologies mainly Google and preparing documents out of it . Conduct Knowledge sharing session for the explored technology for the entire team . Configured bots in ( using ) in Google , Lambda ( using ) in Amazon . Project Name . Conversational Experiences . Client . Internal . Role . Developer . Summary . Preparing Chatbots in different Technologies like Amazon , Google , Kore al using , CSS , , Node Js . OTHER DETAILS . Date of Birth : 22 . 07 Date of Birth : 22 .\",\n",
              " \"( monika . joshi2 @ . com ) . Nithin Gopinadh ' s Profile . Monika Joshi ( 1242148 ) . Contact : + 91 ( 7486894869 ) . mail : . EXPERIENCE SUMMARY . 2 Years of IT experience in Informatica Powercenter ( ETL tool ) . Experience in designing ETL processes and developing source to target mappings . Expert in developing , testing , and deploying ETL solutions . Familiarity with data warehousing solutions in an Oracle 10g environment . Proven experience in utilizing databases such as Oracle and Teradata . Excellent Analysis and problem solving and communication skills . TECHNICAL SKILLS . Tool . Informatica Powercentre ( 9 Powercentre ( 9 . 6 . EDUCATIONAL & PROFESSIONAL CREDENTIALS . Education . Board / University . Year of Passing . % of Marks . High School . MP Board . 2009 . . MP Board . 2011 . . Rajiv Gandhi Proudyogiki Vishwavidyalaya . 2015 . . I have done BIPM training from ILP Trivandrum . Attended session on Powercenter . Conducted one training program on ETL tool . Attented session on conversational business system . Attended different session of Google , Amazon , and Facebook . Working on POC on Google bot by making Dialogflow , . PROJECT ANNEXURE . Company Name : LTD , INDIA . Roles & Responsibilities : Developer . Exploring conversational services provided by various technologies mainly Google and preparing documents out of it . Conduct Knowledge sharing session for the explored technology for the entire team . Configured bots in ( using ) in Google , Lambda ( using ) in Amazon . Project Name . Conversational Experiences . Client . Internal . Role . Developer . Summary . Preparing Chatbots in different Technologies like Amazon , Google , Kore al using , HTML , , , Node Js . Project Name . Eli Lilly and Company . Duration . 2 Years . Role . ETL Developer . Responsibility . Designing ETL components Developed the informatica component as per the design Created SSRS reports for audit access with Informatica performance tuning involving level , target level and map level bottlenecks Performed unit testing at various levels of the ETL and actively involved in team code reviews . Project Name . ILP - Trivandrum participants . Role . ILP Trainee . Period . 01 - Apr - 2016 To 26 - Jun - 2016 . Responsibilities . To be an effective learner and turn out to be a good resource . Languages . , Script , Angular JS . Technical Skills . powercenter 9 6 . 1 , MSSQL , Oracle , SAP BO powercenter 9 . 6 1 , MSSQL , Oracle , SAP BO . Language Proficiency : English , Hindi and Gujrati .\"]"
            ]
          },
          "metadata": {
            "tags": []
          },
          "execution_count": 78
        }
      ]
    },
    {
      "cell_type": "code",
      "metadata": {
        "id": "BA_AtFMj3iMu",
        "colab": {
          "base_uri": "https://localhost:8080/",
          "height": 34
        },
        "outputId": "4e1d3303-2d7a-44cb-ba27-f9e3b8e70787"
      },
      "source": [
        "len(resumelist)"
      ],
      "execution_count": null,
      "outputs": [
        {
          "output_type": "execute_result",
          "data": {
            "text/plain": [
              "4"
            ]
          },
          "metadata": {
            "tags": []
          },
          "execution_count": 79
        }
      ]
    },
    {
      "cell_type": "code",
      "metadata": {
        "id": "c862iFa4003J"
      },
      "source": [
        "f=open(\"/content/drive/My Drive/Resume_Match/jd/jd_other_tags_query_model.txt\",'r')\n",
        "jd = f.read()"
      ],
      "execution_count": null,
      "outputs": []
    },
    {
      "cell_type": "code",
      "metadata": {
        "id": "g8hNx1mY3Gd-",
        "colab": {
          "base_uri": "https://localhost:8080/",
          "height": 54
        },
        "outputId": "10072cdb-094d-4d80-b8df-57a68289a9f6"
      },
      "source": [
        "jd"
      ],
      "execution_count": null,
      "outputs": [
        {
          "output_type": "execute_result",
          "data": {
            "text/plain": [
              "\"As a member of the development team , you will design , , debug , and deliver innovative Business Analytics product that involve , SCSS , technologies Responsibilities : Build software applications , following established coding standards Work as part of a distributed development team including other developers , QA engineers and documentation specialists Communicate continually with the project teams , explains progress on the development effort Contribute to continuous improvement by suggesting improvements to user interface , software architecture or recommending new technologies Perform maintenance and enhancements on existing software Ensure quality of work through development standards and QA procedure Qualifications : Solid skills utilizing , , Object - Oriented , MVVM , technology Solid understanding of OOP principles Solid skills utilizing client side frameworks such as jQuery / Knockout Experience using JET is a plus Expertise in debugging and resolving client - side functionality and performance issues across modern browsers Hands - on experience using source control tools such as or Basic understanding of Agile / Scrum development methodologies Strong written and verbal English communication skills Bachelor ' s degree in computer science , computer engineering or equivalent experience Typically requires 4 + years of related experience\""
            ]
          },
          "metadata": {
            "tags": []
          },
          "execution_count": 81
        }
      ]
    },
    {
      "cell_type": "code",
      "metadata": {
        "id": "a7riAfc34hzq"
      },
      "source": [
        "\n",
        "ss = SnowballStemmer(\"english\", ignore_stopwords=True)\n",
        "stop = set(stopwords.words(\"english\"))"
      ],
      "execution_count": null,
      "outputs": []
    },
    {
      "cell_type": "code",
      "metadata": {
        "id": "0_vjTjTP-Fh4"
      },
      "source": [
        "def listToString(s):  \n",
        "    \n",
        "    # initialize an empty string \n",
        "    str1 = \" \" \n",
        "    \n",
        "    # return string   \n",
        "    return (str1.join(s)) "
      ],
      "execution_count": null,
      "outputs": []
    },
    {
      "cell_type": "code",
      "metadata": {
        "id": "WIxuJeZJ-SI1"
      },
      "source": [
        "def cleaning_text(inp):\n",
        "    reply = re.sub('[^a-zA-Z]', ' ', str(inp))\n",
        "    reply = reply.lower()\n",
        "    reply = reply.split()\n",
        "    reply = [ss.stem(word) for word in reply if not word in set(stop)]\n",
        "    reply = list(set(reply))\n",
        "    reply = listToString(reply)\n",
        "    return reply"
      ],
      "execution_count": null,
      "outputs": []
    },
    {
      "cell_type": "code",
      "metadata": {
        "id": "0C9msAWn-Xk-",
        "colab": {
          "base_uri": "https://localhost:8080/",
          "height": 54
        },
        "outputId": "903a9912-ee6f-4124-9dfa-01b216c87a96"
      },
      "source": [
        "clean_jd = cleaning_text(jd)\n",
        "print(clean_jd)"
      ],
      "execution_count": null,
      "outputs": [
        {
          "output_type": "stream",
          "text": [
            "document establish use hand project contribut comput written perform busi ensur basic experi object modern qualif develop jqueri plus explain jet understand progress procedur communic exist member browser control side english interfac innov part follow team includ scrum effort design skill orient relat respons principl product standard requir bachelor code mainten solid function knockout suggest methodolog qa work verbal tool across engin degre client debug applic deliv softwar improv strong resolv continu technolog issu year mvvm framework specialist user new involv build scss analyt typic expertis distribut recommend enhanc util equival qualiti oop sourc scienc agil architectur\n"
          ],
          "name": "stdout"
        }
      ]
    },
    {
      "cell_type": "code",
      "metadata": {
        "id": "4EGUi1hY-pJF"
      },
      "source": [
        "clean_resume=[]"
      ],
      "execution_count": null,
      "outputs": []
    },
    {
      "cell_type": "code",
      "metadata": {
        "id": "pVF49H8t_GAP"
      },
      "source": [
        "clean_resume = [cleaning_text(ele) for ele in resumelist]"
      ],
      "execution_count": null,
      "outputs": []
    },
    {
      "cell_type": "code",
      "metadata": {
        "id": "XzxwAI4c_Rmw",
        "colab": {
          "base_uri": "https://localhost:8080/",
          "height": 105
        },
        "outputId": "53e2a395-abf0-4c5d-8ee6-f2645447c26f"
      },
      "source": [
        "clean_resume"
      ],
      "execution_count": null,
      "outputs": [
        {
          "output_type": "execute_result",
          "data": {
            "text/plain": [
              "['tech octav document role use diligenta project contribut nodej stabil handov comput intellig databas perform prize hadoop various experi oper develop entir name problem face vb script identifi profil com day summari may intermedi compani maitre bot english month credenti python pass knowledg ltd share board india birth higher strategi fundament b window insur date acquir team complet bigdata mail atom prepar system spot unit ecosystem lead size heavili small respons lambda process award nithin profici hindi cbse ai profession amazon bachelor explor categori digit autom faster way excel batch jun session sub work maheshwari shruti tool artifici contact engin languag analyst main educ client intern gopinadh googl secondari softwar configur yield mark dec rtu sql provid technolog year detail servic convers area involv foundat univers certif beyond result techniqu angular conduct scienc fixat agil',\n",
              " 'till role use net project multin trivandrum network databas basic retail administr experi oper eclips whose bean develop name differ unix us profil layer com os polici bbi summari putti compani annexur etc assist host portal well english url credenti python gateway pass kore knowledg mysql ase xp ltd prodtest board kerala india birth secureshel iti higher gandhi prodlik special secur b window week date team shell html ca mail skill prepar system size netbean train respons manag nithin technic profici product cbse dev hindi co rajiv quest profession amazon buy node e bachelor numer inform mainten extens tiwari inc al js work eduventur support tool machin contact engin languag educ client troubleshoot intern gopinadh technopark linux googl indor secondari minnesota enviro configur softwar rgpv mark chatbot technolog year headquart servic detail convers electron test best handl traine bestbuy univers american server bsnl graduat like sanjivani consum richfield',\n",
              " 'tech till document srikar role use brahmadevara project hyderabad databas various experi develop hyderbad javascript name entir differ unix profil com summari compani annexur assist bot month credenti python junior pass kore knowledg ltd share board india birth rangaraju b date team gokaraju html mail skill anakonda prepar system unit respons lambda nithin technic compet profession amazon node explor narayana inform session intitut al js colleg work tool postgr contact engin languag main educ client intern gopinadh googl secondari configur mark chatbot sql technolog provid year css detail servic convers ilp univers certif like conduct',\n",
              " 'document gujrati effect role use project trivandrum access databas perform busi bo various experi one report vishwavidyalaya develop informatica name problem entir oracl differ creat tune script dialogflow eli monika profil familiar com communic lilli joshi summari per compani annexur g solut bot mssql teradata english credenti pass kore knowledg school ltd period high share board india target gandhi make apr powercentr team html level audit mail design skill prepar system unit train respons lambda etl process nithin wareh technic profici hindi attent rajiv profession proudyogiki amazon node explor code data proven excel particip jun review turn session done durat map al learner js bipm work tool attend contact languag bottleneck expert main educ compon client intern gopinadh deploy googl configur mark environ chatbot provid technolog year servic convers solv test traine facebook involv resourc univers ilp sap powercent mp program like analysi util activ angular conduct sourc ssrs good poc']"
            ]
          },
          "metadata": {
            "tags": []
          },
          "execution_count": 90
        }
      ]
    },
    {
      "cell_type": "code",
      "metadata": {
        "id": "C1aIjk8P3xo3"
      },
      "source": [
        "def compute_similarity(str1,str2):\n",
        "    train = [str1]\n",
        "    test = [str2]\n",
        "   \n",
        "    count = CountVectorizer(stop_words = 'english', lowercase = True)\n",
        "\n",
        "    #Construct the required TF-IDF matrix by fitting and transforming the data\n",
        "    count_jd = count.fit_transform(train)\n",
        "    # print(count.get_feature_names())\n",
        "    \n",
        "    count_resume = count.transform(test)\n",
        "\n",
        "    cosine_sim = cosine_similarity(count_jd, count_resume)\n",
        "    return cosine_sim\n"
      ],
      "execution_count": null,
      "outputs": []
    },
    {
      "cell_type": "code",
      "metadata": {
        "id": "KgCN4jxNAN3C"
      },
      "source": [
        "score_uncleaned = [compute_similarity(jd,resumelist[i])[0][0] for i in range(len(resumelist))]"
      ],
      "execution_count": null,
      "outputs": []
    },
    {
      "cell_type": "code",
      "metadata": {
        "id": "eSbrO5UqAl5Z",
        "colab": {
          "base_uri": "https://localhost:8080/",
          "height": 85
        },
        "outputId": "691a7e8e-b21e-4d99-f942-96ac71740a5c"
      },
      "source": [
        "score_uncleaned"
      ],
      "execution_count": null,
      "outputs": [
        {
          "output_type": "execute_result",
          "data": {
            "text/plain": [
              "[0.4841269841269841,\n",
              " 0.5006521613016781,\n",
              " 0.44081445317192564,\n",
              " 0.478375937328547]"
            ]
          },
          "metadata": {
            "tags": []
          },
          "execution_count": 114
        }
      ]
    },
    {
      "cell_type": "code",
      "metadata": {
        "id": "wRt6ctNB4vhd"
      },
      "source": [
        "score_cleaned = [compute_similarity(clean_jd,clean_resume[i])[0][0] for i in range(len(clean_resume))]"
      ],
      "execution_count": null,
      "outputs": []
    },
    {
      "cell_type": "code",
      "metadata": {
        "id": "x6XZYqmy7IJe",
        "colab": {
          "base_uri": "https://localhost:8080/",
          "height": 85
        },
        "outputId": "60b1fc8b-2549-4823-b5d0-7efdaf64c68c"
      },
      "source": [
        "score_cleaned"
      ],
      "execution_count": null,
      "outputs": [
        {
          "output_type": "execute_result",
          "data": {
            "text/plain": [
              "[0.48377944684689683,\n",
              " 0.44958609806628586,\n",
              " 0.3859224924939798,\n",
              " 0.48377944684689683]"
            ]
          },
          "metadata": {
            "tags": []
          },
          "execution_count": 116
        }
      ]
    },
    {
      "cell_type": "code",
      "metadata": {
        "id": "EXLkaCoG9GKo"
      },
      "source": [
        ""
      ],
      "execution_count": null,
      "outputs": []
    },
    {
      "cell_type": "code",
      "metadata": {
        "id": "XjjWiBo_6dCh"
      },
      "source": [
        ""
      ],
      "execution_count": null,
      "outputs": []
    },
    {
      "cell_type": "code",
      "metadata": {
        "id": "KWko5aIR8m6U"
      },
      "source": [
        ""
      ],
      "execution_count": null,
      "outputs": []
    }
  ]
}